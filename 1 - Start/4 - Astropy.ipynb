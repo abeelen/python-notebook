{
 "metadata": {
  "name": "",
  "signature": "sha256:3db1c287b4bf1bb01e0514a310363210bfaf0872efe4216d31e7287708913048"
 },
 "nbformat": 3,
 "nbformat_minor": 0,
 "worksheets": [
  {
   "cells": [
    {
     "cell_type": "markdown",
     "metadata": {},
     "source": [
      "Using the library Astropy to read fits/ascii tables and convert astronomical coordinates (http://www.astropy.org/)"
     ]
    },
    {
     "cell_type": "heading",
     "level": 1,
     "metadata": {},
     "source": [
      "Fits Files"
     ]
    },
    {
     "cell_type": "heading",
     "level": 2,
     "metadata": {},
     "source": [
      "Reading a fits file (pyfits)"
     ]
    },
    {
     "cell_type": "code",
     "collapsed": false,
     "input": [
      "from astropy.io import fits as pyfits\n",
      "\n",
      "filename = \"data.fits\"\n",
      "pyfits.info(filename) # will display the content of the fits file (several extensions here)"
     ],
     "language": "python",
     "metadata": {},
     "outputs": []
    },
    {
     "cell_type": "code",
     "collapsed": false,
     "input": [
      "image, header = pyfits.getdata(filename,'image',header=True) # let's read the extension image only"
     ],
     "language": "python",
     "metadata": {},
     "outputs": []
    },
    {
     "cell_type": "code",
     "collapsed": false,
     "input": [
      "print image[100:103,100:103] # image contains the actual data"
     ],
     "language": "python",
     "metadata": {},
     "outputs": []
    },
    {
     "cell_type": "code",
     "collapsed": false,
     "input": [
      "header # header describe all the image in term of astrometry/unit/size"
     ],
     "language": "python",
     "metadata": {},
     "outputs": []
    },
    {
     "cell_type": "code",
     "collapsed": false,
     "input": [
      "print header['naxis1'], header['naxis2'] # this correpond to the size of the image\n",
      "print image.shape"
     ],
     "language": "python",
     "metadata": {},
     "outputs": []
    },
    {
     "cell_type": "heading",
     "level": 2,
     "metadata": {},
     "source": [
      "Sky Coordinates Manipulation (pyWCS)"
     ]
    },
    {
     "cell_type": "code",
     "collapsed": false,
     "input": [
      "from astropy import wcs as pywcs\n",
      "wcs = pywcs.WCS(header) # You can use the header to create a wcs (World Coordinate System) object."
     ],
     "language": "python",
     "metadata": {},
     "outputs": []
    },
    {
     "cell_type": "code",
     "collapsed": false,
     "input": [
      "(ra, dec) = wcs.wcs_pix2world(0.,0.,0) # sky coordinate of the center of the first pixel (0,0)\n",
      "print ra, dec\n",
      "(x, y )   = wcs.wcs_world2pix(ra,dec,0) # back to pixel coordinate\n",
      "print x, y"
     ],
     "language": "python",
     "metadata": {},
     "outputs": []
    },
    {
     "cell_type": "heading",
     "level": 2,
     "metadata": {},
     "source": [
      "Plotting using matplotlib and pywcsgrid2"
     ]
    },
    {
     "cell_type": "markdown",
     "metadata": {},
     "source": [
      "Raw plot of the image (pixel indexed, origin in the lower left corner)"
     ]
    },
    {
     "cell_type": "code",
     "collapsed": false,
     "input": [
      "import matplotlib.pyplot as plt\n",
      "import pywcsgrid2\n",
      "\n",
      "plt.ion()\n",
      "\n",
      "ax = plt.subplot(211)\n",
      "ax.imshow(image, origin=\"lower\", interpolation=\"None\", vmin=-2e-2, vmax=5e-2)"
     ],
     "language": "python",
     "metadata": {},
     "outputs": []
    },
    {
     "cell_type": "markdown",
     "metadata": {},
     "source": [
      "Plot of the image using the astronomical axes (using http://leejjoon.github.io/pywcsgrid2/ but you may considerate APLpy http://aplpy.github.io/ )"
     ]
    },
    {
     "cell_type": "code",
     "collapsed": false,
     "input": [
      "ax_wcs = pywcsgrid2.subplot(212,header=wcs)\n",
      "ax_wcs.imshow(image, origin=\"lower\", interpolation=\"None\", vmin=-2e-2, vmax=5e-2)\n",
      "ax_wcs.grid()"
     ],
     "language": "python",
     "metadata": {},
     "outputs": []
    },
    {
     "cell_type": "code",
     "collapsed": false,
     "input": [
      "ax_wcs.set_display_coord_system(\"gal\") # change the system of coordinates for the axes\n",
      "plt.show()"
     ],
     "language": "python",
     "metadata": {},
     "outputs": []
    },
    {
     "cell_type": "heading",
     "level": 1,
     "metadata": {},
     "source": [
      "Reading ASCII files"
     ]
    },
    {
     "cell_type": "markdown",
     "metadata": {},
     "source": [
      "This package can read and write in most of the ascii format that are used in astronomy http://cxc.harvard.edu/contrib/asciitable/"
     ]
    },
    {
     "cell_type": "code",
     "collapsed": false,
     "input": [
      "from astropy.io import ascii as asciitable \n",
      "\n",
      "catalog = asciitable.read('sources.txt') # ASCII w/wo header - CSV - IPAC - CdS - Daophot - LaTex\n",
      "print catalog"
     ],
     "language": "python",
     "metadata": {},
     "outputs": []
    },
    {
     "cell_type": "code",
     "collapsed": false,
     "input": [
      "(x,y) = wcs.wcs_world2pix(catalog['ra'], catalog['dec'],0)"
     ],
     "language": "python",
     "metadata": {},
     "outputs": []
    },
    {
     "cell_type": "code",
     "collapsed": false,
     "input": [
      "plt.imshow(image, origin=\"lower\", interpolation=\"None\", vmin=-2e-2, vmax=5e-2)\n",
      "plt.scatter(x,y, color='r')"
     ],
     "language": "python",
     "metadata": {},
     "outputs": []
    },
    {
     "cell_type": "code",
     "collapsed": false,
     "input": [
      "asciitable.write(catalog,'sources.tex',Writer=asciitable.Latex) # save it as LaTeX table"
     ],
     "language": "python",
     "metadata": {},
     "outputs": []
    },
    {
     "cell_type": "code",
     "collapsed": false,
     "input": [
      "import astropy.io.votable  as vo_table\n",
      "\n",
      "votable = vo_table.from_table(catalog)\n",
      "vo_table.writeto(votable, 'sources.xml')\n"
     ],
     "language": "python",
     "metadata": {},
     "outputs": []
    },
    {
     "cell_type": "code",
     "collapsed": false,
     "input": [],
     "language": "python",
     "metadata": {},
     "outputs": []
    }
   ],
   "metadata": {}
  }
 ]
}