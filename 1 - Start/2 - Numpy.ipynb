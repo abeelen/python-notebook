{
 "metadata": {
  "name": "",
  "signature": "sha256:7860945cbeb50ea487199f2fd3269ecdbc569ca83a57cbcbed4775d70c4dec90"
 },
 "nbformat": 3,
 "nbformat_minor": 0,
 "worksheets": [
  {
   "cells": [
    {
     "cell_type": "markdown",
     "metadata": {},
     "source": [
      "NumPy is the fundamental package for scientific computing with Python. You can find more tutorials at http://wiki.scipy.org/Tentative_NumPy_Tutorial . Also check http://www.numpy.org for additional informations."
     ]
    },
    {
     "cell_type": "code",
     "collapsed": false,
     "input": [
      "import numpy as np # Convenient to keep namespace separate"
     ],
     "language": "python",
     "metadata": {},
     "outputs": []
    },
    {
     "cell_type": "heading",
     "level": 1,
     "metadata": {},
     "source": [
      "Array creation"
     ]
    },
    {
     "cell_type": "markdown",
     "metadata": {},
     "source": [
      "Unlike python lists, numpy arrays contain objects of ONLY one type."
     ]
    },
    {
     "cell_type": "code",
     "collapsed": false,
     "input": [
      "a = [1,2,3,4]                # from a python list ...\n",
      "myArray = np.array(a)        # ... to a numpy array\n",
      "print myArray\n",
      "print type(myArray)\n",
      "print type(myArray.tolist())"
     ],
     "language": "python",
     "metadata": {},
     "outputs": []
    },
    {
     "cell_type": "markdown",
     "metadata": {},
     "source": [
      "Numpy arrays can be created simply ( as the *indgen in IDL)"
     ]
    },
    {
     "cell_type": "code",
     "collapsed": false,
     "input": [
      "print np.arange(10)\n",
      "print np.arange(2,3,0.25)\n",
      "print np.linspace(2,3,5)"
     ],
     "language": "python",
     "metadata": {},
     "outputs": []
    },
    {
     "cell_type": "code",
     "collapsed": false,
     "input": [
      "a = np.zeros((2,2))         # by defaults fill array with float64 zeros\n",
      "print a\n",
      "print np.ndim(a)            # dimension of the array\n",
      "print np.shape(a),  a.shape # shape of the array length of all dimensions (both valid=\n",
      "print a.dtype               # type of variable\n",
      "print type(a)\n",
      "\n",
      "b = np.ones((2,2), dtype=np.int64) # defining the type explicitely\n",
      "print b\n",
      "print b.dtype"
     ],
     "language": "python",
     "metadata": {},
     "outputs": []
    },
    {
     "cell_type": "heading",
     "level": 1,
     "metadata": {},
     "source": [
      "Accessing array elements"
     ]
    },
    {
     "cell_type": "code",
     "collapsed": false,
     "input": [
      "a[0][1]= 1.0\n",
      "a[1,1] = 2.0 \n",
      "print a\n",
      "print \"a[0] = \", a[0] # first row\n",
      "print \"a[1] = \", a[1] # second row"
     ],
     "language": "python",
     "metadata": {},
     "outputs": []
    },
    {
     "cell_type": "markdown",
     "metadata": {},
     "source": [
      "One can also access arrays with slices."
     ]
    },
    {
     "cell_type": "code",
     "collapsed": false,
     "input": [
      "print \"a[:,0] = \", a[:,0] # here the ':' represents a slice containing all elements\n",
      "print \"a[:,1] = \", a[:,1]\n",
      "print \"a[0,:] = \", a[0,:]\n",
      "print \"a[1,:] = \", a[1,:]"
     ],
     "language": "python",
     "metadata": {},
     "outputs": []
    },
    {
     "cell_type": "code",
     "collapsed": false,
     "input": [
      "c = np.arange(5*5).reshape(5,5) # a square array\n",
      "print c\n",
      "print c[0:3,0]    # from 0 to 3 (excluded) on the first axis\n",
      "print c[0:4:2, 1] # from 0 to 4 (excluded) every 2 elements on the second axis"
     ],
     "language": "python",
     "metadata": {},
     "outputs": []
    },
    {
     "cell_type": "code",
     "collapsed": false,
     "input": [
      "d = np.random.uniform(size=6)*10\n",
      "print d\n",
      "print d[[2,1,4]] # accessing through a list of indexes"
     ],
     "language": "python",
     "metadata": {},
     "outputs": []
    },
    {
     "cell_type": "heading",
     "level": 1,
     "metadata": {},
     "source": [
      "Array operations"
     ]
    },
    {
     "cell_type": "markdown",
     "metadata": {},
     "source": [
      "Arithmetic operations are element wise"
     ]
    },
    {
     "cell_type": "code",
     "collapsed": false,
     "input": [
      "c = np.array([[1,2],[3,4]])\n",
      "print (a+2)+(b*4)*c # upcasting is always happening"
     ],
     "language": "python",
     "metadata": {},
     "outputs": []
    },
    {
     "cell_type": "code",
     "collapsed": false,
     "input": [
      "print a*c # is done element wise\n",
      "print np.dot(a,c) # is the matrix product."
     ],
     "language": "python",
     "metadata": {},
     "outputs": []
    },
    {
     "cell_type": "code",
     "collapsed": false,
     "input": [
      "vector = np.arange(10)\n",
      "print vector, \"\\n\",vector**2, \"\\n\",sqrt(vector) # return arrays with the function applied to each element\n",
      "print np.min(vector), np.max(vector), np.mean(vector), np.sum(vector) # special functions\n",
      "print vector.min(), vector.max(), vector.sum()                        # same functions"
     ],
     "language": "python",
     "metadata": {},
     "outputs": []
    },
    {
     "cell_type": "code",
     "collapsed": false,
     "input": [
      "matrix = np.arange(3*4).reshape(3,4)\n",
      "print matrix\n",
      "\n",
      "print matrix.sum(axis=0) # sum over the first axis\n",
      "\n",
      "print matrix.sum(axis=1) # sum over the second axis"
     ],
     "language": "python",
     "metadata": {},
     "outputs": []
    },
    {
     "cell_type": "heading",
     "level": 1,
     "metadata": {},
     "source": [
      "Where !"
     ]
    },
    {
     "cell_type": "code",
     "collapsed": false,
     "input": [
      "rand = np.random.uniform(size=6)\n",
      "print rand \n",
      "print rand > 0.5                           # return an array of booleans (element wise operation)\n",
      "print np.where(rand > 0.5)                 # return the indexes where the condition is True\n",
      "print np.where(rand > 0.5, rand, np.nan)   # return an array constructed from the condition (here just put nan when False)"
     ],
     "language": "python",
     "metadata": {},
     "outputs": []
    },
    {
     "cell_type": "code",
     "collapsed": false,
     "input": [],
     "language": "python",
     "metadata": {},
     "outputs": []
    }
   ],
   "metadata": {}
  }
 ]
}