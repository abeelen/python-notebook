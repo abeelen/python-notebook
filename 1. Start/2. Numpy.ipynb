{
 "metadata": {
  "name": "",
  "signature": "sha256:02a948cadb6446a521fc8f1d4b2f2ba587362f5c1e5e2c277d80663d21700bfc"
 },
 "nbformat": 3,
 "nbformat_minor": 0,
 "worksheets": [
  {
   "cells": [
    {
     "cell_type": "markdown",
     "metadata": {},
     "source": [
      "# Numpy"
     ]
    },
    {
     "cell_type": "markdown",
     "metadata": {},
     "source": [
      "NumPy is the fundamental package for scientific computing with Python. You can find more tutorials at http://wiki.scipy.org/Tentative_NumPy_Tutorial . Also check http://www.numpy.org for additional informations."
     ]
    },
    {
     "cell_type": "code",
     "collapsed": false,
     "input": [
      "#from __future__ import print_function, division  # uncomment that line if you are using python 2\n",
      "\n",
      "import numpy as np"
     ],
     "language": "python",
     "metadata": {},
     "outputs": []
    },
    {
     "cell_type": "heading",
     "level": 2,
     "metadata": {},
     "source": [
      "Array creation"
     ]
    },
    {
     "cell_type": "markdown",
     "metadata": {},
     "source": [
      "`numpy` arrays are generally defined from lists"
     ]
    },
    {
     "cell_type": "markdown",
     "metadata": {},
     "source": [
      "Unlike python lists, numpy arrays contain objects of ONLY one type."
     ]
    },
    {
     "cell_type": "code",
     "collapsed": false,
     "input": [
      "# 1D array\n",
      "np.array([1, 2, 3, 4])"
     ],
     "language": "python",
     "metadata": {},
     "outputs": []
    },
    {
     "cell_type": "code",
     "collapsed": false,
     "input": [
      "# 2D array\n",
      "np.array([[1, 2], [3, 4]])"
     ],
     "language": "python",
     "metadata": {},
     "outputs": []
    },
    {
     "cell_type": "code",
     "collapsed": false,
     "input": [
      "a = np.array([[1, 2], [3, 4]])\n",
      "print(type(a))"
     ],
     "language": "python",
     "metadata": {},
     "outputs": []
    },
    {
     "cell_type": "markdown",
     "metadata": {},
     "source": [
      "A `numpy` array is an object with many attributes"
     ]
    },
    {
     "cell_type": "code",
     "collapsed": false,
     "input": [
      "print('a =', a)\n",
      "print('the numpy array a has')\n",
      "print('\\ta length :', a.size)\n",
      "print('\\ta number of dimensions :', a.ndim)\n",
      "print('\\ta shape :', a.shape)\n",
      "print('\\ta data type :', a.dtype)"
     ],
     "language": "python",
     "metadata": {},
     "outputs": []
    },
    {
     "cell_type": "markdown",
     "metadata": {},
     "source": [
      "**NOTE:** Unlike python lists, numpy arrays contain objects of ONLY one data type. By default, the data type (`dtype`) is usually set to **`float`** which corresponds to 64-byte float or `np.float64`"
     ]
    },
    {
     "cell_type": "markdown",
     "metadata": {},
     "source": [
      "### `empty`, `zeros` and `ones`\n",
      "To quickly initialize a `numpy` array, there are a few convenience methods that only require a shape as input (and optionally a dtype).."
     ]
    },
    {
     "cell_type": "code",
     "collapsed": false,
     "input": [
      "np.empty((3, 3))"
     ],
     "language": "python",
     "metadata": {},
     "outputs": []
    },
    {
     "cell_type": "code",
     "collapsed": false,
     "input": [
      "np.zeros((2, 2), dtype=float)"
     ],
     "language": "python",
     "metadata": {},
     "outputs": []
    },
    {
     "cell_type": "code",
     "collapsed": false,
     "input": [
      "np.ones((3, 5), dtype=int)"
     ],
     "language": "python",
     "metadata": {},
     "outputs": []
    },
    {
     "cell_type": "markdown",
     "metadata": {},
     "source": [
      ".. or another numpy array."
     ]
    },
    {
     "cell_type": "code",
     "collapsed": false,
     "input": [
      "np.empty_like(a)"
     ],
     "language": "python",
     "metadata": {},
     "outputs": []
    },
    {
     "cell_type": "code",
     "collapsed": false,
     "input": [
      "np.zeros_like(a, dtype=complex)"
     ],
     "language": "python",
     "metadata": {},
     "outputs": []
    },
    {
     "cell_type": "code",
     "collapsed": false,
     "input": [
      "np.ones_like(a, dtype=str)"
     ],
     "language": "python",
     "metadata": {},
     "outputs": []
    },
    {
     "cell_type": "markdown",
     "metadata": {},
     "source": [
      "### `arange`\n",
      "A range can be quickly created with the **`arange`** method ( as *`indgen`* in IDL)"
     ]
    },
    {
     "cell_type": "code",
     "collapsed": false,
     "input": [
      "np.arange(10)"
     ],
     "language": "python",
     "metadata": {},
     "outputs": []
    },
    {
     "cell_type": "markdown",
     "metadata": {},
     "source": [
      "Additional arguments enable to set the lower and upper bounds as well as the range step."
     ]
    },
    {
     "cell_type": "code",
     "collapsed": false,
     "input": [
      "np.arange(2, 3, 0.25)"
     ],
     "language": "python",
     "metadata": {},
     "outputs": []
    },
    {
     "cell_type": "markdown",
     "metadata": {},
     "source": [
      "### `linspace` and `logspace`\n",
      "Similarly to `arange`, `linspace` and `logspace` are convenience methods to create ranges, but instead of specifying the elements spacing, the constraint is on the total number of elements."
     ]
    },
    {
     "cell_type": "code",
     "collapsed": false,
     "input": [
      "np.linspace(1, 10, 5)"
     ],
     "language": "python",
     "metadata": {},
     "outputs": []
    },
    {
     "cell_type": "markdown",
     "metadata": {},
     "source": [
      "For `logspace`, the boundaries should be specified in `log`."
     ]
    },
    {
     "cell_type": "code",
     "collapsed": false,
     "input": [
      "np.logspace(0, 1, 5)"
     ],
     "language": "python",
     "metadata": {},
     "outputs": []
    },
    {
     "cell_type": "markdown",
     "metadata": {},
     "source": [
      "**NOTE:** `arange` never includes the upper bound while `linespace` and `logspace` do."
     ]
    },
    {
     "cell_type": "markdown",
     "metadata": {},
     "source": [
      "### `ogrid`, `mgrid` and `indices`\n",
      "For multidimensional ranges, `ogrid` creates a column and a row"
     ]
    },
    {
     "cell_type": "code",
     "collapsed": false,
     "input": [
      "np.ogrid[0:3, 0:3]"
     ],
     "language": "python",
     "metadata": {},
     "outputs": []
    },
    {
     "cell_type": "markdown",
     "metadata": {},
     "source": [
      "while `mgrid` and `indices` create the full coordinate arrays"
     ]
    },
    {
     "cell_type": "code",
     "collapsed": false,
     "input": [
      "np.mgrid[0:3, 0:3]"
     ],
     "language": "python",
     "metadata": {},
     "outputs": []
    },
    {
     "cell_type": "code",
     "collapsed": false,
     "input": [
      "np.indices((3, 3))"
     ],
     "language": "python",
     "metadata": {},
     "outputs": []
    },
    {
     "cell_type": "heading",
     "level": 2,
     "metadata": {},
     "source": [
      "Accessing array elements"
     ]
    },
    {
     "cell_type": "markdown",
     "metadata": {},
     "source": [
      "### Indexing in 1D\n",
      "`numpy` arrays are accessed with the same slicing as for lists.\n",
      "\n",
      "**Reminder**: `[start:end:step]`"
     ]
    },
    {
     "cell_type": "code",
     "collapsed": false,
     "input": [
      "b = np.arange(10)\n",
      "b[0:9:2]"
     ],
     "language": "python",
     "metadata": {},
     "outputs": []
    },
    {
     "cell_type": "markdown",
     "metadata": {},
     "source": [
      "### Indexing in n-dimensions\n",
      "The first index represents the row, the second represents the column. Dimensions need to be separated with commas ','."
     ]
    },
    {
     "cell_type": "code",
     "collapsed": false,
     "input": [
      "# Square array from arange with reshape method\n",
      "c = np.arange(5 * 5).reshape(5, 5)\n",
      "print(c)\n",
      "print(c[2, 3])   # Third row, fourth column\n",
      "print(c[-1, 1])  # Last row, second column"
     ],
     "language": "python",
     "metadata": {},
     "outputs": []
    },
    {
     "cell_type": "markdown",
     "metadata": {},
     "source": [
      "To specify \"all the elements along that particular dimension\", use the colon `:`"
     ]
    },
    {
     "cell_type": "code",
     "collapsed": false,
     "input": [
      "d = np.arange(27).reshape(3, 3, 3)\n",
      "print(d)"
     ],
     "language": "python",
     "metadata": {},
     "outputs": [
      {
       "output_type": "stream",
       "stream": "stdout",
       "text": [
        "[[[ 0  1  2]\n",
        "  [ 3  4  5]\n",
        "  [ 6  7  8]]\n",
        "\n",
        " [[ 9 10 11]\n",
        "  [12 13 14]\n",
        "  [15 16 17]]\n",
        "\n",
        " [[18 19 20]\n",
        "  [21 22 23]\n",
        "  [24 25 26]]]\n"
       ]
      }
     ],
     "prompt_number": 83
    },
    {
     "cell_type": "code",
     "collapsed": false,
     "input": [
      "d[0, :, 0]  # First row, entire column of the first slice "
     ],
     "language": "python",
     "metadata": {},
     "outputs": [
      {
       "metadata": {},
       "output_type": "pyout",
       "prompt_number": 84,
       "text": [
        "array([0, 3, 6])"
       ]
      }
     ],
     "prompt_number": 84
    },
    {
     "cell_type": "markdown",
     "metadata": {},
     "source": [
      "If you have many dimensions, you can replace several colons by an ellipsis `...`"
     ]
    },
    {
     "cell_type": "code",
     "collapsed": false,
     "input": [
      "d[..., 1] == d[:, :, 1]"
     ],
     "language": "python",
     "metadata": {},
     "outputs": [
      {
       "metadata": {},
       "output_type": "pyout",
       "prompt_number": 87,
       "text": [
        "array([[ True,  True,  True],\n",
        "       [ True,  True,  True],\n",
        "       [ True,  True,  True]], dtype=bool)"
       ]
      }
     ],
     "prompt_number": 87
    },
    {
     "cell_type": "markdown",
     "metadata": {},
     "source": [
      "### Slicing"
     ]
    },
    {
     "cell_type": "code",
     "collapsed": false,
     "input": [
      "print(\"c[0, :] =\", c[0, :]) # First row equivalent to c[0]\n",
      "print(\"c[1, :] =\", c[1, :]) # Second row equivalent to c[1]\n",
      "print(\"c[:, 0] =\", c[:, 0]) # First column\n",
      "print(\"c[:, 1] =\", c[:, 1]) # Second column"
     ],
     "language": "python",
     "metadata": {},
     "outputs": []
    },
    {
     "cell_type": "markdown",
     "metadata": {},
     "source": [
      "More funky.."
     ]
    },
    {
     "cell_type": "code",
     "collapsed": false,
     "input": [
      "print(c[0:3, 0])       # from 0 to 3 (excluded) on the first axis\n",
      "print(c[0:4:2, 1:5:2]) # from 0 to 4 (excluded) every 2 elements on the 1th to 5th axis every 2 elements"
     ],
     "language": "python",
     "metadata": {},
     "outputs": []
    },
    {
     "cell_type": "markdown",
     "metadata": {},
     "source": [
      "### Fancy indexing\n",
      "`numpy` provides a way to give an array as index for a second array, an operation referred to as *fancy indexing*"
     ]
    },
    {
     "cell_type": "code",
     "collapsed": false,
     "input": [
      "size = 6\n",
      "x = np.random.randint(10, size=size)\n",
      "idx = np.arange(0, size, 2)            # every second integer\n",
      "print(x)\n",
      "print(idx)\n",
      "print(x[idx])"
     ],
     "language": "python",
     "metadata": {},
     "outputs": [
      {
       "output_type": "stream",
       "stream": "stdout",
       "text": [
        "[9 9 2 0 0 5]\n",
        "[0 2 4]\n",
        "[9 2 0]\n"
       ]
      }
     ],
     "prompt_number": 79
    },
    {
     "cell_type": "markdown",
     "metadata": {},
     "source": [
      "This can be useful to extract some information from an array without modifying it."
     ]
    },
    {
     "cell_type": "heading",
     "level": 2,
     "metadata": {},
     "source": [
      "`where` ?"
     ]
    },
    {
     "cell_type": "markdown",
     "metadata": {},
     "source": [
      "This is the magical IDL command, which is rendered almost useless in Python"
     ]
    },
    {
     "cell_type": "code",
     "collapsed": false,
     "input": [
      "# np.random is a submodule of numpy, dedicated to random generators\n",
      "a = np.random.uniform(size=6)\n",
      "print(a)"
     ],
     "language": "python",
     "metadata": {},
     "outputs": []
    },
    {
     "cell_type": "markdown",
     "metadata": {},
     "source": [
      "A simple test operation with a `numpy` array becomes an array of boolean values (element-wise test), which can turn extremely convenient to create masks."
     ]
    },
    {
     "cell_type": "code",
     "collapsed": false,
     "input": [
      "mask = a > 0.5\n",
      "print(mask)"
     ],
     "language": "python",
     "metadata": {},
     "outputs": []
    },
    {
     "cell_type": "markdown",
     "metadata": {},
     "source": [
      "These masks are then used as indices (*fancy indexing*) to only retrieve the elements that match the test criterion."
     ]
    },
    {
     "cell_type": "code",
     "collapsed": false,
     "input": [
      "a[mask]"
     ],
     "language": "python",
     "metadata": {},
     "outputs": []
    },
    {
     "cell_type": "markdown",
     "metadata": {},
     "source": [
      "or that **don't** match the criterion"
     ]
    },
    {
     "cell_type": "code",
     "collapsed": false,
     "input": [
      "a[~mask]"
     ],
     "language": "python",
     "metadata": {},
     "outputs": []
    },
    {
     "cell_type": "markdown",
     "metadata": {},
     "source": [
      "And the tests can be combined all at once, either is plain"
     ]
    },
    {
     "cell_type": "code",
     "collapsed": false,
     "input": [
      "a[(a > 0.4) & (a < 0.7)]"
     ],
     "language": "python",
     "metadata": {},
     "outputs": []
    },
    {
     "cell_type": "markdown",
     "metadata": {},
     "source": [
      "or with `numpy` dedicated methods"
     ]
    },
    {
     "cell_type": "code",
     "collapsed": false,
     "input": [
      "a[np.logical_or(a < 0.3, a > 0.66)]"
     ],
     "language": "python",
     "metadata": {},
     "outputs": []
    },
    {
     "cell_type": "markdown",
     "metadata": {},
     "source": [
      "However to get the indices of the array satisfying certain conditions, then `np.where` should be used"
     ]
    },
    {
     "cell_type": "code",
     "collapsed": false,
     "input": [
      "np.where(a > 0.5)                 # return a tuple with the indexes where the condition is True as first element\n",
      "print(np.where(a > 0.5)[0])       # ... to access directly the indexes"
     ],
     "language": "python",
     "metadata": {},
     "outputs": []
    },
    {
     "cell_type": "markdown",
     "metadata": {},
     "source": [
      "but the best use case for `np.where` is to return an array progamatically : \"if condition is met, return x, otherwise return y\" "
     ]
    },
    {
     "cell_type": "code",
     "collapsed": false,
     "input": [
      "np.where(a > 0.5, a, np.nan)"
     ],
     "language": "python",
     "metadata": {},
     "outputs": []
    },
    {
     "cell_type": "heading",
     "level": 2,
     "metadata": {},
     "source": [
      "Array operations"
     ]
    },
    {
     "cell_type": "markdown",
     "metadata": {},
     "source": [
      "### Basic operations"
     ]
    },
    {
     "cell_type": "code",
     "collapsed": false,
     "input": [
      "c + 1"
     ],
     "language": "python",
     "metadata": {},
     "outputs": [
      {
       "metadata": {},
       "output_type": "pyout",
       "prompt_number": 69,
       "text": [
        "array([[2, 3],\n",
        "       [4, 5]])"
       ]
      }
     ],
     "prompt_number": 69
    },
    {
     "cell_type": "code",
     "collapsed": false,
     "input": [
      "c * 5 - 3 / 2"
     ],
     "language": "python",
     "metadata": {},
     "outputs": [
      {
       "metadata": {},
       "output_type": "pyout",
       "prompt_number": 70,
       "text": [
        "array([[  3.5,   8.5],\n",
        "       [ 13.5,  18.5]])"
       ]
      }
     ],
     "prompt_number": 70
    },
    {
     "cell_type": "markdown",
     "metadata": {},
     "source": [
      "Also work inplace"
     ]
    },
    {
     "cell_type": "code",
     "collapsed": false,
     "input": [
      "c += 3\n",
      "c"
     ],
     "language": "python",
     "metadata": {},
     "outputs": [
      {
       "metadata": {},
       "output_type": "pyout",
       "prompt_number": 81,
       "text": [
        "array([[ 7,  8],\n",
        "       [ 9, 10]])"
       ]
      }
     ],
     "prompt_number": 81
    },
    {
     "cell_type": "markdown",
     "metadata": {},
     "source": [
      "### ufuncs"
     ]
    },
    {
     "cell_type": "markdown",
     "metadata": {},
     "source": [
      "All common arithmetic operations are optimally implemented in `numpy` and take advantage of the C machinery underneath. It means that squaring an array or computing its sum is much more efficient in numpy than just computing it from lists."
     ]
    },
    {
     "cell_type": "code",
     "collapsed": false,
     "input": [
      "%timeit sum(range(10000))"
     ],
     "language": "python",
     "metadata": {},
     "outputs": [
      {
       "output_type": "stream",
       "stream": "stdout",
       "text": [
        "10000 loops, best of 3: 191 \u00b5s per loop\n"
       ]
      }
     ],
     "prompt_number": 43
    },
    {
     "cell_type": "code",
     "collapsed": false,
     "input": [
      "%timeit np.arange(10000).sum()"
     ],
     "language": "python",
     "metadata": {},
     "outputs": [
      {
       "output_type": "stream",
       "stream": "stdout",
       "text": [
        "100000 loops, best of 3: 9.54 \u00b5s per loop\n"
       ]
      }
     ],
     "prompt_number": 44
    },
    {
     "cell_type": "code",
     "collapsed": false,
     "input": [
      "sum(range(10000)) == np.arange(10000).sum()"
     ],
     "language": "python",
     "metadata": {},
     "outputs": [
      {
       "metadata": {},
       "output_type": "pyout",
       "prompt_number": 45,
       "text": [
        "True"
       ]
      }
     ],
     "prompt_number": 45
    },
    {
     "cell_type": "markdown",
     "metadata": {},
     "source": [
      "These small convenience methods are implemented as universal functions (ufunc - http://docs.scipy.org/doc/numpy/reference/ufuncs.html), like `min`, `max`, `mean`, `std`, etc.. can provide information on the whole array"
     ]
    },
    {
     "cell_type": "code",
     "collapsed": false,
     "input": [
      "c"
     ],
     "language": "python",
     "metadata": {},
     "outputs": [
      {
       "metadata": {},
       "output_type": "pyout",
       "prompt_number": 60,
       "text": [
        "array([[1, 2],\n",
        "       [3, 4]])"
       ]
      }
     ],
     "prompt_number": 60
    },
    {
     "cell_type": "code",
     "collapsed": false,
     "input": [
      "c.mean()"
     ],
     "language": "python",
     "metadata": {},
     "outputs": [
      {
       "metadata": {},
       "output_type": "pyout",
       "prompt_number": 62,
       "text": [
        "2.5"
       ]
      }
     ],
     "prompt_number": 62
    },
    {
     "cell_type": "code",
     "collapsed": false,
     "input": [
      "c.std()"
     ],
     "language": "python",
     "metadata": {},
     "outputs": [
      {
       "metadata": {},
       "output_type": "pyout",
       "prompt_number": 63,
       "text": [
        "1.1180339887498949"
       ]
      }
     ],
     "prompt_number": 63
    },
    {
     "cell_type": "markdown",
     "metadata": {},
     "source": [
      "or in multidimensional data, can provide information along a given axis ( 0 = rows | 1 = columns )"
     ]
    },
    {
     "cell_type": "code",
     "collapsed": false,
     "input": [
      "c.sum(axis=1)"
     ],
     "language": "python",
     "metadata": {},
     "outputs": [
      {
       "metadata": {},
       "output_type": "pyout",
       "prompt_number": 66,
       "text": [
        "array([1, 3])"
       ]
      }
     ],
     "prompt_number": 66
    },
    {
     "cell_type": "code",
     "collapsed": false,
     "input": [
      "c.max(axis=0)"
     ],
     "language": "python",
     "metadata": {},
     "outputs": []
    },
    {
     "cell_type": "markdown",
     "metadata": {},
     "source": [
      "This is a simpler way of applying the `np.min()` or `np.std()` functions to the array."
     ]
    },
    {
     "cell_type": "markdown",
     "metadata": {},
     "source": [
      "### Matrices and vectors\n",
      "Operations on vectors and matrices are handled easily, but upcasting (`int => float`) is always happening."
     ]
    },
    {
     "cell_type": "code",
     "collapsed": false,
     "input": [
      "a = np.array([[1, 1],[0, 0]], dtype=float)\n",
      "b = np.array([[1, 1],[1, 1]])\n",
      "c = np.array([[1, 2],[3, 4]])\n",
      "(a + 2) + (b * 4) * c"
     ],
     "language": "python",
     "metadata": {},
     "outputs": [
      {
       "metadata": {},
       "output_type": "pyout",
       "prompt_number": 68,
       "text": [
        "array([[  7.,  11.],\n",
        "       [ 14.,  18.]])"
       ]
      }
     ],
     "prompt_number": 68
    },
    {
     "cell_type": "markdown",
     "metadata": {},
     "source": [
      "Between matrices, there is the element-wise product `*`"
     ]
    },
    {
     "cell_type": "code",
     "collapsed": false,
     "input": [
      "a * c"
     ],
     "language": "python",
     "metadata": {},
     "outputs": []
    },
    {
     "cell_type": "markdown",
     "metadata": {},
     "source": [
      "and the matrix product `np.dot`."
     ]
    },
    {
     "cell_type": "code",
     "collapsed": false,
     "input": [
      "np.dot(a, c)"
     ],
     "language": "python",
     "metadata": {},
     "outputs": []
    },
    {
     "cell_type": "markdown",
     "metadata": {},
     "source": [
      "For more complex operations on vectors and matrices, there is a submodule in `numpy` dedicated to linear algebra called **`np.linalg`** for eigen vector decomposition, inverse operations, etc."
     ]
    },
    {
     "cell_type": "markdown",
     "metadata": {},
     "source": [
      "## Broadcasting"
     ]
    },
    {
     "cell_type": "markdown",
     "metadata": {},
     "source": [
      "One of the major feature of `numpy` is the use of array broadcasting. Broadcasting allows operations (such as addition, multiplication etc.) which are normally element-wise to be carried on arrays of different shapes. It is a virtual replication of the arrays along the missing dimensions. It can be seen as a generalization of operations involving an array and a scalar."
     ]
    },
    {
     "cell_type": "code",
     "collapsed": false,
     "input": [
      "matrix = np.zeros((4, 5))\n",
      "print(\"matrix:\", matrix, sep='\\n\\n')"
     ],
     "language": "python",
     "metadata": {},
     "outputs": [
      {
       "output_type": "stream",
       "stream": "stdout",
       "text": [
        "matrix:\n",
        "\n",
        "[[ 0.  0.  0.  0.  0.]\n",
        " [ 0.  0.  0.  0.  0.]\n",
        " [ 0.  0.  0.  0.  0.]\n",
        " [ 0.  0.  0.  0.  0.]]\n"
       ]
      }
     ],
     "prompt_number": 109
    },
    {
     "cell_type": "markdown",
     "metadata": {},
     "source": [
      "The addition of a scalar on an matrix can be seen as the addition of a matrix with identical elements (and same dimensions)"
     ]
    },
    {
     "cell_type": "code",
     "collapsed": false,
     "input": [
      "matrix + 6"
     ],
     "language": "python",
     "metadata": {},
     "outputs": [
      {
       "metadata": {},
       "output_type": "pyout",
       "prompt_number": 110,
       "text": [
        "array([[ 6.,  6.,  6.,  6.,  6.],\n",
        "       [ 6.,  6.,  6.,  6.,  6.],\n",
        "       [ 6.,  6.,  6.,  6.,  6.],\n",
        "       [ 6.,  6.,  6.,  6.,  6.]])"
       ]
      }
     ],
     "prompt_number": 110
    },
    {
     "cell_type": "markdown",
     "metadata": {},
     "source": [
      "The addition of a row on a matrix will be seen as the addition of a matrix with replicated rows (the number of columns must match)."
     ]
    },
    {
     "cell_type": "code",
     "collapsed": false,
     "input": [
      "row = np.ones(5)\n",
      "print(\"row:\", row, \"matrix + row\", matrix + row, sep='\\n\\n')"
     ],
     "language": "python",
     "metadata": {},
     "outputs": [
      {
       "output_type": "stream",
       "stream": "stdout",
       "text": [
        "row:\n",
        "\n",
        "[ 1.  1.  1.  1.  1.]\n",
        "\n",
        "matrix + row\n",
        "\n",
        "[[ 1.  1.  1.  1.  1.]\n",
        " [ 1.  1.  1.  1.  1.]\n",
        " [ 1.  1.  1.  1.  1.]\n",
        " [ 1.  1.  1.  1.  1.]]\n"
       ]
      }
     ],
     "prompt_number": 115
    },
    {
     "cell_type": "markdown",
     "metadata": {},
     "source": [
      "The addition of a column on a matrix will be seen as the addition of a matrix with replicated columns (the number of rows must match). "
     ]
    },
    {
     "cell_type": "code",
     "collapsed": false,
     "input": [
      "column = np.ones(4)\n",
      "print(\"column:\", column, \"matrix + column\", matrix + column, sep='\\n\\n')"
     ],
     "language": "python",
     "metadata": {},
     "outputs": [
      {
       "ename": "ValueError",
       "evalue": "operands could not be broadcast together with shapes (4,5) (4,) ",
       "output_type": "pyerr",
       "traceback": [
        "\u001b[0;31m---------------------------------------------------------------------------\u001b[0m\n\u001b[0;31mValueError\u001b[0m                                Traceback (most recent call last)",
        "\u001b[0;32m<ipython-input-116-6e864b197845>\u001b[0m in \u001b[0;36m<module>\u001b[0;34m()\u001b[0m\n\u001b[1;32m      1\u001b[0m \u001b[0mcolumn\u001b[0m \u001b[0;34m=\u001b[0m \u001b[0mnp\u001b[0m\u001b[0;34m.\u001b[0m\u001b[0mones\u001b[0m\u001b[0;34m(\u001b[0m\u001b[0;36m4\u001b[0m\u001b[0;34m)\u001b[0m\u001b[0;34m\u001b[0m\u001b[0m\n\u001b[0;32m----> 2\u001b[0;31m \u001b[0mprint\u001b[0m\u001b[0;34m(\u001b[0m\u001b[0;34m\"column:\"\u001b[0m\u001b[0;34m,\u001b[0m \u001b[0mcolumn\u001b[0m\u001b[0;34m,\u001b[0m \u001b[0;34m\"matrix + column\"\u001b[0m\u001b[0;34m,\u001b[0m \u001b[0mmatrix\u001b[0m \u001b[0;34m+\u001b[0m \u001b[0mcolumn\u001b[0m\u001b[0;34m,\u001b[0m \u001b[0msep\u001b[0m\u001b[0;34m=\u001b[0m\u001b[0;34m'\\n\\n'\u001b[0m\u001b[0;34m)\u001b[0m\u001b[0;34m\u001b[0m\u001b[0m\n\u001b[0m",
        "\u001b[0;31mValueError\u001b[0m: operands could not be broadcast together with shapes (4,5) (4,) "
       ]
      }
     ],
     "prompt_number": 116
    },
    {
     "cell_type": "markdown",
     "metadata": {},
     "source": [
      "This one failed since the righmost dimensions are different. So for columns, an additional dimension must be specified and added on the right, indexing the array with an additional `np.newaxis` or simply `None`."
     ]
    },
    {
     "cell_type": "code",
     "collapsed": false,
     "input": [
      "column = np.ones(4)[:, None]   # or np.ones(4)[:, np.newaxis]\n",
      "print(\"column:\", column, \"matrix + column\", matrix + column, sep='\\n\\n')"
     ],
     "language": "python",
     "metadata": {},
     "outputs": [
      {
       "output_type": "stream",
       "stream": "stdout",
       "text": [
        "column:\n",
        "\n",
        "[[ 1.]\n",
        " [ 1.]\n",
        " [ 1.]\n",
        " [ 1.]]\n"
       ]
      }
     ],
     "prompt_number": 113
    },
    {
     "cell_type": "markdown",
     "metadata": {},
     "source": [
      "**NOTE:** In the row case above, the shapes also did not match (4,5) for the matrix and (5,) for the row. The actual rule of broadcasting is that for arrays of different rank, dimensions of length 1 are prepended (added on the left of the array shape) until the two arrays have the same rank.\n",
      "\n",
      "For this reason, arrays with the following shapes can be broadcasted together:\n",
      "* `(1, 1, 1, 8)` and `(9, 1)`\n",
      "* `(4, 1, 9)` and `(3, 1)`"
     ]
    },
    {
     "cell_type": "markdown",
     "metadata": {},
     "source": [
      "## You are looking for a particular method in `numpy` ?"
     ]
    },
    {
     "cell_type": "markdown",
     "metadata": {},
     "source": [
      "Simply use the `lookfor` method.."
     ]
    },
    {
     "cell_type": "code",
     "collapsed": false,
     "input": [
      "np.lookfor('fourier transform')"
     ],
     "language": "python",
     "metadata": {},
     "outputs": []
    },
    {
     "cell_type": "markdown",
     "metadata": {},
     "source": [
      "---"
     ]
    },
    {
     "cell_type": "markdown",
     "metadata": {},
     "source": [
      "# Exercice time !"
     ]
    },
    {
     "cell_type": "markdown",
     "metadata": {},
     "source": [
      "These exercices are extracted from Pierre Chanial `numpy` lecture."
     ]
    },
    {
     "cell_type": "markdown",
     "metadata": {},
     "source": [
      "## 1) Waving for loops goodbye\n",
      "\n",
      "Compute $\\pi$, as given by the Madhava formula:\n",
      "\n",
      "$\\pi = \\sqrt{12}\\sum^\\infty_{k=0} \\frac{(-\\frac{1}{3})^{k}}{2k+1}$.\n",
      "\n",
      "The $k$ indices ranging from 0 to (let\u2019s say) 29 will be returned by the NumPy function arange (see above) and $\\pi$ will be computed by calling another NumPy function (`sum`), instead of using a `for` loop."
     ]
    },
    {
     "cell_type": "code",
     "collapsed": false,
     "input": [
      "\n",
      "# Write your solution here (2 lines expected)\n",
      "\n",
      "print('Relative error:', (pi - np.pi) / np.pi)"
     ],
     "language": "python",
     "metadata": {},
     "outputs": []
    },
    {
     "cell_type": "markdown",
     "metadata": {},
     "source": [
      "---"
     ]
    },
    {
     "cell_type": "markdown",
     "metadata": {},
     "source": [
      "## 2) Computation of $\\pi$ with Monte Carlo\n",
      "Given the random variables X and Y following the uniform distribution between -1 and 1, the probability for the point (X, Y) to be inside the unity disk is the ratio of the surface of the unity disk and that of the unity square, i.e. $\\pi/4$. It is then possible possible to compute $\\pi$ by drawing realizations of X and Y and counting the fraction of points (X, Y) inside the unity disk.\n",
      "\n",
      "Vectorize the following pure Python code, by using NumPy arrays and functions."
     ]
    },
    {
     "cell_type": "code",
     "collapsed": false,
     "input": [
      "from __future__ import print_function, division\n",
      "import math\n",
      "import random\n",
      "\n",
      "NTOTAL = 1000000\n",
      "\n",
      "random.seed(0)\n",
      "ninside = 0\n",
      "for i in xrange(NTOTAL):\n",
      "    x = random.uniform(-1, 1)\n",
      "    y = random.uniform(-1, 1)\n",
      "    ninside += math.sqrt(x**2 + y**2) < 1\n",
      "pi = 4 * ninside / NTOTAL\n",
      "\n",
      "print(pi, abs(math.pi - pi) / math.pi)"
     ],
     "language": "python",
     "metadata": {},
     "outputs": []
    },
    {
     "cell_type": "code",
     "collapsed": false,
     "input": [
      "\n",
      "# Write your solution here\n",
      "\n",
      "print(pi, abs(np.pi - pi), np.pi)"
     ],
     "language": "python",
     "metadata": {},
     "outputs": []
    },
    {
     "cell_type": "markdown",
     "metadata": {},
     "source": [
      "---"
     ]
    },
    {
     "cell_type": "markdown",
     "metadata": {},
     "source": [
      "## 3) Broadcasting theory\n",
      "Try to predict the output shape of the two examples given in the note on broadcasting, a paragraph above."
     ]
    },
    {
     "cell_type": "markdown",
     "metadata": {},
     "source": [
      "---"
     ]
    },
    {
     "cell_type": "markdown",
     "metadata": {},
     "source": [
      "## 4) Velocity histogram\n",
      "\n",
      "Complete the missing parts of the code below to do this exercise. Given a large number of particules of velocities $v_x$, $v_y$, $v_z$ distributed according to the standard normal distribution, plot the histogram of the speed in 1, 2 and 3 dimensions:\n",
      "\n",
      "$v_1 = |v_x| = \\sqrt{v_x^2}$\n",
      "\n",
      "$v_2 = \\sqrt{v_x^2+v_y^2}$\n",
      "\n",
      "$v_3 = \\sqrt{v_x^2+v_y^2+v_z^2}$\n",
      "\n",
      "and compare it to the theoretical Maxwell distributions:\n",
      "\n",
      "$f_n(v) = \\left(\\frac{\\pi}{2}\\right)^{-\\frac{|n-2|}{2}} v^{n-1} e^{-\\frac{1}{2}v^2}$\n",
      "\n",
      "where $n = 1, 2, 3$ is the number of dimensions."
     ]
    },
    {
     "cell_type": "code",
     "collapsed": false,
     "input": [
      "\n",
      "# Replace the ... with your solution\n",
      "\n",
      "from __future__ import print_function, division\n",
      "import numpy as np\n",
      "\n",
      "def velocity2speed(velocity, ndims):\n",
      "    \"\"\" Return the ndims-dimensional speed of the particles. \"\"\"\n",
      "    return ...\n",
      "\n",
      "\n",
      "def speed_distribution(speed, ndims):\n",
      "    \"\"\"\n",
      "    Return the probability distribution function of the ndims-dimensional\n",
      "    speed of the particles.\n",
      "    \"\"\"\n",
      "    return ...\n",
      "\n",
      "\n",
      "NPARTICULES = 1000000\n",
      "\n",
      "velocity = np.random.standard_normal((NPARTICULES, 3))\n",
      "\n",
      "# Test your functions here before plotting the result\n"
     ],
     "language": "python",
     "metadata": {},
     "outputs": []
    },
    {
     "cell_type": "code",
     "collapsed": false,
     "input": [
      "import matplotlib.pyplot as plt\n",
      "%matplotlib inline\n",
      "\n",
      "for ndims in (1, 2, 3):\n",
      "    speed = velocity2speed(velocity, ndims)\n",
      "    ax = plt.subplot(1, 3, ndims)\n",
      "    n, bins, patches = ax.hist(speed, bins=100, normed=True, alpha=0.7)\n",
      "    ax.set_title('{}-d speed distribution'.format(ndims))\n",
      "    ax.set_xlim(0, 5)\n",
      "    ax.set_ylim(0, 0.9)\n",
      "    ax.set_xlabel('speed')\n",
      "    ax.plot(bins, speed_distribution(speed, ndims), 'r', linewidth=2)\n",
      "\n",
      "plt.show()"
     ],
     "language": "python",
     "metadata": {},
     "outputs": []
    }
   ],
   "metadata": {}
  }
 ]
}