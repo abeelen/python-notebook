{
 "metadata": {
  "name": "",
  "signature": "sha256:7f2f9e158c33ad4dda68a127a516a0c6abafa16ef949525fd4a6827fbd0fec35"
 },
 "nbformat": 3,
 "nbformat_minor": 0,
 "worksheets": [
  {
   "cells": [
    {
     "cell_type": "markdown",
     "metadata": {},
     "source": [
      "The library [Astropy](http://www.astropy.org/) started as an effort to merge several astronomy related libraries (pyfits/asciitable/pywcs...) to read fits/ascii tables and convert astronomical coordinates. It evolved to become much more, including units/quantities cosmological calculation\n",
      "\n",
      "* [Fits Files](#Fits-Files)\n",
      "* [Ascii Files](#Ascii-Files)\n",
      "* [Quantities and Constants](#Quantities-and-Constants)\n",
      "* [Cosmological Calculations](#Cosmological-Calculations)"
     ]
    },
    {
     "cell_type": "heading",
     "level": 1,
     "metadata": {},
     "source": [
      "Fits Files"
     ]
    },
    {
     "cell_type": "heading",
     "level": 2,
     "metadata": {},
     "source": [
      "Reading a fits file (pyfits)"
     ]
    },
    {
     "cell_type": "code",
     "collapsed": false,
     "input": [
      "from astropy.io import fits as pyfits\n",
      "\n",
      "filename = \"data.fits\"\n",
      "pyfits.info(filename) # will display the content of the fits file (several extensions here)"
     ],
     "language": "python",
     "metadata": {},
     "outputs": []
    },
    {
     "cell_type": "code",
     "collapsed": false,
     "input": [
      "image, header = pyfits.getdata(filename,'image',header=True) # let's read the extension image only"
     ],
     "language": "python",
     "metadata": {},
     "outputs": []
    },
    {
     "cell_type": "code",
     "collapsed": false,
     "input": [
      "print image[100:103,100:103] # image contains the actual data"
     ],
     "language": "python",
     "metadata": {},
     "outputs": []
    },
    {
     "cell_type": "code",
     "collapsed": false,
     "input": [
      "type(image)"
     ],
     "language": "python",
     "metadata": {},
     "outputs": []
    },
    {
     "cell_type": "code",
     "collapsed": false,
     "input": [
      "header # header describe all the image in term of astrometry/unit/size"
     ],
     "language": "python",
     "metadata": {},
     "outputs": []
    },
    {
     "cell_type": "code",
     "collapsed": false,
     "input": [
      "print header['naxis1'], header['naxis2'] # this correpond to the size of the image\n",
      "print image.shape"
     ],
     "language": "python",
     "metadata": {},
     "outputs": []
    },
    {
     "cell_type": "code",
     "collapsed": false,
     "input": [
      "header"
     ],
     "language": "python",
     "metadata": {},
     "outputs": []
    },
    {
     "cell_type": "heading",
     "level": 2,
     "metadata": {},
     "source": [
      "Sky Coordinates Manipulation (pyWCS)"
     ]
    },
    {
     "cell_type": "code",
     "collapsed": false,
     "input": [
      "from astropy import wcs as pywcs\n",
      "wcs = pywcs.WCS(header) # You can use the header to create a wcs (World Coordinate System) object."
     ],
     "language": "python",
     "metadata": {},
     "outputs": []
    },
    {
     "cell_type": "code",
     "collapsed": false,
     "input": [
      "(ra, dec) = wcs.wcs_pix2world(0.,0.,0) # sky coordinate of the center of the first pixel (0,0)\n",
      "print ra, dec\n",
      "(x, y )   = wcs.wcs_world2pix(ra,dec,0) # back to pixel coordinate\n",
      "print x, y"
     ],
     "language": "python",
     "metadata": {},
     "outputs": []
    },
    {
     "cell_type": "heading",
     "level": 2,
     "metadata": {},
     "source": [
      "Plotting using matplotlib and [WCSAxes](http://wcsaxes.readthedocs.org/en/latest)"
     ]
    },
    {
     "cell_type": "markdown",
     "metadata": {},
     "source": [
      "Raw/pixel index plot of the image (pixel indexed, origin in the lower left corner)"
     ]
    },
    {
     "cell_type": "code",
     "collapsed": false,
     "input": [
      "# The following line is just for the IPython notebook shell\n",
      "%matplotlib \n",
      "\n",
      "import matplotlib.pyplot as plt\n",
      "\n",
      "plt.ion()\n",
      "\n",
      "fig = plt.figure()\n",
      "ax = fig.add_subplot(2,1,1)\n",
      "ax.imshow(image, origin=\"lower\", interpolation=\"None\", vmin=-2e-2, vmax=5e-2)"
     ],
     "language": "python",
     "metadata": {},
     "outputs": []
    },
    {
     "cell_type": "markdown",
     "metadata": {},
     "source": [
      "Plot of the image using the astronomical axes (using the latest WCSAxes library at http://wcsaxes.readthedocs.org) you may also consider the master branch of http://leejjoon.github.io/pywcsgrid2/ or APLpy http://aplpy.github.io/ )"
     ]
    },
    {
     "cell_type": "code",
     "collapsed": false,
     "input": [
      "from wcsaxes import WCS # Beware that wcsaxes.WCS is not astropy.wcs\n",
      "\n",
      "wcs_proj = WCS(header)\n",
      "ax_wcs = fig.add_subplot(2,1,2, projection = wcs_proj)\n",
      "ax_wcs.imshow(image, origin='lower', interpolation='None', vmin=-2e-2, vmax=5e-2)\n",
      "\n",
      "plt.show()"
     ],
     "language": "python",
     "metadata": {},
     "outputs": []
    },
    {
     "cell_type": "code",
     "collapsed": false,
     "input": [
      "# Change the actual frame thick style and label\n",
      "ax_wcs.coords['ra'].set_ticks(color='red')\n",
      "ax_wcs.coords['dec'].set_ticks(color='red')\n",
      "plt.show()"
     ],
     "language": "python",
     "metadata": {},
     "outputs": []
    },
    {
     "cell_type": "code",
     "collapsed": false,
     "input": [
      "ax_wcs.coords['ra'].set_axislabel(r'$\\alpha_\\mathrm{J2000}$')\n",
      "ax_wcs.coords['dec'].set_axislabel(r'$\\delta_\\mathrm{J2000}$')\n",
      "plt.show()"
     ],
     "language": "python",
     "metadata": {},
     "outputs": []
    },
    {
     "cell_type": "code",
     "collapsed": false,
     "input": [
      "ax_wcs.coords.grid(color='red', linestyle='solid', alpha=0.5)\n",
      "plt.show()"
     ],
     "language": "python",
     "metadata": {},
     "outputs": []
    },
    {
     "cell_type": "code",
     "collapsed": false,
     "input": [
      "# Add some overlay in a different frame\n",
      "overlay = ax_wcs.get_coords_overlay('galactic')\n",
      "overlay.grid(color='green', linestyle='solid', alpha=0.5)\n",
      "overlay['l'].set_ticks(color='green')\n",
      "overlay['b'].set_ticks(color='green')\n",
      "\n",
      "overlay['l'].set_axislabel('Galactic Longitude')\n",
      "overlay['b'].set_axislabel('Galactic Latitude')\n",
      "\n",
      "plt.show()"
     ],
     "language": "python",
     "metadata": {},
     "outputs": []
    },
    {
     "cell_type": "heading",
     "level": 1,
     "metadata": {},
     "source": [
      "ASCII Files"
     ]
    },
    {
     "cell_type": "markdown",
     "metadata": {},
     "source": [
      "This package can read and write in most of the ascii format that are used in astronomy http://cxc.harvard.edu/contrib/asciitable/"
     ]
    },
    {
     "cell_type": "code",
     "collapsed": false,
     "input": [
      "from astropy.io import ascii as asciitable\n",
      "\n",
      "catalog = asciitable.read('sources.txt') # ASCII w/wo header - CSV - IPAC - CdS - Daophot - LaTex\n",
      "print catalog"
     ],
     "language": "python",
     "metadata": {},
     "outputs": []
    },
    {
     "cell_type": "code",
     "collapsed": false,
     "input": [
      "(x,y) = wcs.wcs_world2pix(catalog['ra'], catalog['dec'],0)"
     ],
     "language": "python",
     "metadata": {},
     "outputs": []
    },
    {
     "cell_type": "code",
     "collapsed": false,
     "input": [
      "plt.clf()\n",
      "plt.imshow(image, origin=\"lower\", interpolation=\"None\", vmin=-2e-2, vmax=5e-2)\n",
      "plt.scatter(x,y, color='r')"
     ],
     "language": "python",
     "metadata": {},
     "outputs": []
    },
    {
     "cell_type": "code",
     "collapsed": false,
     "input": [
      "asciitable.write(catalog,'sources.tex',Writer=asciitable.Latex) # save it as LaTeX table"
     ],
     "language": "python",
     "metadata": {},
     "outputs": []
    },
    {
     "cell_type": "code",
     "collapsed": false,
     "input": [
      "!head -5 sources.tex"
     ],
     "language": "python",
     "metadata": {},
     "outputs": []
    },
    {
     "cell_type": "code",
     "collapsed": false,
     "input": [
      "import astropy.io.votable  as vo_table\n",
      "\n",
      "votable = vo_table.from_table(catalog)\n",
      "vo_table.writeto(votable, 'sources.xml')\n"
     ],
     "language": "python",
     "metadata": {},
     "outputs": []
    },
    {
     "cell_type": "code",
     "collapsed": false,
     "input": [
      "!head -10 sources.xml"
     ],
     "language": "python",
     "metadata": {},
     "outputs": []
    },
    {
     "cell_type": "heading",
     "level": 1,
     "metadata": {},
     "source": [
      "Quantities and Constants"
     ]
    },
    {
     "cell_type": "markdown",
     "metadata": {},
     "source": [
      "Astropy defines quantities as number with unit"
     ]
    },
    {
     "cell_type": "code",
     "collapsed": false,
     "input": [
      "from astropy import units as u\n",
      "\n",
      "wavelength = 1.2 * u.millimeter\n",
      "diameter = 30 * u.m\n",
      "\n",
      "airy = 1.22 * wavelength/diameter\n",
      "\n",
      "print(wavelength)\n",
      "print(airy)\n",
      "print(airy.decompose()) # unit change is made"
     ],
     "language": "python",
     "metadata": {},
     "outputs": []
    },
    {
     "cell_type": "code",
     "collapsed": false,
     "input": [
      "distance = 1.0 * u.parsec\n",
      "\n",
      "print( distance.to(u.km) )"
     ],
     "language": "python",
     "metadata": {},
     "outputs": []
    },
    {
     "cell_type": "markdown",
     "metadata": {},
     "source": [
      "In the same way, astropy define usefull constants with their units"
     ]
    },
    {
     "cell_type": "code",
     "collapsed": false,
     "input": [
      "from astropy import constants as const\n",
      "\n",
      "print( const.c )\n",
      "print( const.c.to('km/s') )"
     ],
     "language": "python",
     "metadata": {},
     "outputs": []
    },
    {
     "cell_type": "code",
     "collapsed": false,
     "input": [
      "frequency = 857 * u.GHz\n",
      "wavelength = const.c / frequency\n",
      "wavelength.to(u.micron)"
     ],
     "language": "python",
     "metadata": {},
     "outputs": []
    },
    {
     "cell_type": "code",
     "collapsed": false,
     "input": [
      "frequency.to(u.micron, equivalencies=u.spectral() )"
     ],
     "language": "python",
     "metadata": {},
     "outputs": []
    },
    {
     "cell_type": "heading",
     "level": 1,
     "metadata": {},
     "source": [
      "Cosmological Calculations"
     ]
    },
    {
     "cell_type": "markdown",
     "metadata": {},
     "source": [
      "Astropy allow for calculating the commonly used quantities as function of redshift, line distances, ages and loockback times"
     ]
    },
    {
     "cell_type": "code",
     "collapsed": false,
     "input": [
      "from astropy.cosmology import Planck13 as cosmo\n",
      "\n",
      "print(cosmo)"
     ],
     "language": "python",
     "metadata": {},
     "outputs": []
    },
    {
     "cell_type": "code",
     "collapsed": false,
     "input": [
      "import numpy as np\n",
      "\n",
      "z = np.logspace(-2,1)\n",
      "lumdist = cosmo.luminosity_distance(z)\n",
      "angdist = cosmo.angular_diameter_distance(z)"
     ],
     "language": "python",
     "metadata": {},
     "outputs": []
    },
    {
     "cell_type": "code",
     "collapsed": false,
     "input": [
      "lumdist[0:10]"
     ],
     "language": "python",
     "metadata": {},
     "outputs": []
    },
    {
     "cell_type": "code",
     "collapsed": false,
     "input": [
      "import matplotlib.pyplot as plt\n",
      "\n",
      "plt.ion()\n",
      "plt.clf()\n",
      "\n",
      "plt.semilogy(z, lumdist, label='luminosity distance')\n",
      "plt.semilogy(z, angdist, label='angular diameter distance')\n",
      "\n",
      "plt.xlabel('redshift')\n",
      "plt.ylabel('distance ['+str(lumdist.unit)+']')\n",
      "\n",
      "plt.legend(frameon=False)\n",
      "\n",
      "plt.show()"
     ],
     "language": "python",
     "metadata": {},
     "outputs": []
    },
    {
     "cell_type": "code",
     "collapsed": false,
     "input": [],
     "language": "python",
     "metadata": {},
     "outputs": []
    }
   ],
   "metadata": {}
  }
 ]
}