{
 "metadata": {
  "name": "",
  "signature": "sha256:bf2b032e8088049d5f5a6f773045491ce9f09c2c475b2bc4592f5a4851112d97"
 },
 "nbformat": 3,
 "nbformat_minor": 0,
 "worksheets": [
  {
   "cells": [
    {
     "cell_type": "markdown",
     "metadata": {},
     "source": [
      "NumPy is the fundamental package for scientific computing with Python. You can find more tutorials at http://wiki.scipy.org/Tentative_NumPy_Tutorial . Also check http://www.numpy.org for additional informations."
     ]
    },
    {
     "cell_type": "code",
     "collapsed": false,
     "input": [
      "import numpy as np # Convenient to keep namespace separate"
     ],
     "language": "python",
     "metadata": {},
     "outputs": []
    },
    {
     "cell_type": "heading",
     "level": 1,
     "metadata": {},
     "source": [
      "Array creation"
     ]
    },
    {
     "cell_type": "markdown",
     "metadata": {},
     "source": [
      "Unlike python lists, numpy arrays contain objects of ONLY one type."
     ]
    },
    {
     "cell_type": "code",
     "collapsed": false,
     "input": [
      "a = [1,2,3,4]          # from a python intrinsic list ...\n",
      "b = np.array(a)        # ... to a numpy array"
     ],
     "language": "python",
     "metadata": {},
     "outputs": []
    },
    {
     "cell_type": "code",
     "collapsed": false,
     "input": [
      "print b\n",
      "print type(b)\n",
      "print type(b.tolist())"
     ],
     "language": "python",
     "metadata": {},
     "outputs": []
    },
    {
     "cell_type": "markdown",
     "metadata": {},
     "source": [
      "Numpy arrays can be created simply ( as the *indgen in IDL)"
     ]
    },
    {
     "cell_type": "code",
     "collapsed": false,
     "input": [
      "print np.arange(10)\n",
      "print np.arange(2,3,0.25)    # Array from 2 to 3 with 0.25 spacing"
     ],
     "language": "python",
     "metadata": {},
     "outputs": []
    },
    {
     "cell_type": "markdown",
     "metadata": {},
     "source": [
      "Some specialized instance allow to quickly construct usefull arrays "
     ]
    },
    {
     "cell_type": "code",
     "collapsed": false,
     "input": [
      "print np.linspace(1,10,5)    # Similar to np.arange but with the number of elements defined instead of spacing\n",
      "print np.logspace(0,1,5)    # Same but in logspace (arguments are in log space too !)"
     ],
     "language": "python",
     "metadata": {},
     "outputs": []
    },
    {
     "cell_type": "code",
     "collapsed": false,
     "input": [
      "x,y = np.mgrid[0:3,0:3]      # will define two 2D array with x and y coordinates\n",
      "print(x)\n",
      "print(y)"
     ],
     "language": "python",
     "metadata": {},
     "outputs": []
    },
    {
     "cell_type": "code",
     "collapsed": false,
     "input": [
      "a = np.zeros((2,2))         # by defaults fill array with float64 zeros"
     ],
     "language": "python",
     "metadata": {},
     "outputs": []
    },
    {
     "cell_type": "code",
     "collapsed": false,
     "input": [
      "print a\n",
      "print np.ndim(a),   a.ndim  # dimension of the array\n",
      "print np.shape(a),  a.shape # shape of the array length of all dimensions (both valid=\n",
      "print a.dtype               # type of variable within a\n",
      "print type(a)"
     ],
     "language": "python",
     "metadata": {},
     "outputs": []
    },
    {
     "cell_type": "code",
     "collapsed": false,
     "input": [
      "b = np.ones((2,2), dtype=np.int64) # defining the type explicitely\n",
      "print b\n",
      "print b.dtype"
     ],
     "language": "python",
     "metadata": {},
     "outputs": []
    },
    {
     "cell_type": "heading",
     "level": 1,
     "metadata": {},
     "source": [
      "Accessing array elements"
     ]
    },
    {
     "cell_type": "code",
     "collapsed": false,
     "input": [
      "print (a) "
     ],
     "language": "python",
     "metadata": {},
     "outputs": []
    },
    {
     "cell_type": "code",
     "collapsed": false,
     "input": [
      "a[0][1]= 1.0    # array of arrays style\n",
      "a[1,1] = 2.0    # python slicing style\n",
      "print a\n"
     ],
     "language": "python",
     "metadata": {},
     "outputs": []
    },
    {
     "cell_type": "code",
     "collapsed": false,
     "input": [
      "print \"a[0] = \", a[0] # first row\n",
      "print \"a[1] = \", a[1] # second row"
     ],
     "language": "python",
     "metadata": {},
     "outputs": []
    },
    {
     "cell_type": "markdown",
     "metadata": {},
     "source": [
      "One can also access arrays with slices."
     ]
    },
    {
     "cell_type": "code",
     "collapsed": false,
     "input": [
      "print \"a[:,0] = \", a[:,0] # here the ':' represents a slice containing all elements, remember star:end:step\n",
      "print \"a[:,1] = \", a[::,1]\n",
      "print \"a[0,:] = \", a[0,:]\n",
      "print \"a[1,:] = \", a[1,:]"
     ],
     "language": "python",
     "metadata": {},
     "outputs": []
    },
    {
     "cell_type": "code",
     "collapsed": false,
     "input": [
      "c = np.arange(5*5).reshape(5,5) # a square array\n",
      "print c"
     ],
     "language": "python",
     "metadata": {},
     "outputs": []
    },
    {
     "cell_type": "code",
     "collapsed": false,
     "input": [
      "print c[0:3,0]        # from 0 to 3 (excluded) on the first axis\n",
      "print c[0:4:2, 1:5:2] # from 0 to 4 (excluded) every 2 elements on the 1th to 5th axis every 2 elements"
     ],
     "language": "python",
     "metadata": {},
     "outputs": []
    },
    {
     "cell_type": "code",
     "collapsed": false,
     "input": [
      "d = np.random.uniform(size=6)*10    # accesing a submodule of numpy, dedicated to random generators\n",
      "print d\n",
      "print d[[2,1,4]] # accessing through a list of indexes"
     ],
     "language": "python",
     "metadata": {},
     "outputs": []
    },
    {
     "cell_type": "heading",
     "level": 1,
     "metadata": {},
     "source": [
      "Where !"
     ]
    },
    {
     "cell_type": "markdown",
     "metadata": {},
     "source": [
      "This is the magical IDL command, which is rendered almost useless in Python"
     ]
    },
    {
     "cell_type": "code",
     "collapsed": false,
     "input": [
      "a = np.random.uniform(size=6)\n",
      "print a "
     ],
     "language": "python",
     "metadata": {},
     "outputs": []
    },
    {
     "cell_type": "code",
     "collapsed": false,
     "input": [
      "print a > 0.5      # return an array of booleans (element wise operation)"
     ],
     "language": "python",
     "metadata": {},
     "outputs": []
    },
    {
     "cell_type": "code",
     "collapsed": false,
     "input": [
      "print a[a>0.5]     # will return all the elements of a with this condition\n",
      "\n",
      "mask = a > 0.5     # or you can keep a mask of boolean\n",
      "mask[0] = True     # add some custom conditions\n",
      "print a[mask]"
     ],
     "language": "python",
     "metadata": {},
     "outputs": []
    },
    {
     "cell_type": "code",
     "collapsed": false,
     "input": [
      "print a[ (a>0.4) & (a<0.7) ]"
     ],
     "language": "python",
     "metadata": {},
     "outputs": []
    },
    {
     "cell_type": "markdown",
     "metadata": {},
     "source": [
      "However if you still want to get the indexes of the array satisfying a certain conditions, then `np.where` is used"
     ]
    },
    {
     "cell_type": "code",
     "collapsed": false,
     "input": [
      "print np.where(a > 0.5)              # return a tuple with the indexes where the condition is True as first element\n",
      "print np.where(a > 0.5)[0]           # ... to access directly the indexes"
     ],
     "language": "python",
     "metadata": {},
     "outputs": []
    },
    {
     "cell_type": "markdown",
     "metadata": {},
     "source": [
      "`np.where` is actually used to return an array progamatically : "
     ]
    },
    {
     "cell_type": "code",
     "collapsed": false,
     "input": [
      "print np.where(a > 0.5, a, np.nan)   # return an array constructed from the condition (here just put nan when False)"
     ],
     "language": "python",
     "metadata": {},
     "outputs": []
    },
    {
     "cell_type": "heading",
     "level": 1,
     "metadata": {},
     "source": [
      "Array operations"
     ]
    },
    {
     "cell_type": "markdown",
     "metadata": {},
     "source": [
      "Arithmetic operations are element wise"
     ]
    },
    {
     "cell_type": "code",
     "collapsed": false,
     "input": [
      "c = np.array([[1,2],[3,4]])\n",
      "print (a+2)+(b*4)*c # upcasting is always happening"
     ],
     "language": "python",
     "metadata": {},
     "outputs": []
    },
    {
     "cell_type": "code",
     "collapsed": false,
     "input": [
      "print a*c         # is done element wise\n",
      "print np.dot(a,c) # is the matrix product."
     ],
     "language": "python",
     "metadata": {},
     "outputs": []
    },
    {
     "cell_type": "markdown",
     "metadata": {},
     "source": [
      "On numpy arrays you can apply several universal functions (ufunc - http://docs.scipy.org/doc/numpy/reference/ufuncs.html ) which are much faster than the python equivalent"
     ]
    },
    {
     "cell_type": "code",
     "collapsed": false,
     "input": [
      "vector = np.arange(10)\n",
      "print vector, \"\\n\",vector**2, \"\\n\",np.sqrt(vector) # return arrays with the function applied to each element\n",
      "print np.min(vector), np.max(vector), np.mean(vector), np.sum(vector) # special functions\n",
      "print vector.min(), vector.max(), vector.sum()                        # same functions"
     ],
     "language": "python",
     "metadata": {},
     "outputs": []
    },
    {
     "cell_type": "code",
     "collapsed": false,
     "input": [
      "matrix = np.arange(3*4).reshape(3,4)\n",
      "print matrix\n",
      "\n",
      "print matrix.sum(axis=0) # sum over the first axis\n",
      "\n",
      "print matrix.sum(axis=1) # sum over the second axis"
     ],
     "language": "python",
     "metadata": {},
     "outputs": []
    }
   ],
   "metadata": {}
  }
 ]
}