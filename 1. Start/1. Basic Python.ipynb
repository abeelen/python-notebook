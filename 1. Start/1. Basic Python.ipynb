{
 "metadata": {
  "name": "",
  "signature": "sha256:afca6259d027e65398f24adc9e4c719943a98f806d058a8d114419386e7cac98"
 },
 "nbformat": 3,
 "nbformat_minor": 0,
 "worksheets": [
  {
   "cells": [
    {
     "cell_type": "markdown",
     "metadata": {},
     "source": [
      "Basic Python\n",
      "============\n",
      "\n",
      "This is a very short tutorial on basic python syntax. You can find more tutorials at https://docs.python.org/\n",
      "\n",
      "- [Python Prompt](#Python-Prompt)\n",
      "- [Tests and Loops](#Tests-and-Loops)\n",
      "- [Functions and Modules]({#Functions-and-Modules)"
     ]
    },
    {
     "cell_type": "heading",
     "level": 1,
     "metadata": {},
     "source": [
      "Python Prompt"
     ]
    },
    {
     "cell_type": "heading",
     "level": 2,
     "metadata": {},
     "source": [
      "Interactive"
     ]
    },
    {
     "cell_type": "markdown",
     "metadata": {},
     "source": [
      "You can perform all operation interactively from the Python or IPython prompt. By default, it will output the result, so there is no need for some `print` command."
     ]
    },
    {
     "cell_type": "code",
     "collapsed": false,
     "input": [
      "# Multiplication \n",
      "2*3"
     ],
     "language": "python",
     "metadata": {},
     "outputs": []
    },
    {
     "cell_type": "code",
     "collapsed": false,
     "input": [
      "# Division & Exponants\n",
      "10./4e1"
     ],
     "language": "python",
     "metadata": {},
     "outputs": []
    },
    {
     "cell_type": "code",
     "collapsed": false,
     "input": [
      "'toto'*5"
     ],
     "language": "python",
     "metadata": {},
     "outputs": []
    },
    {
     "cell_type": "code",
     "collapsed": false,
     "input": [
      "# Power operator\n",
      "3**4"
     ],
     "language": "python",
     "metadata": {},
     "outputs": []
    },
    {
     "cell_type": "code",
     "collapsed": false,
     "input": [
      "# Modulo\n",
      "255 % 5"
     ],
     "language": "python",
     "metadata": {},
     "outputs": []
    },
    {
     "cell_type": "code",
     "collapsed": false,
     "input": [
      "# Remainder\n",
      "13 // 2"
     ],
     "language": "python",
     "metadata": {},
     "outputs": []
    },
    {
     "cell_type": "heading",
     "level": 2,
     "metadata": {},
     "source": [
      "Defining variables"
     ]
    },
    {
     "cell_type": "markdown",
     "metadata": {},
     "source": [
      "Python variables are dynamically typed and upcasting is happening"
     ]
    },
    {
     "cell_type": "code",
     "collapsed": false,
     "input": [
      "a = 3     # int\n",
      "b = 3.    # float\n",
      "print(type(a), type(b))"
     ],
     "language": "python",
     "metadata": {},
     "outputs": []
    },
    {
     "cell_type": "code",
     "collapsed": false,
     "input": [
      "c = a+b\n",
      "print(c, type(c))"
     ],
     "language": "python",
     "metadata": {},
     "outputs": []
    },
    {
     "cell_type": "code",
     "collapsed": false,
     "input": [
      "boolean = True"
     ],
     "language": "python",
     "metadata": {},
     "outputs": []
    },
    {
     "cell_type": "code",
     "collapsed": false,
     "input": [
      "print(type(a), type(b), type(c), type(boolean))\n",
      "a = a*0.1\n",
      "print(type(a))"
     ],
     "language": "python",
     "metadata": {},
     "outputs": []
    },
    {
     "cell_type": "markdown",
     "metadata": {},
     "source": [
      "Types can be used to **cast** variables"
     ]
    },
    {
     "cell_type": "code",
     "collapsed": false,
     "input": [
      "a = float(3)\n",
      "print(a, type(a))\n",
      "\n",
      "a = int('3')\n",
      "print(a, type(a))\n",
      "\n",
      "a = str(3.3)\n",
      "print(a, type(a))"
     ],
     "language": "python",
     "metadata": {},
     "outputs": []
    },
    {
     "cell_type": "markdown",
     "metadata": {},
     "source": [
      "To recover memory, all Python variables can be deleted. However this is hardly ever necessary."
     ]
    },
    {
     "cell_type": "code",
     "collapsed": false,
     "input": [
      "del(c,boolean)"
     ],
     "language": "python",
     "metadata": {},
     "outputs": []
    },
    {
     "cell_type": "markdown",
     "metadata": {},
     "source": [
      "Some names can not be used with [Python](https://docs.python.org/2/reference/lexical_analysis.html#keywords)"
     ]
    },
    {
     "cell_type": "markdown",
     "metadata": {},
     "source": [
      "# Main Python objects"
     ]
    },
    {
     "cell_type": "heading",
     "level": 2,
     "metadata": {},
     "source": [
      "Intrisic Python List [ ]"
     ]
    },
    {
     "cell_type": "markdown",
     "metadata": {},
     "source": [
      "A list in Python is a set of ordered objects. It can be created empty"
     ]
    },
    {
     "cell_type": "code",
     "collapsed": false,
     "input": [
      "l = []\n",
      "print(type(l))\n",
      "\n",
      "l = list()\n",
      "print(type(l))"
     ],
     "language": "python",
     "metadata": {},
     "outputs": []
    },
    {
     "cell_type": "markdown",
     "metadata": {},
     "source": [
      "and later populated"
     ]
    },
    {
     "cell_type": "code",
     "collapsed": false,
     "input": [
      "l.append('tutu')    # the '.' means accessing the object methods here the object list l has the method append()\n",
      "print(l)"
     ],
     "language": "python",
     "metadata": {},
     "outputs": []
    },
    {
     "cell_type": "markdown",
     "metadata": {},
     "source": [
      "or its elements can be defined at once"
     ]
    },
    {
     "cell_type": "code",
     "collapsed": false,
     "input": [
      "l=[10, 5.,'toto','titi','tata']\n",
      "print(l)"
     ],
     "language": "python",
     "metadata": {},
     "outputs": []
    },
    {
     "cell_type": "markdown",
     "metadata": {},
     "source": [
      "As you see, a intrinsic python list **can mix different types**"
     ]
    },
    {
     "cell_type": "markdown",
     "metadata": {},
     "source": [
      "You can also remove some elements with "
     ]
    },
    {
     "cell_type": "code",
     "collapsed": false,
     "input": [
      "l.pop()\n",
      "print(l)"
     ],
     "language": "python",
     "metadata": {},
     "outputs": []
    },
    {
     "cell_type": "markdown",
     "metadata": {},
     "source": [
      "Accesing elements is simple, remember python is 0-indexed"
     ]
    },
    {
     "cell_type": "code",
     "collapsed": false,
     "input": [
      "l[2] # Accessing the third element (python is 0-indexed)"
     ],
     "language": "python",
     "metadata": {},
     "outputs": []
    },
    {
     "cell_type": "code",
     "collapsed": false,
     "input": [
      "l[-2] # Accessing the second-last element"
     ],
     "language": "python",
     "metadata": {},
     "outputs": []
    },
    {
     "cell_type": "code",
     "collapsed": false,
     "input": [
      "l[1]=True # setting value for the second element\n",
      "print l"
     ],
     "language": "python",
     "metadata": {},
     "outputs": []
    },
    {
     "cell_type": "markdown",
     "metadata": {},
     "source": [
      "**Slicing**, i.e taking a subsample of a list, is very powerful in python\n",
      "\n",
      "The syntax is *`list[start : stop : step]`* where *`start`* and *`stop`* are indices and *`step`* is a number of elements to jump ahead.\n",
      "\n",
      "By default, start = 0, stop = end and step = 1\n",
      "\n",
      "**NOTE**: the *`stop`* argument is the index of the first element **not** included in the slice."
     ]
    },
    {
     "cell_type": "code",
     "collapsed": false,
     "input": [
      "l[2:]  # from 3rd element to the end"
     ],
     "language": "python",
     "metadata": {},
     "outputs": []
    },
    {
     "cell_type": "code",
     "collapsed": false,
     "input": [
      "l[:-2] # from start to the end minus 2"
     ],
     "language": "python",
     "metadata": {},
     "outputs": []
    },
    {
     "cell_type": "code",
     "collapsed": false,
     "input": [
      "l[0:4:2] # From 0 to 4-1 every 2"
     ],
     "language": "python",
     "metadata": {},
     "outputs": []
    },
    {
     "cell_type": "code",
     "collapsed": false,
     "input": [
      "l[::-1] # will reverse the list"
     ],
     "language": "python",
     "metadata": {},
     "outputs": []
    },
    {
     "cell_type": "markdown",
     "metadata": {},
     "source": [
      "**Concatenating** of list is done using the *+* operand"
     ]
    },
    {
     "cell_type": "code",
     "collapsed": false,
     "input": [
      "a = [1, 2]\n",
      "b = [3, 4]\n",
      "c = a + b + [5, 6]\n",
      "print(c)"
     ],
     "language": "python",
     "metadata": {},
     "outputs": []
    },
    {
     "cell_type": "heading",
     "level": 2,
     "metadata": {},
     "source": [
      "Tuples ( )"
     ]
    },
    {
     "cell_type": "markdown",
     "metadata": {},
     "source": [
      "Tuples is a special type of object, usefull to pack and unpack variables together, mostly used in returning arguments of functions"
     ]
    },
    {
     "cell_type": "code",
     "collapsed": false,
     "input": [
      "a = (2, 'toto', 10.1) # a way to simply pack ...\n",
      "print(a)"
     ],
     "language": "python",
     "metadata": {},
     "outputs": []
    },
    {
     "cell_type": "code",
     "collapsed": false,
     "input": [
      "index, name, value = a # ... and unpack several values together\n",
      "print(index)\n",
      "print(name, value)"
     ],
     "language": "python",
     "metadata": {},
     "outputs": []
    },
    {
     "cell_type": "heading",
     "level": 2,
     "metadata": {},
     "source": [
      "Dictionnaries { }"
     ]
    },
    {
     "cell_type": "markdown",
     "metadata": {},
     "source": [
      "Dictionnaries are associative array, kind of an unordered list, that you can access using keys, close to IDL struct, keys can be strings or numbers "
     ]
    },
    {
     "cell_type": "code",
     "collapsed": false,
     "input": [
      "dic = {'first': 1, 'second':[2,3], 2: 23}\n",
      "print(dic)"
     ],
     "language": "python",
     "metadata": {},
     "outputs": []
    },
    {
     "cell_type": "code",
     "collapsed": false,
     "input": [
      "dic['first'] # will access the element with key first"
     ],
     "language": "python",
     "metadata": {},
     "outputs": []
    },
    {
     "cell_type": "code",
     "collapsed": false,
     "input": [
      "dic.keys() # will return the list of keys"
     ],
     "language": "python",
     "metadata": {},
     "outputs": []
    },
    {
     "cell_type": "code",
     "collapsed": false,
     "input": [
      "dic.values() # will returns of the values"
     ],
     "language": "python",
     "metadata": {},
     "outputs": []
    },
    {
     "cell_type": "code",
     "collapsed": false,
     "input": [
      "dic['fourth'] = 4 # will add a new key to the dictionnary\n",
      "print(dic)"
     ],
     "language": "python",
     "metadata": {},
     "outputs": []
    },
    {
     "cell_type": "markdown",
     "metadata": {},
     "source": [
      "**NOTE** ordered dictionaries do exist in Python. They can be found in the module **`collections`**"
     ]
    },
    {
     "cell_type": "markdown",
     "metadata": {},
     "source": [
      "## Strings \" \" or ' '"
     ]
    },
    {
     "cell_type": "markdown",
     "metadata": {},
     "source": [
      "Strings in Python act as lists of characters."
     ]
    },
    {
     "cell_type": "code",
     "collapsed": false,
     "input": [
      "mystr = 'abc'\n",
      "\n",
      "print(mystr[0], mystr[2])"
     ],
     "language": "python",
     "metadata": {},
     "outputs": []
    },
    {
     "cell_type": "code",
     "collapsed": false,
     "input": [
      "my_new_str = mystr + 'efg'\n",
      "\n",
      "print(my_new_str)"
     ],
     "language": "python",
     "metadata": {},
     "outputs": []
    },
    {
     "cell_type": "markdown",
     "metadata": {},
     "source": [
      "There are two ways of including a variable into a string (more info [here](https://docs.python.org/2/library/string.html#formatstrings))\n",
      " - the `%` method (deprecated) \n",
      " - the `format` method\n",
      "  \n",
      "The former is more concise but the latter as many more advantages."
     ]
    },
    {
     "cell_type": "code",
     "collapsed": false,
     "input": [
      "name = 'Tom'\n",
      "age = 46\n",
      "size = 1.78"
     ],
     "language": "python",
     "metadata": {},
     "outputs": []
    },
    {
     "cell_type": "markdown",
     "metadata": {},
     "source": [
      "Using the '%' method, you must specify the type of the variable withing the string, e.g. `%s` for a str, `%f` for a float, etc."
     ]
    },
    {
     "cell_type": "code",
     "collapsed": false,
     "input": [
      "s = \"%s is %d years old and is %1.2f m tall\"  # for every number, the precision can be specified ; two decimals here\n",
      "print(s % (name, age, size))"
     ],
     "language": "python",
     "metadata": {},
     "outputs": []
    },
    {
     "cell_type": "markdown",
     "metadata": {},
     "source": [
      "The format method is aware of the variable type and does the casting."
     ]
    },
    {
     "cell_type": "code",
     "collapsed": false,
     "input": [
      "s2 = \"{} is {} years old and is {:1.2f} m tall\"\n",
      "print(s2.format(name, age, size)) # Tuple unpacking"
     ],
     "language": "python",
     "metadata": {},
     "outputs": []
    },
    {
     "cell_type": "markdown",
     "metadata": {},
     "source": [
      "It can work with dictionaries"
     ]
    },
    {
     "cell_type": "code",
     "collapsed": false,
     "input": [
      "dct = {'name': 'Tom',\n",
      "       'age': 46,\n",
      "       'size': 1.78}\n",
      "\n",
      "s3 = \"{name} is {age} years old and is {size:1.2f} m tall\"\n",
      " \n",
      "print(s3.format(**dct))  # dictionary unpacking"
     ],
     "language": "python",
     "metadata": {},
     "outputs": []
    },
    {
     "cell_type": "heading",
     "level": 1,
     "metadata": {},
     "source": [
      "Copying variables"
     ]
    },
    {
     "cell_type": "markdown",
     "metadata": {},
     "source": [
      "All variables are objects in python and assignement only gives a reference. Thus there is a small subtility compared to other programming language : "
     ]
    },
    {
     "cell_type": "code",
     "collapsed": false,
     "input": [
      "a = [1,2,3] # a gets its own pointer in memory\n",
      "b = a       # beware that you are assigning pointers in memory here, so b points to a content\n",
      "\n",
      "print( id(a), id(b) ) # actual pointers in memory"
     ],
     "language": "python",
     "metadata": {},
     "outputs": []
    },
    {
     "cell_type": "code",
     "collapsed": false,
     "input": [
      "a[2] = 4   # thus changing a...\n",
      "print(a,b) # ... will change b"
     ],
     "language": "python",
     "metadata": {},
     "outputs": []
    },
    {
     "cell_type": "markdown",
     "metadata": {},
     "source": [
      "To avoid this behavior you can copy an object using the copy module (see later for explanation on module)"
     ]
    },
    {
     "cell_type": "code",
     "collapsed": false,
     "input": [
      "# This will import the copy module, see later for explanation\n",
      "import copy\n",
      "c = copy.copy(a)\n",
      "a[0] = 2\n",
      "print(a,b,c)"
     ],
     "language": "python",
     "metadata": {},
     "outputs": []
    },
    {
     "cell_type": "heading",
     "level": 1,
     "metadata": {},
     "source": [
      "Tests and Loops"
     ]
    },
    {
     "cell_type": "heading",
     "level": 2,
     "metadata": {},
     "source": [
      "Tests (indexation matters) :"
     ]
    },
    {
     "cell_type": "code",
     "collapsed": false,
     "input": [
      "a=2\n",
      "b=4\n",
      "\n",
      "print( a == b ) # The equality test will return a boolean\n",
      "print( a > b, a >= b )\n",
      "print( a < b, a <= b )\n",
      "print(a != b )"
     ],
     "language": "python",
     "metadata": {},
     "outputs": []
    },
    {
     "cell_type": "markdown",
     "metadata": {},
     "source": [
      "You can also use the `in` statement to test if an element is present in a list"
     ]
    },
    {
     "cell_type": "code",
     "collapsed": false,
     "input": [
      "print( 1 in [1,2,3] )\n",
      "print( 'a' in ['a','b','c'] )\n",
      "print( 'a' in 'abc')"
     ],
     "language": "python",
     "metadata": {},
     "outputs": []
    },
    {
     "cell_type": "code",
     "collapsed": false,
     "input": [
      "print ('a' not in 'abc' ) # not is used to inverse the test"
     ],
     "language": "python",
     "metadata": {},
     "outputs": []
    },
    {
     "cell_type": "markdown",
     "metadata": {},
     "source": [
      "A block of instruction is defined by the colon `:` and an indentation. Indentation can be made of white spaces or tabs, but not mixing the two. It is best pratice to use a multiple of 4 spaces"
     ]
    },
    {
     "cell_type": "code",
     "collapsed": false,
     "input": [
      "if a == 2:\n",
      "    print('Yes')"
     ],
     "language": "python",
     "metadata": {},
     "outputs": []
    },
    {
     "cell_type": "markdown",
     "metadata": {},
     "source": [
      "Of course, several tests can be combined all at once"
     ]
    },
    {
     "cell_type": "code",
     "collapsed": false,
     "input": [
      "a, b = 1, 5\n",
      "\n",
      "if ( a == 1 ) and ( b >=4 ):\n",
      "    print('Good')\n",
      "else:\n",
      "    print('Not so good')"
     ],
     "language": "python",
     "metadata": {},
     "outputs": []
    },
    {
     "cell_type": "markdown",
     "metadata": {},
     "source": [
      "There is no `case` statement in Python, but you can use the elif structure"
     ]
    },
    {
     "cell_type": "code",
     "collapsed": false,
     "input": [
      "if a == 1:\n",
      "    print('No')    \n",
      "elif a == 2:\n",
      "    print('Yes 2')\n",
      "else:\n",
      "    print('A lot more')"
     ],
     "language": "python",
     "metadata": {},
     "outputs": []
    },
    {
     "cell_type": "heading",
     "level": 2,
     "metadata": {},
     "source": [
      "Loops"
     ]
    },
    {
     "cell_type": "markdown",
     "metadata": {},
     "source": [
      "Loops can be made in Python with `for` or `while` statements"
     ]
    },
    {
     "cell_type": "code",
     "collapsed": false,
     "input": [
      "i = 0\n",
      "while i < 3:\n",
      "    print(i)\n",
      "    i += 1"
     ],
     "language": "python",
     "metadata": {},
     "outputs": []
    },
    {
     "cell_type": "markdown",
     "metadata": {},
     "source": [
      "A `for` loop in Python uses objects it can iterate on, like lists or strings, or generators."
     ]
    },
    {
     "cell_type": "code",
     "collapsed": false,
     "input": [
      "words = ['cool', 'powerful', 'readable']  # a list\n",
      "for word in words:                        # the for statement use list to go through\n",
      "    print(\"python is \" + word )"
     ],
     "language": "python",
     "metadata": {},
     "outputs": []
    },
    {
     "cell_type": "code",
     "collapsed": false,
     "input": [
      "print( range(10) ) # range is a generator, a python function which return a list of int.\n",
      "print( range(5,10) )\n",
      "print( range(3,9,3) )"
     ],
     "language": "python",
     "metadata": {},
     "outputs": []
    },
    {
     "cell_type": "code",
     "collapsed": false,
     "input": [
      "for i in range(2,8,2):     # range can be used with the for statement to loop over indexes\n",
      "    print(i,'HellO')"
     ],
     "language": "python",
     "metadata": {},
     "outputs": []
    },
    {
     "cell_type": "markdown",
     "metadata": {},
     "source": [
      "Several lists of equal length can be combined in a `for` loop"
     ]
    },
    {
     "cell_type": "code",
     "collapsed": false,
     "input": [
      "superwords = ['fun', 'stable', 'easy'] \n",
      "for word1, word2 in zip(words, superwords):\n",
      "    print( \"Python is \" + word1 + \" and \" + word2 )"
     ],
     "language": "python",
     "metadata": {},
     "outputs": []
    },
    {
     "cell_type": "markdown",
     "metadata": {},
     "source": [
      "Using the `enumerate` function, you can also generate an index for a given list"
     ]
    },
    {
     "cell_type": "code",
     "collapsed": false,
     "input": [
      "for i, word in enumerate(words):               # you may indexes over the list as well as the items\n",
      "    print(\"%i - python is %s\"%(i, word) )"
     ],
     "language": "python",
     "metadata": {},
     "outputs": []
    },
    {
     "cell_type": "heading",
     "level": 1,
     "metadata": {},
     "source": [
      "Functions and Modules"
     ]
    },
    {
     "cell_type": "heading",
     "level": 2,
     "metadata": {},
     "source": [
      "Defining functions"
     ]
    },
    {
     "cell_type": "markdown",
     "metadata": {},
     "source": [
      "\n",
      "Function are really usefull when you need to repeat a task several times. They can have two types of arguments\n",
      "- required argument, which needs to be present at the call of the function\n",
      "- optional arguments which **must** have a default value\n",
      "\n",
      "You can call the function either with the values of the arguments in the declaration order, or use keyword declaration without specific order, however non-keyword arguments should always come before the keyword arguments."
     ]
    },
    {
     "cell_type": "code",
     "collapsed": false,
     "input": [
      "def disk_area(radius, pi=3.14):\n",
      "    return pi * radius **2\n",
      "\n",
      "print( disk_area(2))\n",
      "print( disk_area(2, pi=3.14159))\n",
      "print( disk_area(pi=3.14, radius=2))"
     ],
     "language": "python",
     "metadata": {},
     "outputs": []
    },
    {
     "cell_type": "heading",
     "level": 2,
     "metadata": {},
     "source": [
      "Importing existing modules"
     ]
    },
    {
     "cell_type": "markdown",
     "metadata": {},
     "source": [
      "A module is a series of usefull functions or classes put together, by you or other. It is very simple to import modules into Python, in order to use the functions it provides. They are several ways to import a module. Each module provide their own namespace, i.e. a way to recognize them. It is always a good idea to keep all module functions into their own namespace to avoid conflict and allow good tracability.\n",
      "\n",
      "For example, the default python ```math``` module provide mathematical functions. We will see later that other module provide similar functions. It is then a good idea to keep the namespace distinct to know who's who."
     ]
    },
    {
     "cell_type": "code",
     "collapsed": false,
     "input": [
      "import math                     # Import all the math module in its own namespace\n",
      "print( math.sqrt(2) )"
     ],
     "language": "python",
     "metadata": {},
     "outputs": []
    },
    {
     "cell_type": "code",
     "collapsed": false,
     "input": [
      "import math as m                # Import all the math module and name it as m\n",
      "print( m.sqrt(2) )"
     ],
     "language": "python",
     "metadata": {},
     "outputs": []
    },
    {
     "cell_type": "code",
     "collapsed": false,
     "input": [
      "from math import sqrt as mysqrt # Import only the math.sqrt function as mysqrt\n",
      "print( mysqrt(2) )"
     ],
     "language": "python",
     "metadata": {},
     "outputs": []
    },
    {
     "cell_type": "code",
     "collapsed": false,
     "input": [
      "# This should be avoiding unless you know exactly what you are doing\n",
      "from math import *              # Import all the math functions into the current namespace (could have name conflict)\n",
      "print( sqrt(2) )"
     ],
     "language": "python",
     "metadata": {},
     "outputs": []
    },
    {
     "cell_type": "heading",
     "level": 2,
     "metadata": {},
     "source": [
      "Help on functions / modules"
     ]
    },
    {
     "cell_type": "code",
     "collapsed": false,
     "input": [
      "print math.__doc__ # will print the docstring of the module\n",
      "?math              # will do the same but nicely in IPython "
     ],
     "language": "python",
     "metadata": {},
     "outputs": []
    },
    {
     "cell_type": "code",
     "collapsed": false,
     "input": [
      "print mysqrt.__doc__ # will print the help of the math.sqrt function"
     ],
     "language": "python",
     "metadata": {},
     "outputs": []
    },
    {
     "cell_type": "heading",
     "level": 2,
     "metadata": {},
     "source": [
      "Writing your own modules / scripts"
     ]
    },
    {
     "cell_type": "markdown",
     "metadata": {},
     "source": [
      "Each file defines a module namespace. Thus a disk.py file defines the disk module. You can see a module as a container for functions and/or variables."
     ]
    },
    {
     "cell_type": "code",
     "collapsed": false,
     "input": [
      "%%file disk.py\n",
      "\n",
      "# When need to use a double value for pi, found in the math module\n",
      "from math import pi\n",
      "\n",
      "def area(radius=1.):              # By default the radius is 1.\n",
      "    return pi * radius **2\n",
      "\n",
      "def length(radius):\n",
      "    return 2 * pi * radius"
     ],
     "language": "python",
     "metadata": {},
     "outputs": []
    },
    {
     "cell_type": "code",
     "collapsed": false,
     "input": [
      "import disk"
     ],
     "language": "python",
     "metadata": {},
     "outputs": []
    },
    {
     "cell_type": "code",
     "collapsed": false,
     "input": [
      "print( disk.area()  ) # By default we said the radius would be 1\n",
      "print( disk.area(2) ) # This call the area function from the loaded disk module"
     ],
     "language": "python",
     "metadata": {},
     "outputs": []
    },
    {
     "cell_type": "code",
     "collapsed": false,
     "input": [
      "from disk import area as disk_area\n",
      "print( disk_area(2) ) # This call the disk_area function imported from the disk module"
     ],
     "language": "python",
     "metadata": {},
     "outputs": []
    },
    {
     "cell_type": "markdown",
     "metadata": {},
     "source": [
      "A script is a serie of more or less complex python commands that you can easily run"
     ]
    },
    {
     "cell_type": "code",
     "collapsed": false,
     "input": [
      "%%file disk_script.py\n",
      "\n",
      "import disk as mydisk\n",
      "from disk import area as disk_area\n",
      "\n",
      "print( mydisk.area(2))\n",
      "print( disk_area(3))\n"
     ],
     "language": "python",
     "metadata": {},
     "outputs": []
    },
    {
     "cell_type": "code",
     "collapsed": false,
     "input": [
      "execfile('disk_script.py') # executes the script in python/IPython"
     ],
     "language": "python",
     "metadata": {},
     "outputs": []
    },
    {
     "cell_type": "code",
     "collapsed": false,
     "input": [
      "%run disk_script.py        # runs the script in IPython"
     ],
     "language": "python",
     "metadata": {},
     "outputs": []
    },
    {
     "cell_type": "code",
     "collapsed": false,
     "input": [
      "import disk_script         # Will import disk_script as a module and thus run its content (on the first import only), \n",
      "                           # but this does not actually really make sense..."
     ],
     "language": "python",
     "metadata": {},
     "outputs": []
    },
    {
     "cell_type": "code",
     "collapsed": false,
     "input": [
      "print disk_script.mydisk.area(2) # and leads to syntax like that"
     ],
     "language": "python",
     "metadata": {},
     "outputs": []
    },
    {
     "cell_type": "code",
     "collapsed": false,
     "input": [
      "reload(disk_script)              # is needed if you want to re-import a modified version of an already imported module "
     ],
     "language": "python",
     "metadata": {},
     "outputs": []
    },
    {
     "cell_type": "markdown",
     "metadata": {},
     "source": [
      "#### TODO: Check reload py2 vs py3"
     ]
    },
    {
     "cell_type": "code",
     "collapsed": false,
     "input": [],
     "language": "python",
     "metadata": {},
     "outputs": []
    }
   ],
   "metadata": {}
  }
 ]
}