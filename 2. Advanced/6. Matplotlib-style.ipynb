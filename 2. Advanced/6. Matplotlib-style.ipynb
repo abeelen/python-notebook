{
 "metadata": {
  "name": "",
  "signature": "sha256:bcf27220885529c8b89fc4cc9115d5657ea26e183c7d10631e230c43ee341017"
 },
 "nbformat": 3,
 "nbformat_minor": 0,
 "worksheets": [
  {
   "cells": [
    {
     "cell_type": "markdown",
     "metadata": {},
     "source": [
      "Configuring `matplotlib`\n",
      "========================\n",
      "\n",
      "Most of the `matplotlib` code chunk that are written are usually about styling and not actual plotting. \n",
      "One feature that might be of great help if you are in this case is to use the `matplotlib.style` module.\n",
      "\n",
      "In this notebook, we will go through the available [matplotlib styles](#Pre-configured-style-files) and their corresponding [configuration files](#Content-of-the-style-files). Then we will explain the [two ways](#use-versus-context) of using the styles and finally show you how to write a [personalized style](#Custom-style-file).\n",
      "\n",
      "---"
     ]
    },
    {
     "cell_type": "code",
     "collapsed": false,
     "input": [
      "from __future__ import print_function, division\n",
      "\n",
      "import numpy as np\n",
      "import matplotlib.pyplot as plt"
     ],
     "language": "python",
     "metadata": {},
     "outputs": []
    },
    {
     "cell_type": "heading",
     "level": 2,
     "metadata": {},
     "source": [
      "Pre-configured style files"
     ]
    },
    {
     "cell_type": "markdown",
     "metadata": {},
     "source": [
      "An `available` variable returns a list of the names of some pre-configured matplotlib style files."
     ]
    },
    {
     "cell_type": "code",
     "collapsed": false,
     "input": [
      "print('\\n'.join(plt.style.available))"
     ],
     "language": "python",
     "metadata": {},
     "outputs": []
    },
    {
     "cell_type": "markdown",
     "metadata": {},
     "source": [
      "Let's test these."
     ]
    },
    {
     "cell_type": "code",
     "collapsed": false,
     "input": [
      "%matplotlib inline\n",
      "\n",
      "x = np.arange(0, 10, 0.01)\n",
      "\n",
      "def f(x, t):\n",
      "    return np.sin(x) * np.exp(1 - x / 10 + t / 2)\n",
      "\n",
      "def simple_plot(style):\n",
      "    with plt.style.context(style, after_reset=True):\n",
      "        for t in range(5):\n",
      "            plt.plot(x, f(x, t))\n",
      "        plt.title('Simple plot')\n",
      "        plt.show()"
     ],
     "language": "python",
     "metadata": {},
     "outputs": []
    },
    {
     "cell_type": "code",
     "collapsed": false,
     "input": [
      "simple_plot('ggplot')"
     ],
     "language": "python",
     "metadata": {},
     "outputs": []
    },
    {
     "cell_type": "code",
     "collapsed": false,
     "input": [
      "simple_plot('dark_background')"
     ],
     "language": "python",
     "metadata": {},
     "outputs": []
    },
    {
     "cell_type": "code",
     "collapsed": false,
     "input": [
      "simple_plot('grayscale')"
     ],
     "language": "python",
     "metadata": {},
     "outputs": []
    },
    {
     "cell_type": "code",
     "collapsed": false,
     "input": [
      "simple_plot('fivethirtyeight')"
     ],
     "language": "python",
     "metadata": {},
     "outputs": []
    },
    {
     "cell_type": "code",
     "collapsed": false,
     "input": [
      "simple_plot('bmh')"
     ],
     "language": "python",
     "metadata": {},
     "outputs": []
    },
    {
     "cell_type": "heading",
     "level": 2,
     "metadata": {},
     "source": [
      "Content of the style files"
     ]
    },
    {
     "cell_type": "markdown",
     "metadata": {},
     "source": [
      "A matplotlib style file is a simple text file containing the desired matplotlib `rcParam` configuration, with the `.mplstyle` extension."
     ]
    },
    {
     "cell_type": "markdown",
     "metadata": {},
     "source": [
      "Let's display the content of the 'ggplot' style."
     ]
    },
    {
     "cell_type": "code",
     "collapsed": false,
     "input": [
      "import os\n",
      "ggplotfile = os.path.join(plt.style.core.BASE_LIBRARY_PATH, 'ggplot.mplstyle')"
     ],
     "language": "python",
     "metadata": {},
     "outputs": []
    },
    {
     "cell_type": "code",
     "collapsed": false,
     "input": [
      "!cat $ggplotfile"
     ],
     "language": "python",
     "metadata": {},
     "outputs": []
    },
    {
     "cell_type": "markdown",
     "metadata": {},
     "source": [
      "Maybe the most interesting feature of this style file is the redefinition of the color cycle using hexadecimal notation. This allows the user to define is own color palette for its multi-line plots."
     ]
    },
    {
     "cell_type": "heading",
     "level": 2,
     "metadata": {},
     "source": [
      "use versus context"
     ]
    },
    {
     "cell_type": "markdown",
     "metadata": {},
     "source": [
      "There are two ways of using the `matplotlib` styles.\n",
      "\n",
      "1. `plt.style.use(style)`\n",
      "2. `plt.style.context(style):`\n",
      "\n",
      "The `use` method applied at the beginning of a script will be the default choice in most cases when the style is to be set for the entire script. The only issue is that it sets the matplotlib style for the given Python session, meaning that a second call to `use` with a different style will only apply new style parameters and not reset the first style. That is if the `axes.grid` is set to `True` by the first style and there is nothing concerning the grid in the second style config, the grid will remain set to `True` which is not `matplotlib` default.\n",
      "\n",
      "On the contrary, the `context` method will be useful when only one or two figures are to be set to a given style. It shall be used with the `with` statement to create a context manager in which the plot will be made.\n",
      "\n",
      "Let's illustrate this."
     ]
    },
    {
     "cell_type": "code",
     "collapsed": false,
     "input": [
      "plt.style.use('ggplot')\n",
      "\n",
      "plt.plot(x, f(x, 0))"
     ],
     "language": "python",
     "metadata": {},
     "outputs": []
    },
    {
     "cell_type": "markdown",
     "metadata": {},
     "source": [
      "The 'ggplot' style has been applied to the current session. One of its features that differs from standard `matplotlib` configuration is to put the ticks outside the main figure (`axes.axisbelow: True`)"
     ]
    },
    {
     "cell_type": "code",
     "collapsed": false,
     "input": [
      "with plt.style.context('dark_background'):\n",
      "    plt.plot(x, f(x, 1))"
     ],
     "language": "python",
     "metadata": {},
     "outputs": []
    },
    {
     "cell_type": "markdown",
     "metadata": {},
     "source": [
      "Now using the 'dark_background' style as a context, we can spot the main changes (background, line color, axis color) and we can also see the outside ticks, although they are not part of this particular style. This is the 'ggplot' `axes.axisbelow` setup that has not been overwritten by the new style.\n",
      "\n",
      "Once the `with` block has ended, the style goes back to its previous status, that is the 'ggplot' style."
     ]
    },
    {
     "cell_type": "code",
     "collapsed": false,
     "input": [
      "plt.plot(x, f(x, 2))"
     ],
     "language": "python",
     "metadata": {},
     "outputs": []
    },
    {
     "cell_type": "heading",
     "level": 2,
     "metadata": {},
     "source": [
      "Custom style file"
     ]
    },
    {
     "cell_type": "markdown",
     "metadata": {},
     "source": [
      "Starting from these configured files, it is easy to now create our own styles for textbook figures and talk figures and switch from one to another in a single code line `plt.style.use('mystyle')` at the beginning of the plotting script."
     ]
    },
    {
     "cell_type": "markdown",
     "metadata": {},
     "source": [
      "#### Where to create it ?"
     ]
    },
    {
     "cell_type": "markdown",
     "metadata": {},
     "source": [
      "`matplotlib` will look for the user style files at the following path :"
     ]
    },
    {
     "cell_type": "code",
     "collapsed": false,
     "input": [
      "print(plt.style.core.USER_LIBRARY_PATHS)"
     ],
     "language": "python",
     "metadata": {},
     "outputs": []
    },
    {
     "cell_type": "markdown",
     "metadata": {},
     "source": [
      "**Note:** The directory corresponding to this path will most probably not exist so one will need to create it."
     ]
    },
    {
     "cell_type": "code",
     "collapsed": false,
     "input": [
      "styledir = plt.style.core.USER_LIBRARY_PATHS[0]\n",
      "\n",
      "!mkdir -p $styledir"
     ],
     "language": "python",
     "metadata": {},
     "outputs": []
    },
    {
     "cell_type": "markdown",
     "metadata": {},
     "source": [
      "One can now copy an existing style file to serve as a boilerplate."
     ]
    },
    {
     "cell_type": "code",
     "collapsed": false,
     "input": [
      "mystylefile = os.path.join(styledir, 'mystyle.mplstyle')\n",
      "\n",
      "!cp $ggplotfile $mystylefile"
     ],
     "language": "python",
     "metadata": {},
     "outputs": []
    },
    {
     "cell_type": "code",
     "collapsed": false,
     "input": [
      "!cd $styledir"
     ],
     "language": "python",
     "metadata": {},
     "outputs": []
    },
    {
     "cell_type": "code",
     "collapsed": false,
     "input": [
      "%%file mystyle.mplstyle\n",
      "\n",
      "font.size: 16.0   # large font\n",
      "\n",
      "axes.linewidth: 2\n",
      "axes.grid: True \n",
      "axes.titlesize: x-large\n",
      "axes.labelsize: x-large\n",
      "axes.labelcolor: 555555\n",
      "axes.axisbelow: True   \n",
      "    \n",
      "xtick.color: 555555\n",
      "xtick.direction: out\n",
      "\n",
      "ytick.color: 555555\n",
      "ytick.direction: out\n",
      "    \n",
      "grid.color: white\n",
      "grid.linestyle: :    # dotted line"
     ],
     "language": "python",
     "metadata": {},
     "outputs": []
    },
    {
     "cell_type": "code",
     "collapsed": false,
     "input": [],
     "language": "python",
     "metadata": {},
     "outputs": []
    },
    {
     "cell_type": "code",
     "collapsed": false,
     "input": [],
     "language": "python",
     "metadata": {},
     "outputs": []
    }
   ],
   "metadata": {}
  }
 ]
}