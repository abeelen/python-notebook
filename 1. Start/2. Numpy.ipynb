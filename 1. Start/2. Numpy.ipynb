{
 "metadata": {
  "name": "",
  "signature": "sha256:06200b58e975465e6d20b0c53a7d5f2a3dae6de0e755e5bf812ea5e86e87f52f"
 },
 "nbformat": 3,
 "nbformat_minor": 0,
 "worksheets": [
  {
   "cells": [
    {
     "cell_type": "markdown",
     "metadata": {},
     "source": [
      "# Numpy"
     ]
    },
    {
     "cell_type": "markdown",
     "metadata": {},
     "source": [
      "NumPy is the fundamental package for scientific computing with Python. You can find more tutorials at http://wiki.scipy.org/Tentative_NumPy_Tutorial . Also check http://www.numpy.org for additional informations.\n",
      "\n",
      "- [Array Creation](#Array-Creation)\n",
      "- [Accessing Array Elements](#Accessing-Array-Elements)\n",
      "- [Array Operations](#Array-Operations)\n",
      "- [Masked Array](#Masked-Array)\n",
      "- [Broadcasting](#Broadcasting)\n",
      "\n",
      "\n",
      "- [Exercice time](#Exercice-time-!)"
     ]
    },
    {
     "cell_type": "code",
     "collapsed": false,
     "input": [
      "from __future__ import print_function, division  # uncomment that line if you are using python 2\n",
      "\n",
      "import numpy as np"
     ],
     "language": "python",
     "metadata": {},
     "outputs": []
    },
    {
     "cell_type": "heading",
     "level": 2,
     "metadata": {},
     "source": [
      "Array Creation"
     ]
    },
    {
     "cell_type": "markdown",
     "metadata": {},
     "source": [
      "`numpy` arrays are generally defined from lists"
     ]
    },
    {
     "cell_type": "markdown",
     "metadata": {},
     "source": [
      "Unlike python lists, numpy arrays contain objects of ONLY one type."
     ]
    },
    {
     "cell_type": "code",
     "collapsed": false,
     "input": [
      "# 1D array\n",
      "np.array([1, 2, 3, 4])"
     ],
     "language": "python",
     "metadata": {},
     "outputs": []
    },
    {
     "cell_type": "code",
     "collapsed": false,
     "input": [
      "# 2D array\n",
      "np.array([[1, 2], [3, 4]])"
     ],
     "language": "python",
     "metadata": {},
     "outputs": []
    },
    {
     "cell_type": "code",
     "collapsed": false,
     "input": [
      "a = np.array([[1, 2], [3, 4]])\n",
      "print(a, type(a))"
     ],
     "language": "python",
     "metadata": {},
     "outputs": []
    },
    {
     "cell_type": "markdown",
     "metadata": {},
     "source": [
      "A `numpy` array is an object with many attributes"
     ]
    },
    {
     "cell_type": "code",
     "collapsed": false,
     "input": [
      "print('the numpy array a has a :')\n",
      "print('\\t* length (a.size) : %i' % a.size )\n",
      "print('\\t* number of dimensions (a.ndim) : %i' % a.ndim )\n",
      "print('\\t* shape (a.shape) : %s' % str(a.shape) )\n",
      "print('\\t* data type (a.dtype) : %s' % a.dtype )"
     ],
     "language": "python",
     "metadata": {},
     "outputs": []
    },
    {
     "cell_type": "markdown",
     "metadata": {},
     "source": [
      "**NOTE:** Unlike python lists, numpy arrays contain objects of ONLY one data type. By default, the data type (`dtype`) is usually set to **`float`** which corresponds to 64-byte float or `np.float64`"
     ]
    },
    {
     "cell_type": "markdown",
     "metadata": {},
     "source": [
      "### `empty`, `zeros` and `ones`\n",
      "To quickly initialize a `numpy` array, there are a few convenience methods that only require a shape as input (and optionally a dtype).."
     ]
    },
    {
     "cell_type": "code",
     "collapsed": false,
     "input": [
      "np.empty((3, 3))"
     ],
     "language": "python",
     "metadata": {},
     "outputs": []
    },
    {
     "cell_type": "code",
     "collapsed": false,
     "input": [
      "np.zeros((2, 2), dtype=float)"
     ],
     "language": "python",
     "metadata": {},
     "outputs": []
    },
    {
     "cell_type": "code",
     "collapsed": false,
     "input": [
      "np.ones((3, 5), dtype=int)"
     ],
     "language": "python",
     "metadata": {},
     "outputs": []
    },
    {
     "cell_type": "markdown",
     "metadata": {},
     "source": [
      ".. or another numpy array."
     ]
    },
    {
     "cell_type": "code",
     "collapsed": false,
     "input": [
      "np.empty_like(a)"
     ],
     "language": "python",
     "metadata": {},
     "outputs": []
    },
    {
     "cell_type": "code",
     "collapsed": false,
     "input": [
      "np.zeros_like(a, dtype=complex)"
     ],
     "language": "python",
     "metadata": {},
     "outputs": []
    },
    {
     "cell_type": "code",
     "collapsed": false,
     "input": [
      "np.ones_like(a, dtype=str)"
     ],
     "language": "python",
     "metadata": {},
     "outputs": []
    },
    {
     "cell_type": "markdown",
     "metadata": {},
     "source": [
      "### `arange`\n",
      "A range can be quickly created with the **`arange`** method ( as *`indgen`* in IDL)"
     ]
    },
    {
     "cell_type": "code",
     "collapsed": false,
     "input": [
      "np.arange(10)"
     ],
     "language": "python",
     "metadata": {},
     "outputs": []
    },
    {
     "cell_type": "markdown",
     "metadata": {},
     "source": [
      "Additional arguments enable to set the lower and upper bounds as well as the range step."
     ]
    },
    {
     "cell_type": "code",
     "collapsed": false,
     "input": [
      "np.arange(2, 3, 0.25)"
     ],
     "language": "python",
     "metadata": {},
     "outputs": []
    },
    {
     "cell_type": "markdown",
     "metadata": {},
     "source": [
      "### `linspace` and `logspace`\n",
      "Similarly to `arange`, `linspace` and `logspace` are convenience methods to create ranges, but instead of specifying the elements spacing, the constraint is on the total number of elements."
     ]
    },
    {
     "cell_type": "code",
     "collapsed": false,
     "input": [
      "np.linspace(1, 10, 5)"
     ],
     "language": "python",
     "metadata": {},
     "outputs": []
    },
    {
     "cell_type": "markdown",
     "metadata": {},
     "source": [
      "For `logspace`, the boundaries should be specified in `log`."
     ]
    },
    {
     "cell_type": "code",
     "collapsed": false,
     "input": [
      "np.logspace(np.log10(1), np.log10(10), 5)"
     ],
     "language": "python",
     "metadata": {},
     "outputs": []
    },
    {
     "cell_type": "markdown",
     "metadata": {},
     "source": [
      "**NOTE:** `arange` never includes the upper bound while `linespace` and `logspace` do."
     ]
    },
    {
     "cell_type": "markdown",
     "metadata": {},
     "source": [
      "### `ogrid`, `mgrid` and `indices`\n",
      "For multidimensional ranges, `ogrid` creates a column and a row"
     ]
    },
    {
     "cell_type": "code",
     "collapsed": false,
     "input": [
      "np.ogrid[0:3, 0:3]"
     ],
     "language": "python",
     "metadata": {},
     "outputs": []
    },
    {
     "cell_type": "markdown",
     "metadata": {},
     "source": [
      "while `mgrid` and `indices` create the full coordinate arrays"
     ]
    },
    {
     "cell_type": "code",
     "collapsed": false,
     "input": [
      "np.mgrid[0:3, 0:3]"
     ],
     "language": "python",
     "metadata": {},
     "outputs": []
    },
    {
     "cell_type": "code",
     "collapsed": false,
     "input": [
      "np.indices((3, 3))"
     ],
     "language": "python",
     "metadata": {},
     "outputs": []
    },
    {
     "cell_type": "heading",
     "level": 2,
     "metadata": {},
     "source": [
      "Accessing Array Elements"
     ]
    },
    {
     "cell_type": "markdown",
     "metadata": {},
     "source": [
      "### Indexing in 1D\n",
      "`numpy` arrays are accessed with the same slicing as for lists.\n",
      "\n",
      "**Reminder**: `[start:end:step]`"
     ]
    },
    {
     "cell_type": "code",
     "collapsed": false,
     "input": [
      "b = np.arange(10)\n",
      "b[0:9:2]"
     ],
     "language": "python",
     "metadata": {},
     "outputs": []
    },
    {
     "cell_type": "markdown",
     "metadata": {},
     "source": [
      "### Indexing in n-dimensions\n",
      "The first index represents the row, the second represents the column. Dimensions need to be separated with commas ','."
     ]
    },
    {
     "cell_type": "code",
     "collapsed": false,
     "input": [
      "# Square array from arange with reshape method\n",
      "c = np.arange(5 * 5).reshape(5, 5)\n",
      "print(c)\n",
      "print(c[2, 3])   # Third row, fourth column\n",
      "print(c[-1, 1])  # Last row, second column"
     ],
     "language": "python",
     "metadata": {},
     "outputs": []
    },
    {
     "cell_type": "markdown",
     "metadata": {},
     "source": [
      "To specify \"all the elements along that particular dimension\", use the colon `:`"
     ]
    },
    {
     "cell_type": "code",
     "collapsed": false,
     "input": [
      "d = np.arange(27).reshape(3, 3, 3)\n",
      "print(d)"
     ],
     "language": "python",
     "metadata": {},
     "outputs": []
    },
    {
     "cell_type": "code",
     "collapsed": false,
     "input": [
      "d[0, :, 0]  # First row, entire column of the first slice "
     ],
     "language": "python",
     "metadata": {},
     "outputs": []
    },
    {
     "cell_type": "markdown",
     "metadata": {},
     "source": [
      "If you have many dimensions, you can replace several colons by an ellipsis `...`"
     ]
    },
    {
     "cell_type": "code",
     "collapsed": false,
     "input": [
      "d[..., 1] == d[:, :, 1]"
     ],
     "language": "python",
     "metadata": {},
     "outputs": []
    },
    {
     "cell_type": "markdown",
     "metadata": {},
     "source": [
      "### Slicing"
     ]
    },
    {
     "cell_type": "code",
     "collapsed": false,
     "input": [
      "print(c)\n",
      "print(\"c[0, :] = %s\"% str( c[0, :]) )# First row equivalent to c[0]\n",
      "print(\"c[1, :] = %s\"% str( c[1, :]) )# Second row equivalent to c[1]\n",
      "print(\"c[:, 0] = %s\"% str( c[:, 0]) )# First column\n",
      "print(\"c[:, 1] = %s\"% str( c[:, 1]) )# Second column"
     ],
     "language": "python",
     "metadata": {},
     "outputs": []
    },
    {
     "cell_type": "markdown",
     "metadata": {},
     "source": [
      "More funky.."
     ]
    },
    {
     "cell_type": "code",
     "collapsed": false,
     "input": [
      "print(c[0:3, 0])       # from 0 to 3 (excluded) on the first axis\n",
      "print(c[0:4:2, 1:5:2]) # from 0 to 4 (excluded) every 2 elements on the 1th to 5th axis every 2 elements"
     ],
     "language": "python",
     "metadata": {},
     "outputs": []
    },
    {
     "cell_type": "markdown",
     "metadata": {},
     "source": [
      "### Fancy indexing\n",
      "`numpy` provides a way to give an array as index for a second array, an operation referred to as *fancy indexing* . \n",
      "\n",
      "This is should very familiar to IDL users. "
     ]
    },
    {
     "cell_type": "code",
     "collapsed": false,
     "input": [
      "size = 6\n",
      "x = np.random.randint(10, size=size)\n",
      "idx = np.arange(0, size, 2)            # every second integer\n",
      "print(x)\n",
      "print(idx)\n",
      "print(x[idx])"
     ],
     "language": "python",
     "metadata": {},
     "outputs": []
    },
    {
     "cell_type": "markdown",
     "metadata": {},
     "source": [
      "This can be useful to extract some information from an array without modifying it."
     ]
    },
    {
     "cell_type": "heading",
     "level": 2,
     "metadata": {},
     "source": [
      "`where` ?"
     ]
    },
    {
     "cell_type": "markdown",
     "metadata": {},
     "source": [
      "This is the magical IDL command, which is rendered almost useless in Python"
     ]
    },
    {
     "cell_type": "code",
     "collapsed": false,
     "input": [
      "# np.random is a submodule of numpy, dedicated to random generators\n",
      "a = np.random.uniform(size=6)\n",
      "print(a)"
     ],
     "language": "python",
     "metadata": {},
     "outputs": []
    },
    {
     "cell_type": "markdown",
     "metadata": {},
     "source": [
      "A simple test operation with a `numpy` array becomes an array of boolean values (element-wise test), which can turn extremely convenient to create masks."
     ]
    },
    {
     "cell_type": "code",
     "collapsed": false,
     "input": [
      "mask = a > 0.5\n",
      "print(mask)"
     ],
     "language": "python",
     "metadata": {},
     "outputs": []
    },
    {
     "cell_type": "markdown",
     "metadata": {},
     "source": [
      "These masks are then used as indices (*fancy indexing*) to only retrieve the elements that match the test criterion."
     ]
    },
    {
     "cell_type": "code",
     "collapsed": false,
     "input": [
      "a[mask]"
     ],
     "language": "python",
     "metadata": {},
     "outputs": []
    },
    {
     "cell_type": "markdown",
     "metadata": {},
     "source": [
      "or that **don't** match the criterion"
     ]
    },
    {
     "cell_type": "code",
     "collapsed": false,
     "input": [
      "a[~mask]"
     ],
     "language": "python",
     "metadata": {},
     "outputs": []
    },
    {
     "cell_type": "markdown",
     "metadata": {},
     "source": [
      "And the tests can be combined all at once, either is plain"
     ]
    },
    {
     "cell_type": "code",
     "collapsed": false,
     "input": [
      "a[(a > 0.4) & (a < 0.7)]"
     ],
     "language": "python",
     "metadata": {},
     "outputs": []
    },
    {
     "cell_type": "markdown",
     "metadata": {},
     "source": [
      "or with `numpy` dedicated methods"
     ]
    },
    {
     "cell_type": "code",
     "collapsed": false,
     "input": [
      "a[np.logical_or(a < 0.3, a > 0.66)]"
     ],
     "language": "python",
     "metadata": {},
     "outputs": []
    },
    {
     "cell_type": "markdown",
     "metadata": {},
     "source": [
      "However to get the indices of the array satisfying certain conditions, then `np.where` should be used"
     ]
    },
    {
     "cell_type": "code",
     "collapsed": false,
     "input": [
      "np.where(a > 0.5)                 # return a tuple with the indexes where the condition is True as first element\n",
      "print(np.where(a > 0.5)[0])       # ... to access directly the indexes"
     ],
     "language": "python",
     "metadata": {},
     "outputs": []
    },
    {
     "cell_type": "markdown",
     "metadata": {},
     "source": [
      "but the best use case for `np.where` is to return an array progamatically : \"if condition is met, return x, otherwise return y\" "
     ]
    },
    {
     "cell_type": "code",
     "collapsed": false,
     "input": [
      "np.where(a > 0.5, a, np.nan)"
     ],
     "language": "python",
     "metadata": {},
     "outputs": []
    },
    {
     "cell_type": "heading",
     "level": 2,
     "metadata": {},
     "source": [
      "Array operations"
     ]
    },
    {
     "cell_type": "heading",
     "level": 3,
     "metadata": {},
     "source": [
      "Basic operations"
     ]
    },
    {
     "cell_type": "code",
     "collapsed": false,
     "input": [
      "c + 1"
     ],
     "language": "python",
     "metadata": {},
     "outputs": []
    },
    {
     "cell_type": "code",
     "collapsed": false,
     "input": [
      "c * 5 - 3 / 2"
     ],
     "language": "python",
     "metadata": {},
     "outputs": []
    },
    {
     "cell_type": "markdown",
     "metadata": {},
     "source": [
      "Also work inplace"
     ]
    },
    {
     "cell_type": "code",
     "collapsed": false,
     "input": [
      "c += 3\n",
      "c"
     ],
     "language": "python",
     "metadata": {},
     "outputs": []
    },
    {
     "cell_type": "heading",
     "level": 3,
     "metadata": {},
     "source": [
      "ufuncs"
     ]
    },
    {
     "cell_type": "markdown",
     "metadata": {},
     "source": [
      "All common arithmetic operations are optimally implemented in `numpy` and take advantage of the C machinery underneath. It means that squaring an array or computing its sum is much more efficient in numpy than just computing it from lists.\n",
      "\n",
      "These small convenience methods are implemented as universal functions (ufunc - http://docs.scipy.org/doc/numpy/reference/ufuncs.html), like `min`, `max`, `mean`, `std`, etc.. can provide information on the whole array"
     ]
    },
    {
     "cell_type": "code",
     "collapsed": false,
     "input": [
      "c"
     ],
     "language": "python",
     "metadata": {},
     "outputs": []
    },
    {
     "cell_type": "code",
     "collapsed": false,
     "input": [
      "c.mean()"
     ],
     "language": "python",
     "metadata": {},
     "outputs": []
    },
    {
     "cell_type": "code",
     "collapsed": false,
     "input": [
      "c.std()"
     ],
     "language": "python",
     "metadata": {},
     "outputs": []
    },
    {
     "cell_type": "markdown",
     "metadata": {},
     "source": [
      "or in multidimensional data, can provide information along a given axis ( 0 = rows | 1 = columns )"
     ]
    },
    {
     "cell_type": "code",
     "collapsed": false,
     "input": [
      "c.sum(axis=1)"
     ],
     "language": "python",
     "metadata": {},
     "outputs": []
    },
    {
     "cell_type": "code",
     "collapsed": false,
     "input": [
      "c.max(axis=0)"
     ],
     "language": "python",
     "metadata": {},
     "outputs": []
    },
    {
     "cell_type": "markdown",
     "metadata": {},
     "source": [
      "This is a simpler way of applying the `np.min()` or `np.std()` functions to the array."
     ]
    },
    {
     "cell_type": "heading",
     "level": 3,
     "metadata": {},
     "source": [
      "Matrices and vectors"
     ]
    },
    {
     "cell_type": "markdown",
     "metadata": {},
     "source": [
      "Operations on vectors and matrices are handled easily, but upcasting (`int => float`) is always happening."
     ]
    },
    {
     "cell_type": "code",
     "collapsed": false,
     "input": [
      "a = np.array([[1, 1],[0, 0]], dtype=float)\n",
      "b = np.array([[1, 1],[1, 1]])\n",
      "c = np.array([[1, 2],[3, 4]])\n",
      "(a + 2) + (b * 4) * c"
     ],
     "language": "python",
     "metadata": {},
     "outputs": []
    },
    {
     "cell_type": "markdown",
     "metadata": {},
     "source": [
      "Between matrices, there is the element-wise product `*`"
     ]
    },
    {
     "cell_type": "code",
     "collapsed": false,
     "input": [
      "a * c"
     ],
     "language": "python",
     "metadata": {},
     "outputs": []
    },
    {
     "cell_type": "markdown",
     "metadata": {},
     "source": [
      "and the matrix product `np.dot`."
     ]
    },
    {
     "cell_type": "code",
     "collapsed": false,
     "input": [
      "np.dot(a, c)"
     ],
     "language": "python",
     "metadata": {},
     "outputs": []
    },
    {
     "cell_type": "markdown",
     "metadata": {},
     "source": [
      "For more complex operations on vectors and matrices, there is a submodule in `numpy` dedicated to linear algebra called **`np.linalg`** for eigen vector decomposition, inverse operations, etc."
     ]
    },
    {
     "cell_type": "heading",
     "level": 2,
     "metadata": {},
     "source": [
      "Masked Array"
     ]
    },
    {
     "cell_type": "markdown",
     "metadata": {},
     "source": [
      "You can associate a mask to an array to create a masked array"
     ]
    },
    {
     "cell_type": "code",
     "collapsed": false,
     "input": [
      "a = np.array([1,2,3,4])\n",
      "mask = np.array(a == 2)\n",
      "print(a)\n",
      "print(mask) # True when masked"
     ],
     "language": "python",
     "metadata": {},
     "outputs": []
    },
    {
     "cell_type": "code",
     "collapsed": false,
     "input": [
      "masked_a = np.ma.array(a, mask=mask_a)\n",
      "masked_a"
     ],
     "language": "python",
     "metadata": {},
     "outputs": []
    },
    {
     "cell_type": "code",
     "collapsed": false,
     "input": [
      "print(a.sum())\n",
      "print(masked_a.sum()) # The mask are taken into account"
     ],
     "language": "python",
     "metadata": {},
     "outputs": []
    },
    {
     "cell_type": "code",
     "collapsed": false,
     "input": [
      "masked_b = np.ma.array(a, mask=(a ==1) )\n",
      "masked_b"
     ],
     "language": "python",
     "metadata": {},
     "outputs": []
    },
    {
     "cell_type": "code",
     "collapsed": false,
     "input": [
      "masked_a+masked_b # Will create a common mask"
     ],
     "language": "python",
     "metadata": {},
     "outputs": []
    },
    {
     "cell_type": "heading",
     "level": 2,
     "metadata": {},
     "source": [
      "Broadcasting"
     ]
    },
    {
     "cell_type": "markdown",
     "metadata": {},
     "source": [
      "One of the major feature of `numpy` is the use of array broadcasting. Broadcasting allows operations (such as addition, multiplication etc.) which are normally element-wise to be carried on arrays of different shapes. It is a virtual replication of the arrays along the missing dimensions. It can be seen as a generalization of operations involving an array and a scalar."
     ]
    },
    {
     "cell_type": "code",
     "collapsed": false,
     "input": [
      "matrix = np.zeros((4, 5))\n",
      "matrix"
     ],
     "language": "python",
     "metadata": {},
     "outputs": []
    },
    {
     "cell_type": "markdown",
     "metadata": {},
     "source": [
      "The addition of a scalar on an matrix can be seen as the addition of a matrix with identical elements (and same dimensions)"
     ]
    },
    {
     "cell_type": "code",
     "collapsed": false,
     "input": [
      "matrix + 6"
     ],
     "language": "python",
     "metadata": {},
     "outputs": []
    },
    {
     "cell_type": "markdown",
     "metadata": {},
     "source": [
      "The addition of a row on a matrix will be seen as the addition of a matrix with replicated rows (the number of columns must match)."
     ]
    },
    {
     "cell_type": "code",
     "collapsed": false,
     "input": [
      "row = np.arange(5)\n",
      "row"
     ],
     "language": "python",
     "metadata": {},
     "outputs": []
    },
    {
     "cell_type": "code",
     "collapsed": false,
     "input": [
      "matrix + row"
     ],
     "language": "python",
     "metadata": {},
     "outputs": []
    },
    {
     "cell_type": "markdown",
     "metadata": {},
     "source": [
      "The addition of a column on a matrix will be seen as the addition of a matrix with replicated columns (the number of rows must match). "
     ]
    },
    {
     "cell_type": "code",
     "collapsed": false,
     "input": [
      "column = np.ones(4)\n",
      "column"
     ],
     "language": "python",
     "metadata": {},
     "outputs": []
    },
    {
     "cell_type": "code",
     "collapsed": false,
     "input": [
      "matrix + column # This will fail bec"
     ],
     "language": "python",
     "metadata": {},
     "outputs": []
    },
    {
     "cell_type": "markdown",
     "metadata": {},
     "source": [
      "This one failed since the righmost dimensions are different. So for columns, an additional dimension must be specified and added on the right, indexing the array with an additional `np.newaxis` or simply `None`."
     ]
    },
    {
     "cell_type": "code",
     "collapsed": false,
     "input": [
      "column = np.arange(4)[:, None]   # or np.ones(4)[:, np.newaxis]\n",
      "column"
     ],
     "language": "python",
     "metadata": {},
     "outputs": []
    },
    {
     "cell_type": "code",
     "collapsed": false,
     "input": [
      "matrix + column"
     ],
     "language": "python",
     "metadata": {},
     "outputs": []
    },
    {
     "cell_type": "markdown",
     "metadata": {},
     "source": [
      "**NOTE:** In the row case above, the shapes also did not match (4,5) for the matrix and (5,) for the row. The actual rule of broadcasting is that for arrays of different rank, dimensions of length 1 are prepended (added on the left of the array shape) until the two arrays have the same rank.\n",
      "\n",
      "For this reason, arrays with the following shapes can be broadcasted together:\n",
      "* `(1, 1, 1, 8)` and `(9, 1)`\n",
      "* `(4, 1, 9)` and `(3, 1)`"
     ]
    },
    {
     "cell_type": "markdown",
     "metadata": {},
     "source": [
      "## You are looking for a particular method in `numpy` ?"
     ]
    },
    {
     "cell_type": "markdown",
     "metadata": {},
     "source": [
      "Simply use the `lookfor` method.."
     ]
    },
    {
     "cell_type": "code",
     "collapsed": false,
     "input": [
      "np.lookfor('fourier transform')"
     ],
     "language": "python",
     "metadata": {},
     "outputs": []
    },
    {
     "cell_type": "markdown",
     "metadata": {},
     "source": [
      "---"
     ]
    },
    {
     "cell_type": "heading",
     "level": 1,
     "metadata": {},
     "source": [
      "Exercice time !"
     ]
    },
    {
     "cell_type": "markdown",
     "metadata": {},
     "source": [
      "These exercices are extracted from Pierre Chanial `numpy` lecture."
     ]
    },
    {
     "cell_type": "heading",
     "level": 2,
     "metadata": {},
     "source": [
      "Waving for loops goodbye"
     ]
    },
    {
     "cell_type": "markdown",
     "metadata": {},
     "source": [
      "\n",
      "Compute $\\pi$, as given by the [Madhava of Sangamagrama](http://en.wikipedia.org/wiki/Approximations_of_%CF%80#Middle_ages) approximation formula:\n",
      "\n",
      "$\\pi = \\sqrt{12}\\sum^\\infty_{k=0} \\frac{(-\\frac{1}{3})^{k}}{2k+1}$.\n",
      "\n",
      "The $k$ indices ranging from 0 to (let\u2019s say) 29 will be returned by the NumPy function arange (see above) and $\\pi$ will be computed by calling another NumPy function (`sum`), instead of using a `for` loop."
     ]
    },
    {
     "cell_type": "code",
     "collapsed": false,
     "input": [
      "\n",
      "# Write your solution here (2 lines expected)\n",
      "\n",
      "print('Relative error:', np.abs(pi - np.pi) / np.pi)"
     ],
     "language": "python",
     "metadata": {},
     "outputs": []
    },
    {
     "cell_type": "markdown",
     "metadata": {},
     "source": [
      "---"
     ]
    },
    {
     "cell_type": "heading",
     "level": 2,
     "metadata": {},
     "source": [
      "Computation of $\\pi$ with Monte Carlo"
     ]
    },
    {
     "cell_type": "markdown",
     "metadata": {},
     "source": [
      "Given the random variables X and Y following the uniform distribution between -1 and 1, the probability for the point (X, Y) to be inside the unity disk is the ratio of the surface of the unity disk and that of the unity square, i.e. $\\pi/4$. It is then possible possible to compute $\\pi$ by drawing realizations of X and Y and counting the fraction of points (X, Y) inside the unity disk.\n",
      "\n",
      "Vectorize the following pure Python code, by using NumPy arrays and functions."
     ]
    },
    {
     "cell_type": "code",
     "collapsed": false,
     "input": [
      "from __future__ import print_function, division\n",
      "import math\n",
      "import random\n",
      "\n",
      "NTOTAL = 1000000\n",
      "\n",
      "random.seed(0)\n",
      "ninside = 0\n",
      "for i in xrange(NTOTAL):\n",
      "    x = random.uniform(-1, 1)\n",
      "    y = random.uniform(-1, 1)\n",
      "    ninside += math.sqrt(x**2 + y**2) < 1\n",
      "pi = 4 * ninside / NTOTAL\n",
      "\n",
      "print('Relative error:', np.abs(pi - np.pi) / np.pi)"
     ],
     "language": "python",
     "metadata": {},
     "outputs": []
    },
    {
     "cell_type": "code",
     "collapsed": false,
     "input": [
      "\n",
      "# Write your solution here\n",
      "\n",
      "print('Relative error:', np.abs(pi - np.pi) / np.pi)"
     ],
     "language": "python",
     "metadata": {},
     "outputs": []
    },
    {
     "cell_type": "markdown",
     "metadata": {},
     "source": [
      "---"
     ]
    },
    {
     "cell_type": "heading",
     "level": 2,
     "metadata": {},
     "source": [
      "Broadcasting theory"
     ]
    },
    {
     "cell_type": "markdown",
     "metadata": {},
     "source": [
      "Try to predict the output shape of the two examples given in the note on broadcasting, a paragraph above."
     ]
    },
    {
     "cell_type": "markdown",
     "metadata": {},
     "source": [
      "---"
     ]
    },
    {
     "cell_type": "heading",
     "level": 2,
     "metadata": {},
     "source": [
      "Velocity histogram"
     ]
    },
    {
     "cell_type": "markdown",
     "metadata": {},
     "source": [
      "\n",
      "Complete the missing parts of the code below to do this exercise. Given a large number of particules of velocities $v_x$, $v_y$, $v_z$ distributed according to the standard normal distribution, plot the histogram of the speed in 1, 2 and 3 dimensions:\n",
      "\n",
      "$v_1 = |v_x| = \\sqrt{v_x^2}$\n",
      "\n",
      "$v_2 = \\sqrt{v_x^2+v_y^2}$\n",
      "\n",
      "$v_3 = \\sqrt{v_x^2+v_y^2+v_z^2}$\n",
      "\n",
      "and compare it to the theoretical Maxwell distributions:\n",
      "\n",
      "$f_n(v) = \\left(\\frac{\\pi}{2}\\right)^{-\\frac{|n-2|}{2}} v^{n-1} e^{-\\frac{1}{2}v^2}$\n",
      "\n",
      "where $n = 1, 2, 3$ is the number of dimensions."
     ]
    },
    {
     "cell_type": "code",
     "collapsed": false,
     "input": [
      "\n",
      "# Replace the ... with your solution\n",
      "\n",
      "from __future__ import print_function, division\n",
      "import numpy as np\n",
      "\n",
      "def velocity2speed(velocity, ndims):\n",
      "    \"\"\" Return the ndims-dimensional speed of the particles. \"\"\"\n",
      "    return ...\n",
      "\n",
      "\n",
      "def speed_distribution(speed, ndims):\n",
      "    \"\"\"\n",
      "    Return the probability distribution function of the ndims-dimensional\n",
      "    speed of the particles.\n",
      "    \"\"\"\n",
      "    return ...\n",
      "\n",
      "\n",
      "NPARTICULES = 1000000\n",
      "\n",
      "velocity = np.random.standard_normal((NPARTICULES, 3))\n",
      "\n",
      "# Test your functions here before plotting the result\n"
     ],
     "language": "python",
     "metadata": {},
     "outputs": []
    },
    {
     "cell_type": "code",
     "collapsed": false,
     "input": [
      "import matplotlib.pyplot as plt\n",
      "%matplotlib inline\n",
      "\n",
      "for ndims in (1, 2, 3):\n",
      "    speed = velocity2speed(velocity, ndims)\n",
      "    ax = plt.subplot(1, 3, ndims)\n",
      "    n, bins, patches = ax.hist(speed, bins=100, normed=True, alpha=0.7)\n",
      "    ax.set_title('{}-d speed distribution'.format(ndims))\n",
      "    ax.set_xlim(0, 5)\n",
      "    ax.set_ylim(0, 0.9)\n",
      "    ax.set_xlabel('speed')\n",
      "    ax.plot(bins, speed_distribution(speed, ndims), 'r', linewidth=2)\n",
      "\n",
      "plt.show()"
     ],
     "language": "python",
     "metadata": {},
     "outputs": []
    }
   ],
   "metadata": {}
  }
 ]
}