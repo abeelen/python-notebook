{
 "metadata": {
  "name": "",
  "signature": "sha256:bd1e2317451315c322d02adaa03ceb0ffa597a7554072fc9cdcc32ee5ed48c62"
 },
 "nbformat": 3,
 "nbformat_minor": 0,
 "worksheets": [
  {
   "cells": [
    {
     "cell_type": "markdown",
     "metadata": {},
     "source": [
      "# Numpy"
     ]
    },
    {
     "cell_type": "markdown",
     "metadata": {},
     "source": [
      "NumPy is the fundamental package for scientific computing with Python. You can find more tutorials at http://wiki.scipy.org/Tentative_NumPy_Tutorial . Also check http://www.numpy.org for additional informations."
     ]
    },
    {
     "cell_type": "code",
     "collapsed": false,
     "input": [
      "import numpy as np # Convenient to keep namespace separate"
     ],
     "language": "python",
     "metadata": {},
     "outputs": []
    },
    {
     "cell_type": "heading",
     "level": 2,
     "metadata": {},
     "source": [
      "Array creation"
     ]
    },
    {
     "cell_type": "markdown",
     "metadata": {},
     "source": [
      "`numpy` arrays are generally defined from lists"
     ]
    },
    {
     "cell_type": "markdown",
     "metadata": {},
     "source": [
      "Unlike python lists, numpy arrays contain objects of ONLY one type."
     ]
    },
    {
     "cell_type": "code",
     "collapsed": false,
     "input": [
      "# 1D array\n",
      "np.array([1, 2, 3, 4])"
     ],
     "language": "python",
     "metadata": {},
     "outputs": []
    },
    {
     "cell_type": "code",
     "collapsed": false,
     "input": [
      "# 2D array\n",
      "np.array([[1, 2], [3, 4]])"
     ],
     "language": "python",
     "metadata": {},
     "outputs": []
    },
    {
     "cell_type": "code",
     "collapsed": false,
     "input": [
      "a = np.array([[1, 2], [3, 4]])\n",
      "print(type(a))"
     ],
     "language": "python",
     "metadata": {},
     "outputs": []
    },
    {
     "cell_type": "markdown",
     "metadata": {},
     "source": [
      "A `numpy` array is an object with many attributes"
     ]
    },
    {
     "cell_type": "code",
     "collapsed": false,
     "input": [
      "print('a length :', a.size)\n",
      "print('a number of dimensions :', a.ndim)\n",
      "print('a shape :', a.shape)\n",
      "print('a data type :', a.dtype)"
     ],
     "language": "python",
     "metadata": {},
     "outputs": []
    },
    {
     "cell_type": "markdown",
     "metadata": {},
     "source": [
      "**NOTE:** Unlike python lists, numpy arrays contain objects of ONLY one data type. By default, the data type (`dtype`) is set to **`float`** which corresponds to 64-byte float or `np.float64`"
     ]
    },
    {
     "cell_type": "markdown",
     "metadata": {},
     "source": [
      "### `empty`, `zeros` and `ones`\n",
      "To quickly initialize a `numpy` array, there are a few convenience methods that only require a shape as input (and optionally a dtype).."
     ]
    },
    {
     "cell_type": "code",
     "collapsed": false,
     "input": [
      "np.empty((3, 3))"
     ],
     "language": "python",
     "metadata": {},
     "outputs": []
    },
    {
     "cell_type": "code",
     "collapsed": false,
     "input": [
      "np.zeros((2, 2), dtype=float)"
     ],
     "language": "python",
     "metadata": {},
     "outputs": []
    },
    {
     "cell_type": "code",
     "collapsed": false,
     "input": [
      "np.ones((3, 5), dtype=int)"
     ],
     "language": "python",
     "metadata": {},
     "outputs": []
    },
    {
     "cell_type": "markdown",
     "metadata": {},
     "source": [
      ".. or another numpy array."
     ]
    },
    {
     "cell_type": "code",
     "collapsed": false,
     "input": [
      "np.empty_like(a)"
     ],
     "language": "python",
     "metadata": {},
     "outputs": []
    },
    {
     "cell_type": "code",
     "collapsed": false,
     "input": [
      "np.zeros_like(a)"
     ],
     "language": "python",
     "metadata": {},
     "outputs": []
    },
    {
     "cell_type": "code",
     "collapsed": false,
     "input": [
      "np.ones_like(a, dtype=str)"
     ],
     "language": "python",
     "metadata": {},
     "outputs": []
    },
    {
     "cell_type": "markdown",
     "metadata": {},
     "source": [
      "### `arange`\n",
      "A range can be quickly created with the **`arange`** method ( as *`indgen`* in IDL)"
     ]
    },
    {
     "cell_type": "code",
     "collapsed": false,
     "input": [
      "np.arange(10)"
     ],
     "language": "python",
     "metadata": {},
     "outputs": []
    },
    {
     "cell_type": "markdown",
     "metadata": {},
     "source": [
      "Additional arguments enable to set the lower and upper bounds as well as the range step."
     ]
    },
    {
     "cell_type": "code",
     "collapsed": false,
     "input": [
      "np.arange(2, 3, 0.25)"
     ],
     "language": "python",
     "metadata": {},
     "outputs": []
    },
    {
     "cell_type": "markdown",
     "metadata": {},
     "source": [
      "### `linspace` and `logspace`\n",
      "Similarly to `arange`, `linspace` and `logspace` are convenience methods to create ranges, but instead of specifying the elements spacing, the constraint is on the total number of elements."
     ]
    },
    {
     "cell_type": "code",
     "collapsed": false,
     "input": [
      "np.linspace(1, 10, 5)"
     ],
     "language": "python",
     "metadata": {},
     "outputs": []
    },
    {
     "cell_type": "markdown",
     "metadata": {},
     "source": [
      "For `logspace`, the boundaries should be specified in `log`."
     ]
    },
    {
     "cell_type": "code",
     "collapsed": false,
     "input": [
      "np.logspace(0, 1, 5)"
     ],
     "language": "python",
     "metadata": {},
     "outputs": []
    },
    {
     "cell_type": "markdown",
     "metadata": {},
     "source": [
      "### `ogrid`, `mgrid` and `indices`\n",
      "For multidimensional ranges, `ogrid` creates a column and a row"
     ]
    },
    {
     "cell_type": "code",
     "collapsed": false,
     "input": [
      "np.ogrid[0:3, 0:3]"
     ],
     "language": "python",
     "metadata": {},
     "outputs": []
    },
    {
     "cell_type": "markdown",
     "metadata": {},
     "source": [
      "while `mgrid` and `indices` create the full coordinate arrays"
     ]
    },
    {
     "cell_type": "code",
     "collapsed": false,
     "input": [
      "np.mgrid[0:3, 0:3]"
     ],
     "language": "python",
     "metadata": {},
     "outputs": []
    },
    {
     "cell_type": "code",
     "collapsed": false,
     "input": [
      "np.indices((3, 3))"
     ],
     "language": "python",
     "metadata": {},
     "outputs": []
    },
    {
     "cell_type": "heading",
     "level": 2,
     "metadata": {},
     "source": [
      "Accessing array elements"
     ]
    },
    {
     "cell_type": "markdown",
     "metadata": {},
     "source": [
      "### In 1D\n",
      "`numpy` arrays are accessed with the same slicing as for lists.\n",
      "\n",
      "**Reminder**: `[start:end:step]`"
     ]
    },
    {
     "cell_type": "code",
     "collapsed": false,
     "input": [
      "b = np.arange(10)\n",
      "b[0:8:2]"
     ],
     "language": "python",
     "metadata": {},
     "outputs": []
    },
    {
     "cell_type": "markdown",
     "metadata": {},
     "source": [
      "### In n-dimensions\n",
      "The first index represents the row, the second represents the column. Dimensions need to be separated with commas ','."
     ]
    },
    {
     "cell_type": "code",
     "collapsed": false,
     "input": [
      "# Square array from arange with reshape method\n",
      "c = np.arange(5 * 5).reshape(5, 5)\n",
      "print(c)\n",
      "print(c[2, 3])   # Third row, fourth column\n",
      "print(c[-1, 1])  # Last row, second column"
     ],
     "language": "python",
     "metadata": {},
     "outputs": []
    },
    {
     "cell_type": "markdown",
     "metadata": {},
     "source": [
      "### Slicing"
     ]
    },
    {
     "cell_type": "code",
     "collapsed": false,
     "input": [
      "print(\"c[0, :] = \", c[0, :]) # First row equivalent to c[0]\n",
      "print(\"c[1, :] = \", c[1, :]) # Second row equivalent to c[1]\n",
      "print(\"c[:, 0] = \", c[:, 0]) # First column\n",
      "print(\"c[:, 1] = \", c[:, 1]) # Second column"
     ],
     "language": "python",
     "metadata": {},
     "outputs": []
    },
    {
     "cell_type": "markdown",
     "metadata": {},
     "source": [
      "More funky.."
     ]
    },
    {
     "cell_type": "code",
     "collapsed": false,
     "input": [
      "print(c[0:3, 0])       # from 0 to 3 (excluded) on the first axis\n",
      "print(c[0:4:2, 1:5:2]) # from 0 to 4 (excluded) every 2 elements on the 1th to 5th axis every 2 elements"
     ],
     "language": "python",
     "metadata": {},
     "outputs": []
    },
    {
     "cell_type": "heading",
     "level": 2,
     "metadata": {},
     "source": [
      "`where` !"
     ]
    },
    {
     "cell_type": "markdown",
     "metadata": {},
     "source": [
      "This is the magical IDL command, which is rendered almost useless in Python"
     ]
    },
    {
     "cell_type": "code",
     "collapsed": false,
     "input": [
      "# np.random is a submodule of numpy, dedicated to random generators\n",
      "a = np.random.uniform(size=10)\n",
      "print(a)"
     ],
     "language": "python",
     "metadata": {},
     "outputs": []
    },
    {
     "cell_type": "markdown",
     "metadata": {},
     "source": [
      "A simple test operation with a `numpy` array becomes an array of boolean values (element-wise test), which can turn extremely convenient to create masks."
     ]
    },
    {
     "cell_type": "code",
     "collapsed": false,
     "input": [
      "mask = a > 0.5\n",
      "print(mask)"
     ],
     "language": "python",
     "metadata": {},
     "outputs": []
    },
    {
     "cell_type": "markdown",
     "metadata": {},
     "source": [
      "These masks are then used as indices (*smart indexing*) to only retrieve the elements that match the test criterion."
     ]
    },
    {
     "cell_type": "code",
     "collapsed": false,
     "input": [
      "a[mask]"
     ],
     "language": "python",
     "metadata": {},
     "outputs": []
    },
    {
     "cell_type": "markdown",
     "metadata": {},
     "source": [
      "or that **don't** match the criterion"
     ]
    },
    {
     "cell_type": "code",
     "collapsed": false,
     "input": [
      "a[~mask]"
     ],
     "language": "python",
     "metadata": {},
     "outputs": []
    },
    {
     "cell_type": "markdown",
     "metadata": {},
     "source": [
      "And the tests can be combined all at once"
     ]
    },
    {
     "cell_type": "code",
     "collapsed": false,
     "input": [
      "a[(a > 0.4) & (a < 0.7)]"
     ],
     "language": "python",
     "metadata": {},
     "outputs": []
    },
    {
     "cell_type": "markdown",
     "metadata": {},
     "source": [
      "However to get the indices of the array satisfying certain conditions, then `np.where` should be used"
     ]
    },
    {
     "cell_type": "code",
     "collapsed": false,
     "input": [
      "np.where(a > 0.5)                 # return a tuple with the indexes where the condition is True as first element\n",
      "print(np.where(a > 0.5)[0])       # ... to access directly the indexes"
     ],
     "language": "python",
     "metadata": {},
     "outputs": []
    },
    {
     "cell_type": "markdown",
     "metadata": {},
     "source": [
      "but the best use case for `np.where` is to return an array progamatically : \"if condition is met, return x, otherwise return y\" "
     ]
    },
    {
     "cell_type": "code",
     "collapsed": false,
     "input": [
      "np.where(a > 0.5, a, np.nan)"
     ],
     "language": "python",
     "metadata": {},
     "outputs": []
    },
    {
     "cell_type": "heading",
     "level": 2,
     "metadata": {},
     "source": [
      "Array operations"
     ]
    },
    {
     "cell_type": "markdown",
     "metadata": {},
     "source": [
      "Arithmetic operations are element wise"
     ]
    },
    {
     "cell_type": "code",
     "collapsed": false,
     "input": [
      "a = np.array([[1.,1.],[0.,0.]])\n",
      "b = np.array([[1,1],[1,1]])\n",
      "c = np.array([[1,2],[3,4]])\n",
      "print((a + 2) + (b * 4) * c) # upcasting is always happening"
     ],
     "language": "python",
     "metadata": {},
     "outputs": []
    },
    {
     "cell_type": "code",
     "collapsed": false,
     "input": [
      "print(a * c)         # is done element wise\n",
      "print(np.dot(a, c)) # is the matrix product."
     ],
     "language": "python",
     "metadata": {},
     "outputs": []
    },
    {
     "cell_type": "markdown",
     "metadata": {},
     "source": [
      "On numpy arrays you can apply several universal functions (ufunc - http://docs.scipy.org/doc/numpy/reference/ufuncs.html ) which are much faster than the python equivalent"
     ]
    },
    {
     "cell_type": "code",
     "collapsed": false,
     "input": [
      "vector = np.arange(10)\n",
      "print(vector, \"\\n\",vector**2, \"\\n\",np.sqrt(vector)) # return arrays with the function applied to each element\n",
      "print(np.min(vector), np.max(vector), np.mean(vector), np.sum(vector)) # special functions\n",
      "print(vector.min(), vector.max(), vector.sum())                        # same functions"
     ],
     "language": "python",
     "metadata": {},
     "outputs": []
    },
    {
     "cell_type": "code",
     "collapsed": false,
     "input": [
      "matrix = np.arange(3*4).reshape(3,4)\n",
      "print(matrix)\n",
      "\n",
      "print(matrix.sum(axis=0)) # sum over the first axis\n",
      "\n",
      "print(matrix.sum(axis=1)) # sum over the second axis"
     ],
     "language": "python",
     "metadata": {},
     "outputs": []
    },
    {
     "cell_type": "code",
     "collapsed": false,
     "input": [
      "import numpy as np\n",
      "np.zeros((2,2))"
     ],
     "language": "python",
     "metadata": {},
     "outputs": [
      {
       "metadata": {},
       "output_type": "pyout",
       "prompt_number": 3,
       "text": [
        "array([[ 0.,  0.],\n",
        "       [ 0.,  0.]])"
       ]
      }
     ],
     "prompt_number": 3
    },
    {
     "cell_type": "code",
     "collapsed": false,
     "input": [],
     "language": "python",
     "metadata": {},
     "outputs": []
    }
   ],
   "metadata": {}
  }
 ]
}