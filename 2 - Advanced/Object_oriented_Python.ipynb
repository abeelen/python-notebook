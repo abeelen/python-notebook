{
 "metadata": {
  "name": "",
  "signature": "sha256:08ee5a4bbb1ed86008741fdd524ee1f6010fee56de682d043f544e220aeddae1"
 },
 "nbformat": 3,
 "nbformat_minor": 0,
 "worksheets": [
  {
   "cells": [
    {
     "cell_type": "markdown",
     "metadata": {},
     "source": [
      "# Object oriented Python\n",
      "\n",
      "In this lecture you will learn the power of Python classes and hopefully start thinking about designing part of your code in an object oriented way to improve its flexibility.\n",
      "\n",
      "This whole lecture will focus on a line fitting problem. \n",
      "In the first section, the problem will be solved using pure methods \"\u00e0 la\" IDL.\n",
      "Then, these very methods will be gathered inside a class.\n",
      "\n",
      "A few plots will be draw inside this notebook so if you haven't started the `ipython notebook` with the `--pylab inline` option, you may need to run the following line."
     ]
    },
    {
     "cell_type": "code",
     "collapsed": false,
     "input": [
      "%%pylab --inline"
     ],
     "language": "python",
     "metadata": {},
     "outputs": []
    },
    {
     "cell_type": "markdown",
     "metadata": {},
     "source": [
      "The data will be a gaussian distribution with added noise"
     ]
    },
    {
     "cell_type": "code",
     "collapsed": false,
     "input": [
      "from __future__ import print_function, division\n",
      "\n",
      "import numpy as np\n",
      "import matplotlib.pyplot as plt\n",
      "\n",
      "# define the gaussian distribution\n",
      "def gaussian1d(x, scale, mu, sigma, const=0.0):\n",
      "    \"\"\"One dimensional gaussian profile\n",
      "\n",
      "    Parameters\n",
      "    ----------\n",
      "    x: array_like\n",
      "        Coordinates\n",
      "    scale: float\n",
      "        Scale factor\n",
      "    mu: float\n",
      "        Peak coordinate\n",
      "    sigma: float\n",
      "        Gaussian width\n",
      "    const: float, optional (default 0.0)\n",
      "        Constant term / baseline\n",
      "\n",
      "    Return\n",
      "    ------\n",
      "    output: numpy.ndarray\n",
      "        Gaussian function with respect to x\n",
      "\n",
      "    \"\"\"\n",
      "    return scale * np.exp(-0.5*((x-mu)/sigma)**2)\n",
      "\n",
      "# fiducial values\n",
      "scale0 = 2.5\n",
      "mu0 = 35\n",
      "sigma0 = 12\n",
      "# tupled parameters\n",
      "p0 = (scale0, mu0, sigma0)\n",
      "\n",
      "# create coordinates\n",
      "x = np.arange(100)\n",
      "# generate data\n",
      "data = gaussian1d(x, *p0)\n",
      "# add gaussian noise to data\n",
      "data += np.random.normal(scale=scale0/10, size=len(x))\n",
      "\n",
      "# for plotting purposes, create a \"high resolution\" distribution\n",
      "x_plot = np.linspace(x.min(), x.max(), len(x)*5)\n",
      "y_plot = gaussian1d(x_plot, *p0)"
     ],
     "language": "python",
     "metadata": {},
     "outputs": []
    },
    {
     "cell_type": "code",
     "collapsed": false,
     "input": [
      "# Plot the true and noisy data\n",
      "fig, ax = plt.subplots(figsize=(12,12))\n",
      "ax.plot(x_plot, y_plot, 'k--', label='true distribution')\n",
      "ax.plot(x, data, 'bo', label='noisy data')\n",
      "ax.legend(loc='best', frameon=False)\n",
      "ax.set_title(\"Noisy Gaussian distribution\")\n",
      "plt.show()"
     ],
     "language": "python",
     "metadata": {},
     "outputs": []
    },
    {
     "cell_type": "code",
     "collapsed": false,
     "input": [
      "# for one dimensional fitting, scipy provides a wrapper of the more general leastsq method, called curve_fit\n",
      "from scipy.optimize import curve_fit\n",
      "\n",
      "# define the fitting method\n",
      "def gaussfit1d(data, coords, params_estim, std=False):\n",
      "    \"\"\"Fit a 1D gaussian to the data\n",
      "\n",
      "    Compute the best parameter estimates in the least-square sense that\n",
      "    fit a 1D gaussian function to the data.\n",
      "    \n",
      "    Parameters\n",
      "    ----------\n",
      "    data: numpy.ndarray\n",
      "        Data array to be analysed\n",
      "    coords: numpy.ndarray\n",
      "        Data coordinates\n",
      "    param_estim: tuple of floats\n",
      "        Parameter estimate for the fit\n",
      "    std: bool, optional (default `False`)\n",
      "        Return the 1-sigma standard deviation of the output parameters\n",
      "\n",
      "    Returns\n",
      "    -------\n",
      "    popt: tuple of float\n",
      "        Best fit parameters for a 1D gaussian\n",
      "        (scale, mu, sigma, const)\n",
      "    pstd: numpy.array\n",
      "        1-sigma std for the parameters (if std==True)\n",
      "    \n",
      "    \"\"\"\n",
      "    popt, pcov = curve_fit(gaussian1d, coords, data, p0=params_estim)\n",
      "    \n",
      "    if std:\n",
      "        return popt, np.sqrt(np.diag(pcov))\n",
      "\n",
      "    return popt"
     ],
     "language": "python",
     "metadata": {},
     "outputs": []
    },
    {
     "cell_type": "markdown",
     "metadata": {},
     "source": [
      "To get an estimate of the parameters for the gaussian profile, the computation of the moments of the data is very appropriate"
     ]
    },
    {
     "cell_type": "code",
     "collapsed": false,
     "input": [
      "def moments(data, coord):\n",
      "    \"\"\"Compute moments of the data to serve as first guess for fit\n",
      "\n",
      "    Parameters\n",
      "    ----------\n",
      "    data: numpy.ndarray\n",
      "        Data array to be analysed\n",
      "    coords: numpy.ndarray\n",
      "        Data coordinates\n",
      "\n",
      "    Returns\n",
      "    -------\n",
      "    output: tuple of floats\n",
      "        1D gaussian parameters (scale, mu, sigma)\n",
      "\n",
      "    \"\"\"\n",
      "    # Amplitude\n",
      "    scale = data.max()\n",
      "    # First moment\n",
      "    mu = np.sum(coord * data) / np.sum(data)\n",
      "    # Second moment\n",
      "    sigma = np.sqrt(np.abs(np.sum((coord-mu)**2 * data) / np.sum(data)))\n",
      "\n",
      "    return (scale, mu, sigma)"
     ],
     "language": "python",
     "metadata": {},
     "outputs": []
    },
    {
     "cell_type": "markdown",
     "metadata": {},
     "source": [
      "The methods now defined, the computation can be written as"
     ]
    },
    {
     "cell_type": "code",
     "collapsed": false,
     "input": [
      "params_str = \"  scale = {:1.2f}\\tmu = {:1.2f}\\tsigma = {:1.2f}\"\n",
      "pmom = moments(data, x)\n",
      "popt = gaussfit1d(data, x, pmom)\n",
      "\n",
      "print(\"True parameters\", params_str.format(*p0), \n",
      "      \"Estimated parameters (moments)\", params_str.format(*pmom),\n",
      "      \"Fitted parameters\", params_str.format(*popt),\n",
      "      sep='\\n')"
     ],
     "language": "python",
     "metadata": {},
     "outputs": []
    },
    {
     "cell_type": "markdown",
     "metadata": {},
     "source": [
      "and the result plot is"
     ]
    },
    {
     "cell_type": "code",
     "collapsed": false,
     "input": [
      "fig, ax = plt.subplots(figsize=(12,12))\n",
      "ax.plot(x_plot, y_plot, 'k--', label='true distribution')\n",
      "ax.plot(x, data, 'bo', label='noisy data')\n",
      "ax.plot(x, gaussian1d(x, *pmom), 'g.', label='estimated distribution')\n",
      "ax.plot(x, gaussian1d(x, *popt), 'r-', label='fitted distribution')\n",
      "ax.legend(loc='best', frameon=False)\n",
      "ax.set_title(\"Fitted noisy Gaussian distribution\")\n",
      "plt.show()"
     ],
     "language": "python",
     "metadata": {},
     "outputs": []
    }
   ],
   "metadata": {}
  }
 ]
}