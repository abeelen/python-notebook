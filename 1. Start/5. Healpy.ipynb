{
 "metadata": {
  "name": "",
  "signature": "sha256:ba785877109dce2047c10205862bf60c376d0530778a43911453ed9cd01e57e9"
 },
 "nbformat": 3,
 "nbformat_minor": 0,
 "worksheets": [
  {
   "cells": [
    {
     "cell_type": "markdown",
     "metadata": {},
     "source": [
      "Examples taken from the healpy tutorial : http://healpy.readthedocs.org/en/latest/tutorial.html"
     ]
    },
    {
     "cell_type": "code",
     "collapsed": false,
     "input": [
      "# The following line is just for the IPython notebook shell\n",
      "%matplotlib \n",
      "\n",
      "import numpy as np\n",
      "import matplotlib.pyplot as plt\n",
      "import healpy as hp"
     ],
     "language": "python",
     "metadata": {},
     "outputs": []
    },
    {
     "cell_type": "heading",
     "level": 1,
     "metadata": {},
     "source": [
      "Difference between ring and nested ordering"
     ]
    },
    {
     "cell_type": "code",
     "collapsed": false,
     "input": [
      "NSIDE = 8\n",
      "m = np.arange(hp.nside2npix(NSIDE)) # Create a map/vector, with just pixel numbering\n",
      "hp.mollview(m, title=\"Mollview image RING\")"
     ],
     "language": "python",
     "metadata": {},
     "outputs": []
    },
    {
     "cell_type": "code",
     "collapsed": false,
     "input": [
      "hp.mollview(m, nest=True, title=\"Mollview image NESTED\")"
     ],
     "language": "python",
     "metadata": {},
     "outputs": []
    },
    {
     "cell_type": "heading",
     "level": 1,
     "metadata": {},
     "source": [
      "Changing the celestial coordinate system"
     ]
    },
    {
     "cell_type": "code",
     "collapsed": false,
     "input": [
      "hp.mollview(m, coord=['G','E']) # m is in galatic, display in ecliptic\n",
      "hp.graticule()                  # this add the coordinate grid"
     ],
     "language": "python",
     "metadata": {},
     "outputs": []
    },
    {
     "cell_type": "heading",
     "level": 1,
     "metadata": {},
     "source": [
      "Pixels to angular coordinates"
     ]
    },
    {
     "cell_type": "markdown",
     "metadata": {},
     "source": [
      "The position of each pixel is defined by its index number.\n",
      "Have a look at http://healpix.sourceforge.net/html/intronode6.htm#SECTION00063300000000000000 for definition and relation with astronomical axes"
     ]
    },
    {
     "cell_type": "code",
     "collapsed": false,
     "input": [
      "(theta, phi) = hp.pix2ang(NSIDE, 0)      # Give the theta/phi (in rad) on pixel 0 for the RING system\n",
      "print np.degrees(theta), np.degrees(phi) # Celestial pole in RING \n",
      "pixcoord = hp.ang2pix(NSIDE, theta, phi) # inverse transformation\n",
      "print pixcoord"
     ],
     "language": "python",
     "metadata": {},
     "outputs": []
    },
    {
     "cell_type": "heading",
     "level": 1,
     "metadata": {},
     "source": [
      "Masked Array"
     ]
    },
    {
     "cell_type": "markdown",
     "metadata": {},
     "source": [
      "One can use mask to define good and bad data, by default healpy will use the healpy.UNSEEN value to define the mask, but one can give any mask"
     ]
    },
    {
     "cell_type": "code",
     "collapsed": false,
     "input": [
      "bad_data = np.random.uniform(size=hp.nside2npix(NSIDE)) > 0.05 # random mask, 1 is good, 0 is bad\n",
      "m = np.where(bad_data, m, hp.UNSEEN)                           # set those pixels to hp.UNSEEN\n",
      "\n",
      "\n",
      "m_masked = hp.ma(m) # create an healpy masked array\n",
      "\n",
      "hp.mollview(m_masked.mask, title=\"mask\")\n",
      "hp.mollview(m_masked, title=\"masked_array\")\n"
     ],
     "language": "python",
     "metadata": {},
     "outputs": []
    },
    {
     "cell_type": "code",
     "collapsed": false,
     "input": [
      "print m_masked.mean(), m_masked.sum() # Now all operations take the mask into account\n",
      "print m_masked.min(), m_masked.max()\n"
     ],
     "language": "python",
     "metadata": {},
     "outputs": []
    },
    {
     "cell_type": "code",
     "collapsed": false,
     "input": [
      "# Create a mask of pixels at +-5 deg from galactic plane\n",
      "coords = hp.pix2ang(NSIDE, np.arange(hp.nside2npix(NSIDE)))                      \n",
      "additionnal_mask = np.where(np.abs(90-np.degrees(coords[0])) < 5, True, False)\n",
      "\n",
      "\n",
      "hp.mollview(additionnal_mask, title=\"Additionnal mask\")\n",
      "\n",
      "m_masked.mask = np.ma.mask_or(m_masked.mask,additionnal_mask)\n",
      "hp.mollview(m_masked)"
     ],
     "language": "python",
     "metadata": {},
     "outputs": []
    },
    {
     "cell_type": "code",
     "collapsed": false,
     "input": [
      "type(coords[0])"
     ],
     "language": "python",
     "metadata": {},
     "outputs": []
    },
    {
     "cell_type": "heading",
     "level": 1,
     "metadata": {},
     "source": [
      "To smooth and repixelize an healpix map"
     ]
    },
    {
     "cell_type": "code",
     "collapsed": false,
     "input": [
      "m_random = hp.ma(np.random.uniform(size=hp.nside2npix(NSIDE))) # generate a uniformly random field\n",
      "m_random.mask = m_masked.mask\n",
      "\n",
      "hp.mollview(m_random, title='before')"
     ],
     "language": "python",
     "metadata": {},
     "outputs": []
    },
    {
     "cell_type": "code",
     "collapsed": false,
     "input": [
      "smooth_m = hp.smoothing(m_random, fwhm=np.radians(20)) # smooth with a 20 degrees gaussian\n",
      "hp.mollview(smooth_m, title=\"after smoothing\")\n",
      "\n",
      "m_degrad  = hp.ud_grade(smooth_m,nside_out=NSIDE/2, order_in='RING', pess=True) # repixelize\n",
      "hp.mollview(m_degrad, title=\"after repixelisation\")"
     ],
     "language": "python",
     "metadata": {},
     "outputs": []
    }
   ],
   "metadata": {}
  }
 ]
}