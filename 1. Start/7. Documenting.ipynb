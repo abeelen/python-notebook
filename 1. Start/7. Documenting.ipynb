{
 "metadata": {
  "name": "",
  "signature": "sha256:1567815dfe97da7dc8dd39d0d95e02dfcafea8d79cea75161f63b765ac8f1973"
 },
 "nbformat": 3,
 "nbformat_minor": 0,
 "worksheets": [
  {
   "cells": [
    {
     "cell_type": "markdown",
     "metadata": {},
     "source": [
      "Documenting\n",
      "===========\n",
      "\n",
      "Documentation is the second if not first most important task when programming. It will help you and other to understand how your program works.\n",
      "\n",
      "A good coding style will help ([PEP8](http://legacy.python.org/dev/peps/pep-0008)) in particular having proper variable name and naming convention that you will stick to.\n",
      "\n",
      "They are two ways to document your code :\n",
      "\n",
      "- [Comments](#Comments)\n",
      "- [Docstrings](#Docstring)"
     ]
    },
    {
     "cell_type": "heading",
     "level": 1,
     "metadata": {},
     "source": [
      "Comments"
     ]
    },
    {
     "cell_type": "markdown",
     "metadata": {},
     "source": [
      "\n",
      "Comments are the simplest way to explain what your code is doing. They are two style of comments :\n",
      "\n",
      "* Inline comments\n",
      "    You can simply add a # character on a line and everything after it will be ignored\n",
      "    ```\n",
      "    > 1+2 # This will not be interpreted\n",
      "    ```\n",
      "    If you use to much inline comments, your code will be less readable\n",
      "* Block comments\n",
      "    Block comments are a series of line starting with ```#``` and a white space at the indentation where it applies\n",
      "    ```\n",
      "    > # This is the begnning of a block comment\n",
      "    > # here again\n",
      "    > # ending here\n",
      "    ```\n",
      "    This can greatly help to explain what your code is doing. You can also use it to add 'flags' like 'TODO:' or 'FIXME:' to help youself remembering things."
     ]
    },
    {
     "cell_type": "code",
     "collapsed": false,
     "input": [
      "# This is an example of a block comment\n",
      "# func should work on int and float\n",
      "# TODO: check that the returned type is the same as the input type\n",
      "\n",
      "def func(x):\n",
      "    y = x+1 # This works on int and float\n",
      "    return y # Return y : Overuse of the comments, this was self explanatory\n",
      "\n",
      "print(func(2)) # All comments are disgarded"
     ],
     "language": "python",
     "metadata": {},
     "outputs": []
    },
    {
     "cell_type": "heading",
     "level": 1,
     "metadata": {},
     "source": [
      "Docstring"
     ]
    },
    {
     "cell_type": "markdown",
     "metadata": {},
     "source": [
      "\n",
      "The best way to document your code is to use docstring properly. Docstring are text embeded between triple quote (\"\"\"Docstring here\"\"\"). You can add them at the module, class or function level. You can access the docstring directly from the python interpreter. "
     ]
    },
    {
     "cell_type": "code",
     "collapsed": false,
     "input": [
      "def func(x):\n",
      "    \"\"\"This function return the input with one added.\n",
      "    New lines\n",
      "    \"\"\"\n",
      "    return x+1"
     ],
     "language": "python",
     "metadata": {},
     "outputs": []
    },
    {
     "cell_type": "code",
     "collapsed": false,
     "input": [
      "print(func(3))"
     ],
     "language": "python",
     "metadata": {},
     "outputs": []
    },
    {
     "cell_type": "code",
     "collapsed": false,
     "input": [
      "help(func)"
     ],
     "language": "python",
     "metadata": {},
     "outputs": []
    },
    {
     "cell_type": "markdown",
     "metadata": {},
     "source": [
      "IPython also offer the possibility to access the function signature and docstring with the special ? command\n",
      "```\n",
      "> ?func\n",
      "Type:        function\n",
      "String form: <function func at 0x7fe30ffef2a8>\n",
      "File:        /home/abeelen/<ipython-input-1-e404e6f660b4>\n",
      "Definition:  func(x)\n",
      "Docstring:   This function return the input with one added.\n",
      "```"
     ]
    },
    {
     "cell_type": "markdown",
     "metadata": {},
     "source": [
      "Python offer several [conventions](http://legacy.python.org/dev/peps/pep-0257/) regarding the use of docstring. You can put any type of information in the docstring, with a free format. However it is best to use a standardized format which would allow other software to generate the code documentation on the fly (for e.g. [Sphinx](http://sphinx-doc.org/))\n",
      "\n",
      "You should use the [reStructuredText markup](http://legacy.python.org/dev/peps/pep-0287/) language in your docstring to add decoration. And choose between one of the main used [format](https://github.com/dadadel/pyment/blob/master/doc/pyment.rst#managed-docstrings-examples). [Pyment](https://github.com/dadadel/pyment) can convert between them. As you will mainly write scientific code using numpy, one could stick with the [numpydoc](https://github.com/numpy/numpy/blob/master/doc/HOWTO_DOCUMENT.rst.txt)  style"
     ]
    },
    {
     "cell_type": "code",
     "collapsed": false,
     "input": [
      "def func(x):\n",
      "    \"\"\"This function return the input with one added.\n",
      "    \n",
      "    Parameters\n",
      "    ----------\n",
      "    x : int or float\n",
      "        `x` is the input parameter\n",
      "\n",
      "    Returns\n",
      "    -------\n",
      "    int or float\n",
      "        the input with one added\n",
      "\n",
      "    Note\n",
      "    ----\n",
      "    This is a very silly function.\n",
      "\n",
      "    References\n",
      "    ----------\n",
      "    You can refer to the addition tables in [1]_.\n",
      "\n",
      "    .. [1] Your first math classes\n",
      "    \"\"\"\n",
      "    return x+1"
     ],
     "language": "python",
     "metadata": {},
     "outputs": []
    }
   ],
   "metadata": {}
  }
 ]
}