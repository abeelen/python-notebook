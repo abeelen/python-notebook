{
 "metadata": {
  "name": "",
  "signature": "sha256:256d3ab3866bf6ecf1cf23a58d6a781cfa6b93d42f5d54ccaec11d80321a84d4"
 },
 "nbformat": 3,
 "nbformat_minor": 0,
 "worksheets": [
  {
   "cells": [
    {
     "cell_type": "markdown",
     "metadata": {},
     "source": [
      "This is a very short tutorial on basic python syntax. You can find more tutorials at https://docs.python.org/"
     ]
    },
    {
     "cell_type": "heading",
     "level": 1,
     "metadata": {},
     "source": [
      "You can perform all operation interactively"
     ]
    },
    {
     "cell_type": "code",
     "collapsed": false,
     "input": [
      "2*3"
     ],
     "language": "python",
     "metadata": {},
     "outputs": []
    },
    {
     "cell_type": "code",
     "collapsed": false,
     "input": [
      "10./4e1"
     ],
     "language": "python",
     "metadata": {},
     "outputs": []
    },
    {
     "cell_type": "code",
     "collapsed": false,
     "input": [
      "'toto'*5"
     ],
     "language": "python",
     "metadata": {},
     "outputs": []
    },
    {
     "cell_type": "code",
     "collapsed": false,
     "input": [
      "3**4 # Power"
     ],
     "language": "python",
     "metadata": {},
     "outputs": []
    },
    {
     "cell_type": "heading",
     "level": 1,
     "metadata": {},
     "source": [
      "Defining variables"
     ]
    },
    {
     "cell_type": "code",
     "collapsed": false,
     "input": [
      "a = 3\n",
      "b = 3.\n",
      "c = a+b\n",
      "boolean = True\n",
      "print c"
     ],
     "language": "python",
     "metadata": {},
     "outputs": []
    },
    {
     "cell_type": "heading",
     "level": 1,
     "metadata": {},
     "source": [
      "Types are dynamically (re)-assigned"
     ]
    },
    {
     "cell_type": "code",
     "collapsed": false,
     "input": [
      "type(a), type(b), type(c), type(boolean)"
     ],
     "language": "python",
     "metadata": {},
     "outputs": []
    },
    {
     "cell_type": "code",
     "collapsed": false,
     "input": [
      "del(c,boolean) # delete these variables"
     ],
     "language": "python",
     "metadata": {},
     "outputs": []
    },
    {
     "cell_type": "heading",
     "level": 1,
     "metadata": {},
     "source": [
      "Intrisic python list"
     ]
    },
    {
     "cell_type": "code",
     "collapsed": false,
     "input": [
      "l=[10, 5.,'toto','titi','tata']  # can mix different types"
     ],
     "language": "python",
     "metadata": {},
     "outputs": []
    },
    {
     "cell_type": "code",
     "collapsed": false,
     "input": [
      "l[2] # Accessing the third element (python is 0-indexed)"
     ],
     "language": "python",
     "metadata": {},
     "outputs": []
    },
    {
     "cell_type": "code",
     "collapsed": false,
     "input": [
      "l[-2] # Accessing the second-last element"
     ],
     "language": "python",
     "metadata": {},
     "outputs": []
    },
    {
     "cell_type": "markdown",
     "metadata": {},
     "source": [
      "Slicing a list is very powerful in python :"
     ]
    },
    {
     "cell_type": "code",
     "collapsed": false,
     "input": [
      "l[2:]  # from 3rd element to the end"
     ],
     "language": "python",
     "metadata": {},
     "outputs": []
    },
    {
     "cell_type": "code",
     "collapsed": false,
     "input": [
      "l[:-2] # from start to the end minus 2"
     ],
     "language": "python",
     "metadata": {},
     "outputs": []
    },
    {
     "cell_type": "code",
     "collapsed": false,
     "input": [
      "l[0:4:2] # From 0 to 4-1 every 2"
     ],
     "language": "python",
     "metadata": {},
     "outputs": []
    },
    {
     "cell_type": "code",
     "collapsed": false,
     "input": [
      "l[1]=True # change value\n",
      "print l"
     ],
     "language": "python",
     "metadata": {},
     "outputs": []
    },
    {
     "cell_type": "heading",
     "level": 1,
     "metadata": {},
     "source": [
      "Tuples"
     ]
    },
    {
     "cell_type": "code",
     "collapsed": false,
     "input": [
      "a = (2, 'toto', 10.1) # a way to simply pack ...\n",
      "print a"
     ],
     "language": "python",
     "metadata": {},
     "outputs": []
    },
    {
     "cell_type": "code",
     "collapsed": false,
     "input": [
      "index, name, value = a # ... and unpack several values together\n",
      "print index\n",
      "print name, value"
     ],
     "language": "python",
     "metadata": {},
     "outputs": []
    },
    {
     "cell_type": "heading",
     "level": 1,
     "metadata": {},
     "source": [
      "Copying variables"
     ]
    },
    {
     "cell_type": "markdown",
     "metadata": {},
     "source": [
      "All variables are objects in python and assignement only gives a reference. Thus there is a small subtility compared to other programming language : "
     ]
    },
    {
     "cell_type": "code",
     "collapsed": false,
     "input": [
      "a = [1,2,3]\n",
      "b = a\n",
      "\n",
      "import copy\n",
      "c = copy.copy(a)\n",
      "\n",
      "# Memory locations of the objects \n",
      "print id(a),id(b),id(c) # notice that the first two addresse are the same...\n",
      "\n",
      "# Thus\n",
      "print a, b, c\n",
      "a.append(4)\n",
      "print a, b, c"
     ],
     "language": "python",
     "metadata": {},
     "outputs": []
    },
    {
     "cell_type": "heading",
     "level": 1,
     "metadata": {},
     "source": [
      "Tests (indexation counts) :"
     ]
    },
    {
     "cell_type": "code",
     "collapsed": false,
     "input": [
      "# tests\n",
      "a=2 ; b=4\n",
      "\n",
      "print a is b\n",
      "print a == b\n",
      "\n",
      "if a == 1:\n",
      "    print(1)\n",
      "elif a == 2:\n",
      "    print(2)\n",
      "else:\n",
      "    print('A lot more')\n",
      "\n",
      "if a<=2: print('less than 2')\n",
      "if a>2:  print('more than 2')  # also a>=2\n",
      "if a!=2: print('not 2')\n",
      "\n",
      "print \"a = \",a,\"; b = \", b, \"; c = \", c\n",
      "\n",
      "if a in c: print('a is in c')\n",
      "if not b in c: print('b is not in c')"
     ],
     "language": "python",
     "metadata": {},
     "outputs": []
    },
    {
     "cell_type": "heading",
     "level": 1,
     "metadata": {},
     "source": [
      "Loops"
     ]
    },
    {
     "cell_type": "code",
     "collapsed": false,
     "input": [
      "indexes = range(10)\n",
      "for i in indexes:\n",
      "    print(i,'coucou')"
     ],
     "language": "python",
     "metadata": {},
     "outputs": []
    },
    {
     "cell_type": "code",
     "collapsed": false,
     "input": [
      "words = ['cool', 'powerful', 'readable']\n",
      "for word in words:\n",
      "    print(\"python is \" + word )\n",
      "\n",
      "for i, word in enumerate(words):\n",
      "    print(\"%i - python is %s\"%(i, word) )"
     ],
     "language": "python",
     "metadata": {},
     "outputs": []
    },
    {
     "cell_type": "code",
     "collapsed": false,
     "input": [
      "ii = [i**2+2*i for i in range(4)] # define an array programatically\n",
      "print ii"
     ],
     "language": "python",
     "metadata": {},
     "outputs": []
    },
    {
     "cell_type": "heading",
     "level": 1,
     "metadata": {},
     "source": [
      "Defining functions"
     ]
    },
    {
     "cell_type": "code",
     "collapsed": false,
     "input": [
      "def disk_area(radius):\n",
      "    return 3.14 * radius **2\n",
      "\n",
      "print disk_area(2)\n",
      "print disk_area(3)"
     ],
     "language": "python",
     "metadata": {},
     "outputs": []
    },
    {
     "cell_type": "heading",
     "level": 1,
     "metadata": {},
     "source": [
      "Importing existing modules"
     ]
    },
    {
     "cell_type": "code",
     "collapsed": false,
     "input": [
      "import math                     # Import all the math module in its own namespace\n",
      "import math as m                # Import all the math module and name it as m\n",
      "from math import sqrt as mysqrt # Import only the math.sqrt function as mysqrt\n",
      "from math import *              # Import all the math functions into the current namespace (could have name conflict)\n",
      "\n",
      "print math.sqrt(2)\n",
      "print m.sqrt(2)\n",
      "print mysqrt(2)\n",
      "print sqrt(2)\n"
     ],
     "language": "python",
     "metadata": {},
     "outputs": []
    },
    {
     "cell_type": "heading",
     "level": 1,
     "metadata": {},
     "source": [
      "Help on functions / modules"
     ]
    },
    {
     "cell_type": "code",
     "collapsed": false,
     "input": [
      "print math.__doc__ # will print the docstring of the module\n",
      "?math              # will do the same but nicely in IPython "
     ],
     "language": "python",
     "metadata": {},
     "outputs": []
    },
    {
     "cell_type": "code",
     "collapsed": false,
     "input": [
      "print mysqrt.__doc__ # will print the help of the math.sqrt function"
     ],
     "language": "python",
     "metadata": {},
     "outputs": []
    },
    {
     "cell_type": "heading",
     "level": 1,
     "metadata": {},
     "source": [
      "Writing modules / scripts"
     ]
    },
    {
     "cell_type": "markdown",
     "metadata": {},
     "source": [
      "Each file defines a module namespace. Thus a disk.py file defines the disk module (This is not a class). You can see a module as a container for functions and/or variables."
     ]
    },
    {
     "cell_type": "code",
     "collapsed": false,
     "input": [
      "%%file disk.py\n",
      "\n",
      "from math import pi\n",
      "\n",
      "def area(radius):\n",
      "    return pi * radius **2\n",
      "\n",
      "def length(radius):\n",
      "    return 2 * pi * radius"
     ],
     "language": "python",
     "metadata": {},
     "outputs": []
    },
    {
     "cell_type": "code",
     "collapsed": false,
     "input": [
      "import disk\n",
      "from disk import area as disk_area\n",
      "\n",
      "print disk.area(2)\n",
      "print disk_area(3)"
     ],
     "language": "python",
     "metadata": {},
     "outputs": []
    },
    {
     "cell_type": "markdown",
     "metadata": {},
     "source": [
      "A script is a serie of more or less complex python commands that you can easily run"
     ]
    },
    {
     "cell_type": "code",
     "collapsed": false,
     "input": [
      "%%file disk_script.py\n",
      "\n",
      "import disk as mydisk\n",
      "from disk import area as disk_area\n",
      "\n",
      "print mydisk.area(2)\n",
      "print disk_area(3)\n"
     ],
     "language": "python",
     "metadata": {},
     "outputs": []
    },
    {
     "cell_type": "code",
     "collapsed": false,
     "input": [
      "execfile('disk_script.py') # executes the script in python/IPython"
     ],
     "language": "python",
     "metadata": {},
     "outputs": []
    },
    {
     "cell_type": "code",
     "collapsed": false,
     "input": [
      "%run disk_script.py # runs the script in IPython"
     ],
     "language": "python",
     "metadata": {},
     "outputs": []
    },
    {
     "cell_type": "code",
     "collapsed": false,
     "input": [
      "import disk_script  # Will import disk_script as a module and thus run its content (on the first import only), \n",
      "                    # but this does not actually really make sense..."
     ],
     "language": "python",
     "metadata": {},
     "outputs": []
    },
    {
     "cell_type": "code",
     "collapsed": false,
     "input": [
      "print disk_script.mydisk.area(2) # and leads to syntax like that"
     ],
     "language": "python",
     "metadata": {},
     "outputs": []
    },
    {
     "cell_type": "code",
     "collapsed": false,
     "input": [
      "reload(disk_script) # is needed if you want to re-import a modified version of an already imported module "
     ],
     "language": "python",
     "metadata": {},
     "outputs": []
    },
    {
     "cell_type": "code",
     "collapsed": false,
     "input": [],
     "language": "python",
     "metadata": {},
     "outputs": []
    }
   ],
   "metadata": {}
  }
 ]
}