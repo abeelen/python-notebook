{
 "metadata": {
  "name": "",
  "signature": "sha256:7cf34cc02d11ad5e4d3254e4a7ab9aeaaab7b8f71356a1320ac61a864400a48b"
 },
 "nbformat": 3,
 "nbformat_minor": 0,
 "worksheets": [
  {
   "cells": [
    {
     "cell_type": "markdown",
     "metadata": {},
     "source": [
      "Optimization\n",
      "============\n",
      "\n",
      "As all interpreted languages, Python suffers from a lack of speed when running intensive calculus. However they are several ways to speed up python either by:\n",
      "* Typing variables and compiling C extension on the fly with Cython http://cython.org/  or Numba http://numba.pydata.org/\n",
      "* Easily using existing fortran programs as module with F2Py http://wiki.scipy.org/F2py\n",
      "* Using the multiprocessing package to make use of all the core of your CPUs https://docs.python.org/2/library/multiprocessing.html"
     ]
    },
    {
     "cell_type": "heading",
     "level": 1,
     "metadata": {},
     "source": [
      "Cython"
     ]
    },
    {
     "cell_type": "markdown",
     "metadata": {},
     "source": [
      "Cython http://cython.org/ is the C extension for python. It allows you to easily import C code into python and/or easily optimize python code as dynamically compiled C code. "
     ]
    },
    {
     "cell_type": "heading",
     "level": 2,
     "metadata": {},
     "source": [
      "Pure Python example"
     ]
    },
    {
     "cell_type": "code",
     "collapsed": false,
     "input": [
      "def f(x):\n",
      "    return x**2 - x\n",
      "\n",
      "def integrate_f(a,b,N):\n",
      "        s = 0\n",
      "        dx = (b-a)/N\n",
      "        for i in range(N):\n",
      "            s += f(a+i*dx)\n",
      "        return s*dx"
     ],
     "language": "python",
     "metadata": {},
     "outputs": []
    },
    {
     "cell_type": "code",
     "collapsed": false,
     "input": [
      "print integrate_f(0.,3.,10**3)"
     ],
     "language": "python",
     "metadata": {},
     "outputs": []
    },
    {
     "cell_type": "code",
     "collapsed": false,
     "input": [
      "%timeit integrate_f(0,3,10**3) # This will time the execution"
     ],
     "language": "python",
     "metadata": {},
     "outputs": []
    },
    {
     "cell_type": "heading",
     "level": 2,
     "metadata": {},
     "source": [
      "Cythonized example"
     ]
    },
    {
     "cell_type": "code",
     "collapsed": false,
     "input": [
      "# Needed in IPython only\n",
      "%load_ext cythonmagic"
     ],
     "language": "python",
     "metadata": {},
     "outputs": []
    },
    {
     "cell_type": "code",
     "collapsed": false,
     "input": [
      "%%cython\n",
      "# This function is NOT callable from python\n",
      "cdef double c_f(double x):\n",
      "    return x**2 - x\n",
      "\n",
      "def c_integrate_f(double a, double b, int N):\n",
      "        # Variables are declared (Data Typing)\n",
      "        cdef int i\n",
      "        cdef double s, dx\n",
      "        s = 0\n",
      "        dx = (b-a)/N\n",
      "        for i in range(N):\n",
      "            s += c_f(a + i*dx)\n",
      "        return s*dx"
     ],
     "language": "python",
     "metadata": {},
     "outputs": []
    },
    {
     "cell_type": "code",
     "collapsed": false,
     "input": [
      "print c_integrate_f(0.,3.,10**3)"
     ],
     "language": "python",
     "metadata": {},
     "outputs": []
    },
    {
     "cell_type": "code",
     "collapsed": false,
     "input": [
      "%timeit c_integrate_f(0,3,10**3)"
     ],
     "language": "python",
     "metadata": {},
     "outputs": []
    },
    {
     "cell_type": "heading",
     "level": 2,
     "metadata": {},
     "source": [
      "Numba"
     ]
    },
    {
     "cell_type": "code",
     "collapsed": false,
     "input": [
      "from numba import jit\n",
      "\n",
      "@jit('f8(f8)')\n",
      "def n_f(x):\n",
      "    return x**2 - x\n",
      "\n",
      "@jit('f8(f8,f8,i4)')\n",
      "def n_integrate_f(a,b,N):\n",
      "        s = 0\n",
      "        dx = (b-a)/N\n",
      "        for i in range(N):\n",
      "            s += n_f(a+i*dx)\n",
      "        return s*dx"
     ],
     "language": "python",
     "metadata": {},
     "outputs": []
    },
    {
     "cell_type": "code",
     "collapsed": false,
     "input": [
      "print n_integrate_f(0.,3.,10**3)"
     ],
     "language": "python",
     "metadata": {},
     "outputs": []
    },
    {
     "cell_type": "code",
     "collapsed": false,
     "input": [
      "%timeit n_integrate_f(0,3,10**3)"
     ],
     "language": "python",
     "metadata": {},
     "outputs": []
    },
    {
     "cell_type": "heading",
     "level": 2,
     "metadata": {},
     "source": [
      "F2Py example"
     ]
    },
    {
     "cell_type": "code",
     "collapsed": false,
     "input": [
      "%%file f_integrate.f90\n",
      "! No optimization is done here\n",
      "\n",
      "FUNCTION f_f(x)\n",
      "  real, INTENT(IN) :: x\n",
      "  real             :: f_f\n",
      "                    \n",
      "  f_f = x**2 - x\n",
      "\n",
      "END FUNCTION f_f\n",
      "\n",
      "SUBROUTINE f_integrate_f(a,b,N,integ)\n",
      " real    :: a, b, integ\n",
      " integer :: N\n",
      "!f2py intent(in)  :: a, b, N\n",
      "!f2py intent(out) :: integ\n",
      " integer :: i\n",
      " real    :: dx\n",
      "  \n",
      " integ = 0\n",
      " dx = (b-a)/N\n",
      " DO i=0,N-1\n",
      "    integ = integ + f_f(a+i*dx)\n",
      " END DO\n",
      " \n",
      " integ = integ*dx\n",
      "  \n",
      "END SUBROUTINE f_integrate_f"
     ],
     "language": "python",
     "metadata": {},
     "outputs": []
    },
    {
     "cell_type": "code",
     "collapsed": false,
     "input": [
      "# The following line will call f2py from the shell to compile the fortran module\n",
      "! f2py -c f_integrate.f90 -m f_integrate --quiet"
     ],
     "language": "python",
     "metadata": {},
     "outputs": []
    },
    {
     "cell_type": "code",
     "collapsed": false,
     "input": [
      "import f_integrate"
     ],
     "language": "python",
     "metadata": {},
     "outputs": []
    },
    {
     "cell_type": "code",
     "collapsed": false,
     "input": [
      "print f_integrate.f_integrate_f(0., 3., 10**3)"
     ],
     "language": "python",
     "metadata": {},
     "outputs": []
    },
    {
     "cell_type": "code",
     "collapsed": false,
     "input": [
      "%timeit f_integrate.f_integrate_f(0., 3., 10**3)"
     ],
     "language": "python",
     "metadata": {},
     "outputs": []
    },
    {
     "cell_type": "markdown",
     "metadata": {},
     "source": [
      "Multiprocessing\n",
      "===============\n",
      "\n",
      "For long python was limited by the Global Interpreter Lock, to only use subprocesses instead of thread. Several solutions have emerged to be able to use thread. Based on MPI http://mpi4py.scipy.org or on the Multiprocessing package https://docs.python.org/2/library/multiprocessing.html Ipython has developped its own parallel development methods based on MPI  http://ipython.org/ipython-doc/dev/parallel/."
     ]
    },
    {
     "cell_type": "code",
     "collapsed": false,
     "input": [
      "from multiprocessing import Process\n",
      "\n",
      "def say_hello(name='world'):\n",
      "    print \"Hello, %s\" % name\n",
      "\n",
      "p = Process(target=say_hello)\n",
      "p.start()\n",
      "p.join()"
     ],
     "language": "python",
     "metadata": {},
     "outputs": []
    },
    {
     "cell_type": "code",
     "collapsed": false,
     "input": [],
     "language": "python",
     "metadata": {},
     "outputs": []
    }
   ],
   "metadata": {}
  }
 ]
}