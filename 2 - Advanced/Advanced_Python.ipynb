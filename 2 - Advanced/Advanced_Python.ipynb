{
 "metadata": {
  "name": "",
  "signature": "sha256:93797af6cb237ff30399f6f073fd55478654adc84e4c18001a792ffee25259c8"
 },
 "nbformat": 3,
 "nbformat_minor": 0,
 "worksheets": [
  {
   "cells": [
    {
     "cell_type": "markdown",
     "metadata": {},
     "source": [
      "# Advanced Python\n",
      "\n",
      "By the end of this lecture, you should be able to\n",
      " - write Python headers and turn Python scripts self-executable,\n",
      " - use the different ways of importing a file,\n",
      " - write Python3-compatible Python2 modules,\n",
      " - define short functions with `lambda`,\n",
      " - use the `with` statement,\n",
      " - replace large lists with generators,\n",
      " - use string formatting,\n",
      " - understand the difference between module and script.\n",
      " ---"
     ]
    },
    {
     "cell_type": "markdown",
     "metadata": {},
     "source": [
      "## The header\n",
      "\n",
      "The following should be placed at the beginning of all your executable Python scripts\n",
      "\n",
      "```python\n",
      "#!/usr/bin/env python\n",
      "# -*- coding: utf-8 -*-\n",
      "```\n",
      "\n",
      "There follows a bit of explanation\n",
      "\n",
      "### Shebang\n",
      "The first line is called the shebang and tells the system the following lines should be run with the Python interpreter.\n",
      "\n",
      "```python\n",
      "#!/usr/bin/env python\n",
      "```\n",
      "\n",
      "Once that line is present, the executable file can be run directly without calling `python` first\n",
      "\n",
      "```bash\n",
      "$ ./my_executable.py\n",
      "```\n",
      "\n",
      "instead of \n",
      "\n",
      "```bash\n",
      "$ python my_executable.py\n",
      "```\n",
      "\n",
      "__TIP:__ You can even rename the file without the extension `.py` and it will run."
     ]
    },
    {
     "cell_type": "code",
     "collapsed": false,
     "input": [
      "%%file print_pyhello\n",
      "#!/usr/bin/env python\n",
      "# -*- coding: utf-8 -*-\n",
      "\n",
      "print \"Hello World !\""
     ],
     "language": "python",
     "metadata": {},
     "outputs": []
    },
    {
     "cell_type": "markdown",
     "metadata": {},
     "source": [
      "Let's set the file as executable and run it. _Remainder:_ The \"`!`\" escapes the IPython interface and thus runs the underlying shell."
     ]
    },
    {
     "cell_type": "code",
     "collapsed": false,
     "input": [
      "!chmod u+x print_pyhello\n",
      "!./print_pyhello"
     ],
     "language": "python",
     "metadata": {},
     "outputs": []
    },
    {
     "cell_type": "markdown",
     "metadata": {},
     "source": [
      "### Encoding\n",
      "The second line declares the encoding of the source file. It has been defined in [PEP 0263](http://legacy.python.org/dev/peps/pep-0263/).\n",
      "Python usually defaults to ASCII, which can lead to decoding issues when using non-American keyboards.\n",
      "To avoid that, it is preferrable to __always__ use UTF-8.\n",
      "```python\n",
      "# -*- coding: utf-8 -*-\n",
      "```"
     ]
    },
    {
     "cell_type": "markdown",
     "metadata": {},
     "source": [
      "---\n",
      "## Importing a Python module\n",
      "\n",
      "There are a few ways of importing a module and several rules to follow.\n",
      "\n",
      "### Module-wise import"
     ]
    },
    {
     "cell_type": "code",
     "collapsed": false,
     "input": [
      "# inline importing\n",
      "import math, numpy\n",
      "# newline importing (preferred)\n",
      "import math\n",
      "import numpy"
     ],
     "language": "python",
     "metadata": {},
     "outputs": []
    },
    {
     "cell_type": "markdown",
     "metadata": {},
     "source": [
      "It is much more convenient to place every import on a new line if you want some flexibility in your code.\n",
      "\n",
      "### Submodule import\n",
      "When you import a base module, every method of this module may not be accessible from the base, even if you write the full path."
     ]
    },
    {
     "cell_type": "code",
     "collapsed": false,
     "input": [
      "# scipy has few methods accessible from the base module but works rather on specific submodule import\n",
      "# ex. least square minimization scipy.optimize.leastsq\n",
      "import scipy\n",
      "scipy.optimize.leastsq"
     ],
     "language": "python",
     "metadata": {},
     "outputs": []
    },
    {
     "cell_type": "markdown",
     "metadata": {},
     "source": [
      "It needs submodule import."
     ]
    },
    {
     "cell_type": "code",
     "collapsed": false,
     "input": [
      "import scipy.optimize\n",
      "scipy.optimize.leastsq"
     ],
     "language": "python",
     "metadata": {},
     "outputs": []
    },
    {
     "cell_type": "markdown",
     "metadata": {},
     "source": [
      "### Module / submodule renaming\n",
      "\n",
      "Because it is tedious to write the full path of a submodule every time you need to access one of its methods, Python has implemented a way of renaming your imports."
     ]
    },
    {
     "cell_type": "code",
     "collapsed": false,
     "input": [
      "import scipy.optimize as sopt\n",
      "sopt.leastsq"
     ],
     "language": "python",
     "metadata": {},
     "outputs": []
    },
    {
     "cell_type": "markdown",
     "metadata": {},
     "source": [
      "Here are listed a few common renames you will encounter\n",
      " - import numpy as np\n",
      " - import scipy as sp\n",
      " - import matplotlib.pyplot as plt\n",
      " \n",
      "The most common of all being np for numpy."
     ]
    },
    {
     "cell_type": "markdown",
     "metadata": {},
     "source": [
      "### Method import\n",
      "In most Python scripts, one only uses a few methods from a module. There is no need to import the whole module in those cases, but the syntax switches from `import module` to `from module import method1, method2`. Then, the methods are usable as is."
     ]
    },
    {
     "cell_type": "code",
     "collapsed": false,
     "input": [
      "from scipy.optimize import leastsq, curve_fit\n",
      "leastsq\n",
      "curve_fit"
     ],
     "language": "python",
     "metadata": {},
     "outputs": []
    },
    {
     "cell_type": "markdown",
     "metadata": {},
     "source": [
      "The only drawback can be the loss of clarity when too many methods are imported. Also **the import order is primeval**."
     ]
    },
    {
     "cell_type": "code",
     "collapsed": false,
     "input": [
      "# The import order is primeval\n",
      "from numpy import cos\n",
      "cos.__class__\n",
      "from math import cos\n",
      "cos.__class__"
     ],
     "language": "python",
     "metadata": {},
     "outputs": []
    },
    {
     "cell_type": "markdown",
     "metadata": {},
     "source": [
      "While this case seems obvious and easily evitable, the following error is much more common."
     ]
    },
    {
     "cell_type": "code",
     "collapsed": false,
     "input": [
      "from numpy import cos\n",
      "cos.__class__\n",
      "from math import *\n",
      "cos.__class__"
     ],
     "language": "python",
     "metadata": {},
     "outputs": []
    },
    {
     "cell_type": "markdown",
     "metadata": {},
     "source": [
      "In this case, all the methods contained in the math module were imported. \n",
      "If unfortunately the name of a method is the same as a previously imported other method (here the `numpy.cos`), the latest import replaces the initial one. This leads to an important rule : **NEVER WRITE A `import *` IN A MODULE !!!**"
     ]
    },
    {
     "cell_type": "markdown",
     "metadata": {},
     "source": [
      "### Methods renaming on import\n",
      "\n",
      "Methods can also be renamed when imported adding `as` after the method name. This is generally not recommended but can help solve the previous case."
     ]
    },
    {
     "cell_type": "code",
     "collapsed": false,
     "input": [
      "from numpy import cos as ncos\n",
      "from math import cos as mcos\n",
      "ncos.__class__\n",
      "mcos.__class__"
     ],
     "language": "python",
     "metadata": {},
     "outputs": []
    },
    {
     "cell_type": "markdown",
     "metadata": {},
     "source": [
      "---\n",
      "## Python 2.X to Python 3.X compatibility\n",
      "\n",
      "While the majority of the scientific community codes in Python 2.X (2.5, 2.6 and 2.7 mostly), the Python Software Foundation announced there will be no more developpement of the 2.X series (= no Python 2.8) but only patches made for the 2.7 version (currently 2.7.8). This means that the future of Python lies in Python 3.X (currently 3.4.8).\n",
      "\n",
      "If you decide on porting code from 2.X to 3.X, you can have a look [here](https://wiki.python.org/moin/PortingPythonToPy3k) or [here](https://docs.python.org/3/howto/pyporting.html) and use the [2to3 method](https://docs.python.org/2/library/2to3.html) (installed with every new python version).\n",
      "\n",
      "Among the major differences between 2.X and 3.X, one can find \n",
      " - the print function,\n",
      " - the division operator,\n",
      " - the default unicode strings,\n",
      " - the exceptions as functions,\n",
      " - the absolute import.\n",
      "\n",
      "You can also write python 2 code compatible with python 3 using only a few more lines of code, which you are strongly advised to !\n",
      "These changes are based on the `__future__` module."
     ]
    },
    {
     "cell_type": "markdown",
     "metadata": {},
     "source": [
      "### The print method ([PEP 3105](http://legacy.python.org/dev/peps/pep-3105/))\n",
      "In Python 2, unlike most methods, the print function is called without parentheses."
     ]
    },
    {
     "cell_type": "code",
     "collapsed": false,
     "input": [
      "print \"Hello\"\n",
      "print [1, 2, 3, 4]\n",
      "print 1.432, 3.234\n",
      "print(1.432, 3.234)"
     ],
     "language": "python",
     "metadata": {},
     "outputs": []
    },
    {
     "cell_type": "markdown",
     "metadata": {},
     "source": [
      "Python 3 corrects this anomaly and defines a print function with the same convention as other functions and adds a with additional options. You can get the Python 3 print features by importing `print_function`."
     ]
    },
    {
     "cell_type": "code",
     "collapsed": false,
     "input": [
      "from __future__ import print_function"
     ],
     "language": "python",
     "metadata": {},
     "outputs": []
    },
    {
     "cell_type": "code",
     "collapsed": false,
     "input": [
      "# Using the previous call fails\n",
      "print \"Hello\""
     ],
     "language": "python",
     "metadata": {},
     "outputs": []
    },
    {
     "cell_type": "code",
     "collapsed": false,
     "input": [
      "# Where the Python 2 print sees a tuple, \n",
      "# the new print prints t2o separate values\n",
      "print(1.432, 3.234)\n",
      "# The separation between values can be tuned\n",
      "print(\"Hello\", \"world\", \"!\", sep=\" \")\n",
      "print(\"Hello\", \"world\", \"!\", sep=\"\\n\")\n",
      "# Even the ending character\n",
      "print(\"Hello\", \"world\", sep=\" \", end=\"!\")"
     ],
     "language": "python",
     "metadata": {},
     "outputs": []
    },
    {
     "cell_type": "code",
     "collapsed": false,
     "input": [
      "# If you want to print the content of a list\n",
      "text = [\"Hello\", \"world\", \"!\"]\n",
      "# First case the list is printed as is\n",
      "print(text)\n",
      "# Second the content of the list is printed \n",
      "# using the unpack character '*' for arguments\n",
      "print(*text)"
     ],
     "language": "python",
     "metadata": {},
     "outputs": []
    },
    {
     "cell_type": "markdown",
     "metadata": {},
     "source": [
      "### The division operator ([PEP 238](http://legacy.python.org/dev/peps/pep-0238/))\n",
      "_A must have !_\n",
      "\n",
      "The Python 2 division operator does an integer division, which is why you will find in most codes either a floating point or a `float()` call added on the denominator."
     ]
    },
    {
     "cell_type": "code",
     "collapsed": false,
     "input": [
      "5 / 3\n",
      "5 / 3.\n",
      "5 / float(3)\n",
      "5 // 3\n",
      "5 % 3"
     ],
     "language": "python",
     "metadata": {},
     "outputs": []
    },
    {
     "cell_type": "markdown",
     "metadata": {},
     "source": [
      "This has been corrected in Python 3 and the integer division is done by `//`."
     ]
    },
    {
     "cell_type": "code",
     "collapsed": false,
     "input": [
      "from __future__ import division"
     ],
     "language": "python",
     "metadata": {},
     "outputs": []
    },
    {
     "cell_type": "code",
     "collapsed": false,
     "input": [
      "5 / 3\n",
      "5 / 3.\n",
      "5 / float(3)\n",
      "5 // 3\n",
      "5 % 3"
     ],
     "language": "python",
     "metadata": {},
     "outputs": []
    },
    {
     "cell_type": "markdown",
     "metadata": {},
     "source": [
      "### Absolute import ([PEP 328](http://legacy.python.org/dev/peps/pep-0328/))\n",
      "_Specific to the package creation._\n",
      "\n",
      "This is about making the code simpler and preventing errors when creating packages and programs. Say you have a package whose structure is"
     ]
    },
    {
     "cell_type": "raw",
     "metadata": {},
     "source": [
      "package/\n",
      "    __init__.py\n",
      "    subpackage1/\n",
      "        __init__.py\n",
      "        moduleX.py\n",
      "        moduleY.py\n",
      "    subpackage2/\n",
      "        __init__.py\n",
      "        moduleZ.py\n",
      "    moduleA.py"
     ]
    },
    {
     "cell_type": "markdown",
     "metadata": {},
     "source": [
      "and you are writing inside `moduleX.py` and willing to call methods from `moduleY.py`. In Python 2 you would write relative imports"
     ]
    },
    {
     "cell_type": "code",
     "collapsed": false,
     "input": [
      "from . import moduleY\n",
      "from .moduleY import foo\n",
      "# or even\n",
      "from ..moduleA import bar\n",
      "from ..subpackage2.moduleZ import baz"
     ],
     "language": "python",
     "metadata": {},
     "outputs": []
    },
    {
     "cell_type": "markdown",
     "metadata": {},
     "source": [
      "which looks explicit but not really homogeneous. While Python 3 still accepts that syntax, it is preferrable to make sure that `package` is in the `PYTHONPATH` and to use absolute imports only. Tu ensure that by preventing implicit relative imports using"
     ]
    },
    {
     "cell_type": "code",
     "collapsed": false,
     "input": [
      "from __future__ import absolute_import\n",
      "\n",
      "from package.subpackage1 import moduleY\n",
      "from package.subpackage1.moduleY import foo\n",
      "from package.moduleA import bar\n",
      "from package.subpackage2.moduleZ import baz"
     ],
     "language": "python",
     "metadata": {},
     "outputs": []
    },
    {
     "cell_type": "markdown",
     "metadata": {},
     "source": [
      "### Unicode strings ([PEP 3112](http://legacy.python.org/dev/peps/pep-3112/))\n",
      "_Very specific, not really needed for scientific modules._\n",
      "\n",
      "In Python 2, the strings are by default in ASCII. To define unicode strings, they need to be prepended by a `u`"
     ]
    },
    {
     "cell_type": "code",
     "collapsed": false,
     "input": [
      "name = u'\u304d\u305f\u306a\u3044\u306e'"
     ],
     "language": "python",
     "metadata": {},
     "outputs": []
    },
    {
     "cell_type": "markdown",
     "metadata": {},
     "source": [
      "Strings literals in Python 3 are unicode by default."
     ]
    },
    {
     "cell_type": "code",
     "collapsed": false,
     "input": [
      "from __future__ import unicode_literals\n",
      "\n",
      "name = '\u304d\u305f\u306a\u3044\u306e'"
     ],
     "language": "python",
     "metadata": {},
     "outputs": []
    },
    {
     "cell_type": "markdown",
     "metadata": {},
     "source": [
      "### Summary\n",
      "\n",
      "In your everyday Python scripts you should write, right after the header (before importing any module)"
     ]
    },
    {
     "cell_type": "code",
     "collapsed": false,
     "input": [
      "from __future__ import print_function, division"
     ],
     "language": "python",
     "metadata": {},
     "outputs": []
    },
    {
     "cell_type": "markdown",
     "metadata": {},
     "source": [
      "If you are using non ascii characters :"
     ]
    },
    {
     "cell_type": "code",
     "collapsed": false,
     "input": [
      "from __future__ import print_function, division, unicode_literals"
     ],
     "language": "python",
     "metadata": {},
     "outputs": []
    },
    {
     "cell_type": "markdown",
     "metadata": {},
     "source": [
      "If you are writing a package"
     ]
    },
    {
     "cell_type": "code",
     "collapsed": false,
     "input": [
      "from __future__ import print_function, division, unicode_literals, absolute_import"
     ],
     "language": "python",
     "metadata": {},
     "outputs": []
    },
    {
     "cell_type": "markdown",
     "metadata": {},
     "source": [
      "---\n",
      "## The `lambda` syntax\n",
      "\n",
      "A syntax to define short methods."
     ]
    },
    {
     "cell_type": "code",
     "collapsed": false,
     "input": [
      "# Traditional method\n",
      "def f(x):\n",
      "    return x + 1\n",
      "\n",
      "# inline lambda method\n",
      "f = lambda x: x + 1"
     ],
     "language": "python",
     "metadata": {},
     "outputs": []
    },
    {
     "cell_type": "markdown",
     "metadata": {},
     "source": [
      "It also works with multiple inputs"
     ]
    },
    {
     "cell_type": "code",
     "collapsed": false,
     "input": [
      "g = lambda x, y, z: (x + y) * z"
     ],
     "language": "python",
     "metadata": {},
     "outputs": []
    },
    {
     "cell_type": "markdown",
     "metadata": {},
     "source": [
      "It can be useful to know that alternative when e.g. working with routines that take a function as input. If the function takes more arguments than those accepted by the routine, the `lambda` syntax can help reduce the dimensionality of the function inplace."
     ]
    },
    {
     "cell_type": "code",
     "collapsed": false,
     "input": [
      "import numpy as np\n",
      "\n",
      "# Routine\n",
      "def routine(func):\n",
      "    x = np.arange(10)\n",
      "    return func(x) - x\n",
      "\n",
      "# Model: two arguments\n",
      "def h(x, y):\n",
      "    return x**2 + y**2\n",
      "\n",
      "res = routine(h)"
     ],
     "language": "python",
     "metadata": {},
     "outputs": []
    },
    {
     "cell_type": "markdown",
     "metadata": {},
     "source": [
      "Say **you don't want to change your model**, but instead you reduce the dimensionality by setting `y = 5`. \n",
      "\n",
      "If you can rewrite the routine to accept more arguments, it is cleaner"
     ]
    },
    {
     "cell_type": "code",
     "collapsed": false,
     "input": [
      "def routine2(func, *args):\n",
      "    x = np.arange(10)\n",
      "    return func(x, *args) - x\n",
      "\n",
      "res2 = routine2(h, 5)\n",
      "print(res2)"
     ],
     "language": "python",
     "metadata": {},
     "outputs": []
    },
    {
     "cell_type": "markdown",
     "metadata": {},
     "source": [
      "Otherwise you use the `lambda` syntax to do it inplace"
     ]
    },
    {
     "cell_type": "code",
     "collapsed": false,
     "input": [
      "res = routine(lambda x: h(x, 5))\n",
      "print(res)"
     ],
     "language": "python",
     "metadata": {},
     "outputs": []
    },
    {
     "cell_type": "markdown",
     "metadata": {},
     "source": [
      "or even write a layer above the routine to change the y-dimension on demand"
     ]
    },
    {
     "cell_type": "code",
     "collapsed": false,
     "input": [
      "def megaroutine(y):\n",
      "    return routine(lambda x: h(x, y))\n",
      "\n",
      "print megaroutine(5)"
     ],
     "language": "python",
     "metadata": {},
     "outputs": []
    },
    {
     "cell_type": "markdown",
     "metadata": {},
     "source": [
      "---\n",
      "## The `with` statement\n",
      "\n",
      "The `with` statement is used to wrap the execution of a block with methods defined by a context manager. It guarantees the `__exit__()` method of the context manager will always be called. It is mostly used for parsing the contents of a file.\n",
      "\n",
      "The usual method reads"
     ]
    },
    {
     "cell_type": "code",
     "collapsed": false,
     "input": [
      "# reading\n",
      "f = open('file.txt', 'r')\n",
      "content = f.readlines()\n",
      "f.close()\n",
      "\n",
      "# writing\n",
      "f = open('file.txt', 'r')\n",
      "f.write('foo')\n",
      "f.write('bar')\n",
      "f.write('baz')\n",
      "f.close()"
     ],
     "language": "python",
     "metadata": {},
     "outputs": []
    },
    {
     "cell_type": "markdown",
     "metadata": {},
     "source": [
      "It is very easy to forget the last line (closing of the file) after executing several actions. Using the `with` statement, these actions are indented in a block (clarity) and there is no need to close the file manually."
     ]
    },
    {
     "cell_type": "code",
     "collapsed": false,
     "input": [
      "# reading\n",
      "with open('file.txt', 'r') as f:\n",
      "    content = f.readlines()\n",
      "\n",
      "# writing\n",
      "with open('file.txt', 'a') as f:\n",
      "    f.write('foo')\n",
      "    f.write('bar')\n",
      "    f.write('baz')"
     ],
     "language": "python",
     "metadata": {},
     "outputs": []
    },
    {
     "cell_type": "markdown",
     "metadata": {},
     "source": [
      "---\n",
      "## Lists and generators\n",
      "When parsing through lists, very often the content of the list serves as indexing but does not actually carry relevant information that needs be stored in the memory. For huge lists embedded in loops, even the creation of the list eats CPU time and memory. In those cases, it is preferable to use generators instead, that returns the next value at every call. "
     ]
    },
    {
     "cell_type": "code",
     "collapsed": false,
     "input": [
      "from __future__ import print_function\n",
      "\n",
      "# Basic list indexing\n",
      "for i in range(5):\n",
      "    print(i)\n",
      "    \n",
      "# Generator indexing\n",
      "for i in xrange(5):\n",
      "    print(i)\n",
      "    \n",
      "print(range(10))\n",
      "print(xrange(10))\n",
      "print(list(xrange(10)))"
     ],
     "language": "python",
     "metadata": {},
     "outputs": []
    },
    {
     "cell_type": "markdown",
     "metadata": {},
     "source": [
      "Bottomline: **use `xrange` instead of `range` in every loop**.\n",
      "In Python 3, `range` returns a generator by default and thus has been merged with `xrange`.\n",
      "\n",
      "### List comprehension and generators\n",
      "\n",
      "Exactly the same way one can create lists from lists using list comprehension"
     ]
    },
    {
     "cell_type": "code",
     "collapsed": false,
     "input": [
      "x2 = [i**2 for i in xrange(5)]\n",
      "\n",
      "print(x2)"
     ],
     "language": "python",
     "metadata": {},
     "outputs": []
    },
    {
     "cell_type": "markdown",
     "metadata": {},
     "source": [
      "using parentheses instead of square brackets creates a generator"
     ]
    },
    {
     "cell_type": "code",
     "collapsed": false,
     "input": [
      "x2g = (i**2 for i in xrange(5))\n",
      "\n",
      "print(x2g)\n",
      "print(list(x2g))\n",
      "for j in x2g:\n",
      "    print(j)"
     ],
     "language": "python",
     "metadata": {},
     "outputs": []
    },
    {
     "cell_type": "markdown",
     "metadata": {},
     "source": [
      "---\n",
      "## String formatting\n",
      "_Let's talk about strings !_\n",
      "\n",
      "String formatting gives the ability to embed live information in the middle of a hard-coded text.\n",
      "\n",
      "**Note:** in the following lines, the `format()` method will be presented (see more options [here](https://docs.python.org/2/library/string.html#format-string-syntax)). However, since it has only been introduced in the recent Python version 2.6+, some may find in a lot of scripts the string formatting with `%` (help can be found [here](https://docs.python.org/2/library/stdtypes.html#string-formatting)).\n",
      "\n",
      "### Basic example\n",
      "\n",
      "String formatting does not care about the input type"
     ]
    },
    {
     "cell_type": "code",
     "collapsed": false,
     "input": [
      "name = 'Alex'\n",
      "age = 27\n",
      "\n",
      "print(\"My name is {} and I am {} years old\".format(name,age))\n",
      "print(\"{} likes the RER B : {}\".format(name, not True))"
     ],
     "language": "python",
     "metadata": {},
     "outputs": []
    },
    {
     "cell_type": "markdown",
     "metadata": {},
     "source": [
      "### Inplace operations\n",
      "\n",
      "only with allowed types"
     ]
    },
    {
     "cell_type": "code",
     "collapsed": false,
     "input": [
      "print_div = lambda x, y: print(\"The division of {} by {} is {} and the remainder is {}\".format(x, y, x // y, x % y))\n",
      "    \n",
      "print_div(17, 5)\n",
      "print_div(12, 2.5)"
     ],
     "language": "python",
     "metadata": {},
     "outputs": []
    },
    {
     "cell_type": "markdown",
     "metadata": {},
     "source": [
      "### Position numbering"
     ]
    },
    {
     "cell_type": "code",
     "collapsed": true,
     "input": [
      "print(\"My name is {1} and I am {0} years old\".format(27, 'Alex'))\n",
      "\n",
      "# argument repetition is allowed\n",
      "print(\"{0}{1}{2}{1}{0}\".format('c', 'a', 'b'))\n",
      "\n",
      "# Note: strings are lists of characters in Python !\n",
      "print(\"{0}{1}{2}{1}{0}\".format(*'cab')) # '*' means 'unpacking arguments'"
     ],
     "language": "python",
     "metadata": {},
     "outputs": []
    },
    {
     "cell_type": "markdown",
     "metadata": {},
     "source": [
      "### Labelled formatting\n",
      "\n",
      "Labels can be used to give unsorted input to `format()` or to input dictionaries"
     ]
    },
    {
     "cell_type": "code",
     "collapsed": false,
     "input": [
      "lab = \"My name is {name} and I am {age} years old\"\n",
      "\n",
      "print(lab.format(age=27, name='Alex'))\n",
      "\n",
      "# using a dictionary\n",
      "data = {'name': 'Alex', 'age': 27}\n",
      "print(\"{}\".format(data))\n",
      "print(lab.format(**data)) # '**' means 'unpacking dictionary content'"
     ],
     "language": "python",
     "metadata": {},
     "outputs": []
    },
    {
     "cell_type": "markdown",
     "metadata": {},
     "source": [
      "### Presentations"
     ]
    },
    {
     "cell_type": "code",
     "collapsed": false,
     "input": [
      "from math import pi\n",
      "\n",
      "print(pi)\n",
      "\n",
      "# float precision\n",
      "print(\"pi can be approximated by {:.2f}\".format(pi))\n",
      "# exponential\n",
      "print(\"pi can be approximated by {:e}\".format(pi / 10000))\n",
      "\n",
      "# percentage\n",
      "perc = 0.02\n",
      "print(\"I have a {:%} uncertainty on my computation\".format(perc))\n",
      "\n",
      "# use of arguments attributes\n",
      "comp = 3 + 2j  # complex number\n",
      "print(comp)\n",
      "print(\"The real part of {0} is {0.real} and the imaginary part is {0.imag}\".format(comp))"
     ],
     "language": "python",
     "metadata": {},
     "outputs": []
    },
    {
     "cell_type": "markdown",
     "metadata": {},
     "source": [
      "---\n",
      "## Module vs. script\n",
      "In the Python world, there are essentially two types of files, modules and scripts.\n",
      "\n",
      " 1. _Modules:_ sometimes part of a package, these files contain classes and methods to be imported \n",
      " 2. _Scripts:_ independent files that are meant to be run (`python myscript.py`), can take arguments as input and generally return an output.\n",
      "\n",
      "However, most of the time that difference is not that stringent and you will find methods defined within scripts for convenience.\n",
      "\n",
      "For testing purposes, an option can be added to modules, which enables the user to perform a specific action when running the module, action not triggered when the module is imported. It is the `if __name__ == \"__main__\"` option."
     ]
    },
    {
     "cell_type": "code",
     "collapsed": false,
     "input": [
      "%%file module_with_ifmain.py\n",
      "from __future__ import print_function\n",
      "\n",
      "def func1(x):\n",
      "    return x + 1\n",
      "\n",
      "def func2(x, y):\n",
      "    return x**2 + y\n",
      "    \n",
      "if __name__ == \"__main__\":\n",
      "    x = 2 ; y = 5\n",
      "    print(\"There are two methods in this module, {} and {}\".format(func1.__name__, func2.__name__))\n",
      "    print(\"{}({}) = {}\".format(func1.__name__, x, func1(x)))\n",
      "    print(\"{}({},{}) = {}\".format(func2.__name__, x, y, func2(x, y)))"
     ],
     "language": "python",
     "metadata": {},
     "outputs": []
    },
    {
     "cell_type": "markdown",
     "metadata": {},
     "source": [
      "On import, it does nothing particular."
     ]
    },
    {
     "cell_type": "code",
     "collapsed": false,
     "input": [
      "import module_with_ifmain\n",
      "\n",
      "x = 2\n",
      "print(module_with_ifmain.func1(x))\n",
      "y = 5\n",
      "print(module_with_ifmain.func2(x, y))"
     ],
     "language": "python",
     "metadata": {},
     "outputs": []
    },
    {
     "cell_type": "markdown",
     "metadata": {},
     "source": [
      "however if run with python, it returns the 'if-main' block "
     ]
    },
    {
     "cell_type": "code",
     "collapsed": false,
     "input": [
      "!python module_with_ifmain.py "
     ],
     "language": "python",
     "metadata": {},
     "outputs": []
    }
   ],
   "metadata": {}
  }
 ]
}