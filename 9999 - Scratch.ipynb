{
 "metadata": {
  "name": "",
  "signature": "sha256:ee6a6afb381703ff9312832401bb9dcd037566984ba65e6246502fa275761155"
 },
 "nbformat": 3,
 "nbformat_minor": 0,
 "worksheets": [
  {
   "cells": [
    {
     "cell_type": "code",
     "collapsed": false,
     "input": [
      "%load_ext cythonmagic\n",
      "import numpy as np"
     ],
     "language": "python",
     "metadata": {},
     "outputs": [
      {
       "output_type": "stream",
       "stream": "stdout",
       "text": [
        "The cythonmagic extension is already loaded. To reload it, use:\n",
        "  %reload_ext cythonmagic\n"
       ]
      }
     ],
     "prompt_number": 17
    },
    {
     "cell_type": "code",
     "collapsed": false,
     "input": [
      "def c_foo():\n",
      "    x = np.zeros((200, 2000), float)\n",
      "    n = x.shape[0]\n",
      "    for i in range(n):\n",
      "        for j in range(100):\n",
      "             x[i,:] = np.cos(x[i,:])\n",
      "\n",
      "    return x"
     ],
     "language": "python",
     "metadata": {},
     "outputs": [],
     "prompt_number": 18
    },
    {
     "cell_type": "code",
     "collapsed": false,
     "input": [
      "%%cython\n",
      "from cython.parallel cimport prange\n",
      "import numpy as np\n",
      "\n",
      "def c_foo():\n",
      "    cdef int i, j, n\n",
      "\n",
      "    x = np.zeros((200, 2000), float)\n",
      "\n",
      "    n = x.shape[0]\n",
      "    for i in prange(n, nogil=True):\n",
      "        with gil:\n",
      "            for j in range(100):\n",
      "                x[i,:] = np.cos(x[i,:])\n",
      "\n",
      "    return x"
     ],
     "language": "python",
     "metadata": {},
     "outputs": [],
     "prompt_number": 32
    },
    {
     "cell_type": "code",
     "collapsed": false,
     "input": [
      "%timeit foo()"
     ],
     "language": "python",
     "metadata": {},
     "outputs": [
      {
       "output_type": "stream",
       "stream": "stdout",
       "text": [
        "1 loops, best of 3: 559 ms per loop\n"
       ]
      }
     ],
     "prompt_number": 20
    },
    {
     "cell_type": "code",
     "collapsed": false,
     "input": [
      "%timeit c_foo()"
     ],
     "language": "python",
     "metadata": {},
     "outputs": [
      {
       "output_type": "stream",
       "stream": "stdout",
       "text": [
        "1 loops, best of 3: 559 ms per loop\n"
       ]
      }
     ],
     "prompt_number": 21
    },
    {
     "cell_type": "code",
     "collapsed": false,
     "input": [
      "import os"
     ],
     "language": "python",
     "metadata": {},
     "outputs": [],
     "prompt_number": 23
    },
    {
     "cell_type": "code",
     "collapsed": true,
     "input": [
      "os.environ['OMP_NUM_THREADS'] = '4'"
     ],
     "language": "python",
     "metadata": {},
     "outputs": [],
     "prompt_number": 31
    },
    {
     "cell_type": "code",
     "collapsed": false,
     "input": [
      "%timeit c_foo()"
     ],
     "language": "python",
     "metadata": {},
     "outputs": [
      {
       "output_type": "stream",
       "stream": "stdout",
       "text": [
        "1 loops, best of 3: 562 ms per loop\n"
       ]
      }
     ],
     "prompt_number": 33
    },
    {
     "cell_type": "code",
     "collapsed": false,
     "input": [
      "os.environ"
     ],
     "language": "python",
     "metadata": {},
     "outputs": [
      {
       "metadata": {},
       "output_type": "pyout",
       "prompt_number": 34,
       "text": [
        "{'WINDOWID': '31459853', 'IMDISP_DIR': '/opt/lib/idl-soft/imdisp', 'OMP_NUM_THREADS': '4', 'IDL_DIR': '/opt/rsi/idl_7.0', 'LESSOPEN': '| /usr/bin/lesspipe %s', 'ASTRON_DIR': '/opt/lib/idl-soft/astron', 'LOGNAME': 'abeelen', 'USER': 'abeelen', 'ITT_DIR': '/opt/rsi', 'HOME': '/home/abeelen', 'XDG_VTNR': '7', 'PATH': '/usr/local/casapy-33.0.16856-002-64b:/home/abeelen/bin:/home/abeelen/bin:/usr/local/bin:/usr/bin:/bin:/usr/local/games:/usr/games:/opt/p2pp-2.13.1/bin/', 'DEUTSCH_MISC_DIR': '/opt/lib/idl-soft/deutsch_misc', 'DATA': '/data/abeelen', 'DISPLAY': ':0', 'SSH_AGENT_PID': '2291', 'COLORTOOLS_DIR': '/opt/lib/idl-soft/colortools', 'TERM': 'xterm-color', 'SHELL': '/bin/bash', 'XAUTHORITY': '/var/run/gdm3/auth-for-abeelen-I0tm1v/database', 'MARKWARDT_DIR': '/opt/lib/idl-soft/markwardt', 'SESSION_MANAGER': 'local/glx-cluster:@/tmp/.ICE-unix/2251,unix/glx-cluster:/tmp/.ICE-unix/2251', 'SHLVL': '1', 'XDG_SESSION_ID': '2', 'HEALPIX': '/usr/local/opt/Healpix/Healpix_3.11', 'GNOME_DESKTOP_SESSION_ID': 'this-is-deprecated', 'WINDOWPATH': '7', 'EDITOR': 'emacs', 'IRSA_DIR': '/usr/local/opt/lib/idl-soft/IRSA', 'GPG_AGENT_INFO': '/run/user/1000/keyring/gpg:0:1', 'IFC_PATH': '/opt/intel/fc/8.0', 'COYOTE_DIR': '/opt/lib/idl-soft/coyote', 'USERNAME': 'abeelen', 'LANG': 'fr_FR.UTF-8', 'NBAVOUZET_DIR': '/opt/lib/idl-soft/nbavouzet', 'IDLUTILS_DIR': '/usr/local/opt/lib/idl-soft/idlutils', 'XDG_RUNTIME_DIR': '/run/user/1000', 'LIB_IDL': '/opt/lib/idl-soft', 'ALADINIDL_DIR': '/opt/lib/idl-soft/idl_aladin', 'PYTHONPATH': '/home/abeelen/lib/python/site-packages', 'SSH_AUTH_SOCK': '/run/user/1000/keyring/ssh', 'IDL_STARTUP': '/home/abeelen/IDL/idl_start', 'VTE_VERSION': '3602', 'GLICAUSI_DIR': '/opt/lib/idl-soft/gLiCausi', 'GDMSESSION': 'default', 'PRINTER': 'lphall2', 'ATV_DIR': '/opt/lib/idl-soft/atv', 'GIT_PAGER': 'cat', 'PLAT': 'linux-x86_64', 'RETROSPECT_HOME': '/usr/local/dantz/client', 'DBUS_SESSION_BUS_ADDRESS': 'unix:abstract=/tmp/dbus-tR1GHdBJOG,guid=75c6581fac3fa0433c01c3d85385cb20', '_': '/usr/bin/ipython', 'STARFINDER_DIR': '/opt/lib/idl-soft/starfinder', 'BROWSER': 'chromium', 'DESKTOP_SESSION': 'default', 'LESSCLOSE': '/usr/bin/lesspipe %s %s', 'PYTHONSTARTUP': '/home/abeelen/.pythonrc', 'SDSSIDL_DIR': '/opt/lib/idl-soft/sdssidl', 'OLDPWD': '/home/abeelen', 'GDM_LANG': 'fr_FR.UTF-8', 'CLICOLOR': '1', 'XDG_DATA_DIRS': '/usr/share/gnome:/usr/local/share/:/usr/share/', 'PWD': '/home/abeelen/Documents/Notebook', 'PAGER': 'cat', 'COLORTERM': 'gnome-terminal', 'XDG_MENU_PREFIX': 'gnome-', 'LS_COLORS': 'rs=0:di=01;34:ln=01;36:mh=00:pi=40;33:so=01;35:do=01;35:bd=40;33;01:cd=40;33;01:or=40;31;01:su=37;41:sg=30;43:ca=30;41:tw=30;42:ow=34;42:st=37;44:ex=01;32:*.tar=01;31:*.tgz=01;31:*.arj=01;31:*.taz=01;31:*.lzh=01;31:*.lzma=01;31:*.tlz=01;31:*.txz=01;31:*.zip=01;31:*.z=01;31:*.Z=01;31:*.dz=01;31:*.gz=01;31:*.lz=01;31:*.xz=01;31:*.bz2=01;31:*.bz=01;31:*.tbz=01;31:*.tbz2=01;31:*.tz=01;31:*.deb=01;31:*.rpm=01;31:*.jar=01;31:*.war=01;31:*.ear=01;31:*.sar=01;31:*.rar=01;31:*.ace=01;31:*.zoo=01;31:*.cpio=01;31:*.7z=01;31:*.rz=01;31:*.jpg=01;35:*.jpeg=01;35:*.gif=01;35:*.bmp=01;35:*.pbm=01;35:*.pgm=01;35:*.ppm=01;35:*.tga=01;35:*.xbm=01;35:*.xpm=01;35:*.tif=01;35:*.tiff=01;35:*.png=01;35:*.svg=01;35:*.svgz=01;35:*.mng=01;35:*.pcx=01;35:*.mov=01;35:*.mpg=01;35:*.mpeg=01;35:*.m2v=01;35:*.mkv=01;35:*.webm=01;35:*.ogm=01;35:*.mp4=01;35:*.m4v=01;35:*.mp4v=01;35:*.vob=01;35:*.qt=01;35:*.nuv=01;35:*.wmv=01;35:*.asf=01;35:*.rm=01;35:*.rmvb=01;35:*.flc=01;35:*.avi=01;35:*.fli=01;35:*.flv=01;35:*.gl=01;35:*.dl=01;35:*.xcf=01;35:*.xwd=01;35:*.yuv=01;35:*.cgm=01;35:*.emf=01;35:*.axv=01;35:*.anx=01;35:*.ogv=01;35:*.ogx=01;35:*.aac=00;36:*.au=00;36:*.flac=00;36:*.mid=00;36:*.midi=00;36:*.mka=00;36:*.mp3=00;36:*.mpc=00;36:*.ogg=00;36:*.ra=00;36:*.wav=00;36:*.axa=00;36:*.oga=00;36:*.spx=00;36:*.xspf=00;36:', 'TEXTOIDL_DIR': '/opt/lib/idl-soft/textoidl', 'IDL_PERSO_DIR': '/home/abeelen/IDL/perso', 'XDG_SEAT': 'seat0'}"
       ]
      }
     ],
     "prompt_number": 34
    },
    {
     "cell_type": "code",
     "collapsed": false,
     "input": [],
     "language": "python",
     "metadata": {},
     "outputs": []
    }
   ],
   "metadata": {}
  }
 ]
}