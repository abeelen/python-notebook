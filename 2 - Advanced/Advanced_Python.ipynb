{
 "metadata": {
  "name": "",
  "signature": "sha256:723ecb279913f6bafdbb22c73ff57914ec80e78ed9d2b444e5eaaa4f30c405fa"
 },
 "nbformat": 3,
 "nbformat_minor": 0,
 "worksheets": [
  {
   "cells": [
    {
     "cell_type": "markdown",
     "metadata": {},
     "source": [
      "# Advanced Python\n",
      "\n",
      "By the end of this lecture, you should be able to\n",
      " - write Python headers and turn Python scripts self-executable,\n",
      " - use the different ways of importing a file,\n",
      " - write Python3-compatible Python2 modules,\n",
      " - use the `with` statement,\n",
      " - replace large lists with generators,\n",
      " - use string formatting,\n",
      " - understand the difference between importing and executing a module/file.\n",
      " ---"
     ]
    },
    {
     "cell_type": "markdown",
     "metadata": {},
     "source": [
      "## The header\n",
      "\n",
      "The following should be placed at the beginning of all your executable Python scripts\n",
      "\n",
      "```python\n",
      "#!/usr/bin/env python\n",
      "# -*- coding: utf-8 -*-\n",
      "```\n",
      "\n",
      "There follows a bit of explanation\n",
      "\n",
      "### Shebang\n",
      "The first line is called the shebang and tells the system the following lines should be run with the Python interpreter.\n",
      "\n",
      "```python\n",
      "#!/usr/bin/env python\n",
      "```\n",
      "\n",
      "Once that line is present, the executable file can be run directly without calling `python` first\n",
      "\n",
      "```bash\n",
      "$ ./my_executable.py\n",
      "```\n",
      "\n",
      "instead of \n",
      "\n",
      "```bash\n",
      "$ python my_executable.py\n",
      "```\n",
      "\n",
      "__TIP:__ You can even rename the file without the extension `.py` and it will run."
     ]
    },
    {
     "cell_type": "code",
     "collapsed": false,
     "input": [
      "%%file print_pyhello\n",
      "#!/usr/bin/env python\n",
      "# -*- coding: utf-8 -*-\n",
      "\n",
      "print \"Hello World !\""
     ],
     "language": "python",
     "metadata": {},
     "outputs": []
    },
    {
     "cell_type": "markdown",
     "metadata": {},
     "source": [
      "Let's set the file as executable and run it. _Remainder:_ The \"`!`\" escapes the IPython interface and thus runs the underlying shell."
     ]
    },
    {
     "cell_type": "code",
     "collapsed": false,
     "input": [
      "!chmod u+x print_pyhello\n",
      "!./print_pyhello"
     ],
     "language": "python",
     "metadata": {},
     "outputs": []
    },
    {
     "cell_type": "markdown",
     "metadata": {},
     "source": [
      "### Encoding\n",
      "The second line declares the encoding of the source file. It has been defined in [PEP 0263](http://legacy.python.org/dev/peps/pep-0263/).\n",
      "Python usually defaults to ASCII, which can lead to decoding issues when using non-American keyboards.\n",
      "To avoid that, it is preferrable to __always__ use UTF-8.\n",
      "```python\n",
      "# -*- coding: utf-8 -*-\n",
      "```"
     ]
    },
    {
     "cell_type": "markdown",
     "metadata": {},
     "source": [
      "---\n",
      "## Importing a Python module\n",
      "\n",
      "There are a few ways of importing a module and several rules to follow.\n",
      "\n",
      "### Module-wise import"
     ]
    },
    {
     "cell_type": "code",
     "collapsed": false,
     "input": [
      "# inline importing\n",
      "import math, numpy\n",
      "# newline importing (preferred)\n",
      "import math\n",
      "import numpy"
     ],
     "language": "python",
     "metadata": {},
     "outputs": []
    },
    {
     "cell_type": "markdown",
     "metadata": {},
     "source": [
      "It is much more convenient to place every import on a new line if you want some flexibility in your code.\n",
      "\n",
      "### Submodule import\n",
      "When you import a base module, every method of this module may not be accessible from the base, even if you write the full path."
     ]
    },
    {
     "cell_type": "code",
     "collapsed": false,
     "input": [
      "# scipy has few methods accessible from the base module but works rather on specific submodule import\n",
      "# ex. least square minimization scipy.optimize.leastsq\n",
      "import scipy\n",
      "scipy.optimize.leastsq"
     ],
     "language": "python",
     "metadata": {},
     "outputs": []
    },
    {
     "cell_type": "markdown",
     "metadata": {},
     "source": [
      "It needs submodule import."
     ]
    },
    {
     "cell_type": "code",
     "collapsed": false,
     "input": [
      "import scipy.optimize\n",
      "scipy.optimize.leastsq"
     ],
     "language": "python",
     "metadata": {},
     "outputs": []
    },
    {
     "cell_type": "markdown",
     "metadata": {},
     "source": [
      "### Module / submodule renaming\n",
      "\n",
      "Because it is tedious to write the full path of a submodule every time you need to access one of its methods, Python has implemented a way of renaming your imports."
     ]
    },
    {
     "cell_type": "code",
     "collapsed": false,
     "input": [
      "import scipy.optimize as sopt\n",
      "sopt.leastsq"
     ],
     "language": "python",
     "metadata": {},
     "outputs": []
    },
    {
     "cell_type": "markdown",
     "metadata": {},
     "source": [
      "Here are listed a few common renames you will encounter\n",
      " - import numpy as np\n",
      " - import scipy as sp\n",
      " - import matplotlib.pyplot as plt\n",
      " \n",
      "The most common of all being np for numpy."
     ]
    },
    {
     "cell_type": "markdown",
     "metadata": {},
     "source": [
      "### Method import\n",
      "In most Python scripts, one only uses a few methods from a module. There is no need to import the whole module in those cases, but the syntax switches from `import module` to `from module import method1, method2`. Then, the methods are usable as is."
     ]
    },
    {
     "cell_type": "code",
     "collapsed": false,
     "input": [
      "from scipy.optimize import leastsq, curve_fit\n",
      "leastsq\n",
      "curve_fit"
     ],
     "language": "python",
     "metadata": {},
     "outputs": []
    },
    {
     "cell_type": "markdown",
     "metadata": {},
     "source": [
      "The only drawback can be the loss of clarity when too many methods are imported. Also **the import order is primeval**."
     ]
    },
    {
     "cell_type": "code",
     "collapsed": false,
     "input": [
      "# The import order is primeval\n",
      "from numpy import cos\n",
      "cos.__class__\n",
      "from math import cos\n",
      "cos.__class__"
     ],
     "language": "python",
     "metadata": {},
     "outputs": []
    },
    {
     "cell_type": "markdown",
     "metadata": {},
     "source": [
      "While this case seems obvious and easily evitable, the following error is much more common."
     ]
    },
    {
     "cell_type": "code",
     "collapsed": false,
     "input": [
      "from numpy import cos\n",
      "cos.__class__\n",
      "from math import *\n",
      "cos.__class__"
     ],
     "language": "python",
     "metadata": {},
     "outputs": []
    },
    {
     "cell_type": "markdown",
     "metadata": {},
     "source": [
      "In this case, all the methods contained in the math module were imported. \n",
      "If unfortunately the name of a method is the same as a previously imported other method (here the `numpy.cos`), the latest import replaces the initial one. This leads to an important rule : **NEVER WRITE A `import *` IN A MODULE !!!**"
     ]
    },
    {
     "cell_type": "markdown",
     "metadata": {},
     "source": [
      "### Methods renaming on import\n",
      "\n",
      "Methods can also be renamed when imported adding `as` after the method name. This is generally not recommended but can help solve the previous case."
     ]
    },
    {
     "cell_type": "code",
     "collapsed": false,
     "input": [
      "from numpy import cos as ncos\n",
      "from math import cos as mcos\n",
      "ncos.__class__\n",
      "mcos.__class__"
     ],
     "language": "python",
     "metadata": {},
     "outputs": []
    },
    {
     "cell_type": "markdown",
     "metadata": {},
     "source": [
      "---\n",
      "## Python 2.X to Python 3.X compatibility\n",
      "\n",
      "While the majority of the scientific community codes in Python 2.X (2.5, 2.6 and 2.7 mostly), the Python Software Foundation announced there will be no more developpement of the 2.X series (= no Python 2.8) but only patches made for the 2.7 version (currently 2.7.8). This means that the future of Python lies in Python 3.X (currently 3.4.8).\n",
      "\n",
      "If you decide on porting code from 2.X to 3.X, you can have a look [here](https://wiki.python.org/moin/PortingPythonToPy3k) or [here](https://docs.python.org/3/howto/pyporting.html) and use the [2to3 method](https://docs.python.org/2/library/2to3.html) (installed with every new python version).\n",
      "\n",
      "Among the major differences between 2.X and 3.X, one can find \n",
      " - the print function,\n",
      " - the division operator,\n",
      " - the default unicode strings,\n",
      " - the exceptions as functions,\n",
      " - the absolute import.\n",
      "\n",
      "You can also write python 2 code compatible with python 3 using only a few more lines of code, which you are strongly advised to !\n",
      "These changes are based on the `__future__` module."
     ]
    },
    {
     "cell_type": "markdown",
     "metadata": {},
     "source": [
      "### The print method ([PEP 3105](http://legacy.python.org/dev/peps/pep-3105/))\n",
      "In Python 2, unlike most methods, the print function is called without parentheses."
     ]
    },
    {
     "cell_type": "code",
     "collapsed": false,
     "input": [
      "print \"Hello\"\n",
      "print [1, 2, 3, 4]\n",
      "print 1.432, 3.234\n",
      "print(1.432, 3.234)"
     ],
     "language": "python",
     "metadata": {},
     "outputs": []
    },
    {
     "cell_type": "markdown",
     "metadata": {},
     "source": [
      "Python 3 corrects this anomaly and defines a print function with the same convention as other functions and adds a with additional options. You can get the Python 3 print features by importing `print_function`."
     ]
    },
    {
     "cell_type": "code",
     "collapsed": false,
     "input": [
      "from __future__ import print_function"
     ],
     "language": "python",
     "metadata": {},
     "outputs": []
    },
    {
     "cell_type": "code",
     "collapsed": false,
     "input": [
      "# Using the previous call fails\n",
      "print \"Hello\""
     ],
     "language": "python",
     "metadata": {},
     "outputs": []
    },
    {
     "cell_type": "code",
     "collapsed": false,
     "input": [
      "# Where the Python 2 print sees a tuple, \n",
      "# the new print prints t2o separate values\n",
      "print(1.432, 3.234)\n",
      "# The separation between values can be tuned\n",
      "print(\"Hello\", \"world\", \"!\", sep=\" \")\n",
      "print(\"Hello\", \"world\", \"!\", sep=\"\\n\")\n",
      "# Even the ending character\n",
      "print(\"Hello\", \"world\", sep=\" \", end=\"!\")"
     ],
     "language": "python",
     "metadata": {},
     "outputs": []
    },
    {
     "cell_type": "code",
     "collapsed": false,
     "input": [
      "# If you want to print the content of a list\n",
      "text = [\"Hello\", \"world\", \"!\"]\n",
      "# First case the list is printed as is\n",
      "print(text)\n",
      "# Second the content of the list is printed \n",
      "# using the unpack character '*' for arguments\n",
      "print(*text)"
     ],
     "language": "python",
     "metadata": {},
     "outputs": []
    },
    {
     "cell_type": "markdown",
     "metadata": {},
     "source": [
      "### The division operator ([PEP 238](http://legacy.python.org/dev/peps/pep-0238/))\n",
      "_A must have !_\n",
      "\n",
      "The Python 2 division operator does an integer division, which is why you will find in most codes either a floating point or a `float()` call added on the denominator."
     ]
    },
    {
     "cell_type": "code",
     "collapsed": false,
     "input": [
      "5 / 3\n",
      "5 / 3.\n",
      "5 / float(3)\n",
      "5 // 3\n",
      "5 % 3"
     ],
     "language": "python",
     "metadata": {},
     "outputs": []
    },
    {
     "cell_type": "markdown",
     "metadata": {},
     "source": [
      "This has been corrected in Python 3 and the integer division is done by `//`."
     ]
    },
    {
     "cell_type": "code",
     "collapsed": false,
     "input": [
      "from __future__ import division"
     ],
     "language": "python",
     "metadata": {},
     "outputs": []
    },
    {
     "cell_type": "code",
     "collapsed": false,
     "input": [
      "5 / 3\n",
      "5 / 3.\n",
      "5 / float(3)\n",
      "5 // 3\n",
      "5 % 3"
     ],
     "language": "python",
     "metadata": {},
     "outputs": []
    },
    {
     "cell_type": "markdown",
     "metadata": {},
     "source": [
      "### Absolute import ([PEP 328](http://legacy.python.org/dev/peps/pep-0328/))\n",
      "_Specific to the package creation._\n",
      "\n",
      "This is about making the code simpler and preventing errors when creating packages and programs. Say you have a package whose structure is"
     ]
    },
    {
     "cell_type": "raw",
     "metadata": {},
     "source": [
      "package/\n",
      "    __init__.py\n",
      "    subpackage1/\n",
      "        __init__.py\n",
      "        moduleX.py\n",
      "        moduleY.py\n",
      "    subpackage2/\n",
      "        __init__.py\n",
      "        moduleZ.py\n",
      "    moduleA.py"
     ]
    },
    {
     "cell_type": "markdown",
     "metadata": {},
     "source": [
      "and you are writing inside `moduleX.py` and willing to call methods from `moduleY.py`. In Python 2 you would write relative imports"
     ]
    },
    {
     "cell_type": "code",
     "collapsed": false,
     "input": [
      "from . import moduleY\n",
      "from .moduleY import foo\n",
      "# or even\n",
      "from ..moduleA import bar\n",
      "from ..subpackage2.moduleZ import baz"
     ],
     "language": "python",
     "metadata": {},
     "outputs": []
    },
    {
     "cell_type": "markdown",
     "metadata": {},
     "source": [
      "which looks explicit but not really homogeneous. While Python 3 still accepts that syntax, it is preferrable to make sure that `package` is in the `PYTHONPATH` and to use absolute imports only. Tu ensure that by preventing implicit relative imports using"
     ]
    },
    {
     "cell_type": "code",
     "collapsed": false,
     "input": [
      "from __future__ import absolute_import\n",
      "\n",
      "from package.subpackage1 import moduleY\n",
      "from package.subpackage1.moduleY import foo\n",
      "from package.moduleA import bar\n",
      "from package.subpackage2.moduleZ import baz"
     ],
     "language": "python",
     "metadata": {},
     "outputs": []
    },
    {
     "cell_type": "markdown",
     "metadata": {},
     "source": [
      "### Unicode strings ([PEP 3112](http://legacy.python.org/dev/peps/pep-3112/))\n",
      "_Very specific, not really needed for scientific modules._\n",
      "\n",
      "In Python 2, the strings are by default in ASCII. To define unicode strings, they need to be prepended by a `u`"
     ]
    },
    {
     "cell_type": "code",
     "collapsed": false,
     "input": [
      "name = u'\u304d\u305f\u306a\u3044\u306e'"
     ],
     "language": "python",
     "metadata": {},
     "outputs": []
    },
    {
     "cell_type": "markdown",
     "metadata": {},
     "source": [
      "Strings literals in Python 3 are unicode by default."
     ]
    },
    {
     "cell_type": "code",
     "collapsed": false,
     "input": [
      "from __future__ import unicode_literals\n",
      "\n",
      "name = '\u304d\u305f\u306a\u3044\u306e'"
     ],
     "language": "python",
     "metadata": {},
     "outputs": []
    },
    {
     "cell_type": "markdown",
     "metadata": {},
     "source": [
      "### Summary\n",
      "\n",
      "In your everyday Python scripts you should write, right after the header (before importing any module)"
     ]
    },
    {
     "cell_type": "code",
     "collapsed": false,
     "input": [
      "from __future__ import print_function, division"
     ],
     "language": "python",
     "metadata": {},
     "outputs": []
    },
    {
     "cell_type": "markdown",
     "metadata": {},
     "source": [
      "If you are using non ascii characters :"
     ]
    },
    {
     "cell_type": "code",
     "collapsed": false,
     "input": [
      "from __future__ import print_function, division, unicode_literals"
     ],
     "language": "python",
     "metadata": {},
     "outputs": []
    },
    {
     "cell_type": "markdown",
     "metadata": {},
     "source": [
      "If you are writing a package"
     ]
    },
    {
     "cell_type": "code",
     "collapsed": false,
     "input": [
      "from __future__ import print_function, division, unicode_literals, absolute_import"
     ],
     "language": "python",
     "metadata": {},
     "outputs": []
    },
    {
     "cell_type": "markdown",
     "metadata": {},
     "source": [
      "---\n",
      "## The `with` statement\n",
      "\n",
      "The `with` statement is used to wrap the execution of a block with methods defined by a context manager. It guarantees the `__exit__()` method of the context manager will always be called. It is mostly used for parsing the contents of a file.\n",
      "\n",
      "The usual method reads"
     ]
    },
    {
     "cell_type": "code",
     "collapsed": false,
     "input": [
      "# reading\n",
      "f = open('file.txt', 'r')\n",
      "content = f.readlines()\n",
      "f.close()\n",
      "\n",
      "# writing\n",
      "f = open('file.txt', 'r')\n",
      "f.write('foo')\n",
      "f.write('bar')\n",
      "f.write('baz')\n",
      "f.close()"
     ],
     "language": "python",
     "metadata": {},
     "outputs": []
    },
    {
     "cell_type": "markdown",
     "metadata": {},
     "source": [
      "It is very easy to forget the last line (closing of the file) after executing several actions. Using the `with` statement, these actions are indented in a block (clarity) and there is no need to close the file manually."
     ]
    },
    {
     "cell_type": "code",
     "collapsed": false,
     "input": [
      "# reading\n",
      "with open('file.txt', 'r') as f:\n",
      "    content = f.readlines()\n",
      "\n",
      "# writing\n",
      "with open('file.txt', 'a') as f:\n",
      "    f.write('foo')\n",
      "    f.write('bar')\n",
      "    f.write('baz')"
     ],
     "language": "python",
     "metadata": {},
     "outputs": []
    },
    {
     "cell_type": "markdown",
     "metadata": {},
     "source": [
      "---\n",
      "## Lists and generators\n",
      "When parsing through lists, very often the content of the list serves as indexing but does not actually carry relevant information that needs be stored in the memory. For huge lists embedded in loops, even the creation of the list eats CPU time and memory. In those cases, it is preferable to use generators instead, that returns the next value at every call."
     ]
    },
    {
     "cell_type": "code",
     "collapsed": false,
     "input": [
      "from __future__ import print_function\n",
      "\n",
      "# Basic list indexing\n",
      "for i in range(5):\n",
      "    print(i)\n",
      "    \n",
      "# Generator indexing\n",
      "for i in xrange(5):\n",
      "    print(i)\n",
      "    \n",
      "print(range(10))\n",
      "print(xrange(10))\n",
      "print(list(xrange(10)))"
     ],
     "language": "python",
     "metadata": {},
     "outputs": []
    },
    {
     "cell_type": "markdown",
     "metadata": {},
     "source": [
      "In Python 3, `range` returns a generator by default and thus has been merged with `xrange`.\n",
      "\n",
      "### List comprehension and generators\n",
      "\n",
      "Exactly the same way one can create lists from lists using list comprehension"
     ]
    },
    {
     "cell_type": "code",
     "collapsed": false,
     "input": [
      "x2 = [i**2 for i in xrange(5)]\n",
      "\n",
      "print(x2)"
     ],
     "language": "python",
     "metadata": {},
     "outputs": []
    },
    {
     "cell_type": "markdown",
     "metadata": {},
     "source": [
      "using parentheses instead of square brackets creates a generator"
     ]
    },
    {
     "cell_type": "code",
     "collapsed": false,
     "input": [
      "x2g = (i**2 for i in xrange(5))\n",
      "\n",
      "print(x2g)\n",
      "print(list(x2g))\n",
      "for j in x2g:\n",
      "    print(j)"
     ],
     "language": "python",
     "metadata": {},
     "outputs": []
    },
    {
     "cell_type": "markdown",
     "metadata": {},
     "source": [
      "---\n"
     ]
    }
   ],
   "metadata": {}
  }
 ]
}