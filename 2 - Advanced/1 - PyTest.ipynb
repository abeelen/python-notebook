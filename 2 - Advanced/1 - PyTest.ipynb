{
 "metadata": {
  "name": "",
  "signature": "sha256:bc2989de9002aca96db9bc28fd0e5d99a681ef3232c0b91650a48c9a63847595"
 },
 "nbformat": 3,
 "nbformat_minor": 0,
 "worksheets": [
  {
   "cells": [
    {
     "cell_type": "markdown",
     "metadata": {},
     "source": [
      "Testing your code\n",
      "=================\n",
      "\n",
      "Testing your code is the most important tasks you will have to do.\n",
      "This task is simplified by using small, well defined function, which can be tested easily.\n",
      "\n",
      "Lets define a simple function :"
     ]
    },
    {
     "cell_type": "code",
     "collapsed": false,
     "input": [
      "%%file func.py \n",
      "\n",
      "def func(x):\n",
      "    return x + 1"
     ],
     "language": "python",
     "metadata": {},
     "outputs": []
    },
    {
     "cell_type": "code",
     "collapsed": false,
     "input": [
      "from func import func\n",
      "assert func(3) == 4 # can check that the function is working properly"
     ],
     "language": "python",
     "metadata": {},
     "outputs": []
    },
    {
     "cell_type": "code",
     "collapsed": false,
     "input": [
      "assert func(3) == 5 # is wrong and will throw an exception"
     ],
     "language": "python",
     "metadata": {},
     "outputs": []
    },
    {
     "cell_type": "markdown",
     "metadata": {},
     "source": [
      "Thus one can simple write a small function to test all possible use case of func(x).\n",
      "\n",
      "Let's put all this in a file, by convention prefixed with `test_`"
     ]
    },
    {
     "cell_type": "code",
     "collapsed": false,
     "input": [
      "%%file test_func.py\n",
      "from func import func\n",
      "\n",
      "# You can write as many test function as you need/like as long as they start with 'test_' \n",
      "\n",
      "def test_int():\n",
      "    assert func(3) == 4\n",
      "\n",
      "# Here we test that the function also work with float AND return the proper type\n",
      "def test_float():\n",
      "    value = func(3.)\n",
      "    assert value == 4.\n",
      "    assert type(value) == float\n",
      "    \n",
      "# This will return a failed test\n",
      "# One does not want to do that in principle... \n",
      "def test_bad():\n",
      "    assert func(3) == 5 "
     ],
     "language": "python",
     "metadata": {},
     "outputs": []
    },
    {
     "cell_type": "markdown",
     "metadata": {},
     "source": [
      "We can use pytest to automaticaly test for our function, and report the failed tests"
     ]
    },
    {
     "cell_type": "code",
     "collapsed": false,
     "input": [
      "! py.test"
     ],
     "language": "python",
     "metadata": {},
     "outputs": []
    },
    {
     "cell_type": "markdown",
     "metadata": {},
     "source": [
      "Let's imagine that the test_func cover all planned usage of func().\n",
      "\n",
      "Now, for some reason, we decide to change func, to return only an integer"
     ]
    },
    {
     "cell_type": "code",
     "collapsed": false,
     "input": [
      "%%file func.py\n",
      "\n",
      "def func(x):\n",
      "    return int(x + 1)"
     ],
     "language": "python",
     "metadata": {},
     "outputs": []
    },
    {
     "cell_type": "markdown",
     "metadata": {},
     "source": [
      "This is a regression of the code and the test will pick it up"
     ]
    },
    {
     "cell_type": "code",
     "collapsed": false,
     "input": [
      "! py.test"
     ],
     "language": "python",
     "metadata": {},
     "outputs": []
    },
    {
     "cell_type": "code",
     "collapsed": false,
     "input": [],
     "language": "python",
     "metadata": {},
     "outputs": []
    }
   ],
   "metadata": {}
  }
 ]
}