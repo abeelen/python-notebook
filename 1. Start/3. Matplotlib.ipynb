{
 "metadata": {
  "name": "",
  "signature": "sha256:6caa0b25d2ae65eb1f74f872f7ca9a870ced2cd774a9a8491f0b7bb73ae236ff"
 },
 "nbformat": 3,
 "nbformat_minor": 0,
 "worksheets": [
  {
   "cells": [
    {
     "cell_type": "markdown",
     "metadata": {},
     "source": [
      "There are several plotting modules in python. Matplolib is the most complete/versatile package for all 2D plotting. The easiest way to construct a new plot is to have a look at http://matplotlib.org/gallery.html and get inspiration from the available examples."
     ]
    },
    {
     "cell_type": "heading",
     "level": 1,
     "metadata": {},
     "source": [
      "Quick plots, or Matplotlib dirty usage"
     ]
    },
    {
     "cell_type": "code",
     "collapsed": false,
     "input": [
      "# The following line is just for the IPython notebook shell\n",
      "%matplotlib \n",
      "\n",
      "import numpy as np\n",
      "import matplotlib.pyplot as plt\n",
      "\n",
      "plt.ion() # To get interactive plotting (otherwise you need to type plt.show() at the end of the plotting commands)\n",
      "\n",
      "x = np.linspace(0, 10)\n",
      "plt.plot(x, np.sin(x), '--', label='first line') # basic X/Y line plotting with '--' dashed line and linewidth of 2\n",
      "\n",
      "plt.plot(x, np.cos(x)*np.cos(x/2),'.',linewidth=3, label='other') # overplot a dotted line on the previous plot\n",
      "\n",
      "xlegend = plt.xlabel('x axis') #change the label of the xaxis\n"
     ],
     "language": "python",
     "metadata": {},
     "outputs": []
    },
    {
     "cell_type": "code",
     "collapsed": false,
     "input": [
      "plt.xlabel('another x axis') # change your mind about the label : you do not need to replot everything !\n",
      "xlegend.set_text('changed it from the object itslef') # or you can use the re-tuned object\n",
      "legend = plt.legend()        # simply add the legend (from the previous label)"
     ],
     "language": "python",
     "metadata": {},
     "outputs": []
    },
    {
     "cell_type": "code",
     "collapsed": false,
     "input": [
      "plt.savefig('plot.png') # save the current figure in png\n",
      "plt.savefig('plot.eps') # save the current figure in ps, no need to redo it !"
     ],
     "language": "python",
     "metadata": {},
     "outputs": []
    },
    {
     "cell_type": "heading",
     "level": 1,
     "metadata": {},
     "source": [
      "Proper use of Matplotlib (object oriented)"
     ]
    },
    {
     "cell_type": "code",
     "collapsed": false,
     "input": [
      "fig2 = plt.figure()  # define a figure which can contains several plots, you can define resolution and so on here...\n",
      "ax = fig2.add_subplot(1,1,1)   # add one axis, axes are actual plots where you can put data.fits (nx, ny, index)"
     ],
     "language": "python",
     "metadata": {},
     "outputs": []
    },
    {
     "cell_type": "code",
     "collapsed": false,
     "input": [
      "ax.plot(x,np.sin(x), '+')\n",
      "ax.set_title('this title')\n",
      "plt.show()"
     ],
     "language": "python",
     "metadata": {},
     "outputs": []
    },
    {
     "cell_type": "code",
     "collapsed": false,
     "input": [
      "fig3, ax = plt.subplots() # is a simpler syntax to add one axis into the figure\n",
      "ax.plot(x,np.sin(x), '+')\n",
      "ax.set_title('simple subplot')"
     ],
     "language": "python",
     "metadata": {},
     "outputs": []
    },
    {
     "cell_type": "heading",
     "level": 1,
     "metadata": {},
     "source": [
      "Subplots"
     ]
    },
    {
     "cell_type": "code",
     "collapsed": false,
     "input": [
      "plt.close('all')\n",
      "fig1, (ax1, ax2) = plt.subplots(2, sharex=True) # Create one figure with two plots/axes, with their xaxis shared\n",
      "ax1.plot(x, np.sin(x), '-.',color='r', label='first line')\n",
      "other = ax2.plot(x, np.cos(x)*np.cos(x/2),'o-',linewidth=3, label='other')\n",
      "ax1.legend()\n",
      "ax2.legend()"
     ],
     "language": "python",
     "metadata": {},
     "outputs": []
    },
    {
     "cell_type": "code",
     "collapsed": false,
     "input": [
      "plt.setp(other, color='g')     # Change the color property for the other line...\n",
      "fig1.subplots_adjust(hspace=0) # Compactify the figure\n",
      "plt.show()                     # Refresh"
     ],
     "language": "python",
     "metadata": {},
     "outputs": []
    },
    {
     "cell_type": "code",
     "collapsed": false,
     "input": [
      "ax1.scatter(x, np.sin(x)+np.random.normal(0, 0.1, np.size(x))) # add a scatter plot to the first axis\n",
      "plt.show()"
     ],
     "language": "python",
     "metadata": {},
     "outputs": []
    },
    {
     "cell_type": "heading",
     "level": 1,
     "metadata": {},
     "source": [
      "Log plots"
     ]
    },
    {
     "cell_type": "code",
     "collapsed": false,
     "input": [
      "plt.close('all')\n",
      "fig1, (ax1, ax2) = plt.subplots(2)\n",
      "ax1.semilogx(x, np.cos(x)*np.cos(x/2))   # normal-xlog plots\n",
      "ax2.loglog(x,abs(np.cos(x)*np.cos(x/2))) # log log plots"
     ],
     "language": "python",
     "metadata": {},
     "outputs": []
    },
    {
     "cell_type": "code",
     "collapsed": false,
     "input": [
      "ax1.set_yscale('log')                    # you can (un)set it, whenever you want\n",
      "ax2.set_xscale('linear')\n",
      "plt.show()\n"
     ],
     "language": "python",
     "metadata": {},
     "outputs": []
    },
    {
     "cell_type": "heading",
     "level": 1,
     "metadata": {},
     "source": [
      "Histograms"
     ]
    },
    {
     "cell_type": "code",
     "collapsed": false,
     "input": [
      "plt.close(fig1)"
     ],
     "language": "python",
     "metadata": {},
     "outputs": []
    },
    {
     "cell_type": "code",
     "collapsed": false,
     "input": [
      "fig1, ax = plt.subplots()\n",
      "x = np.random.normal(0, 0.1, 10000)\n",
      "n, bins, patches = ax.hist(x, bins=50)"
     ],
     "language": "python",
     "metadata": {},
     "outputs": []
    },
    {
     "cell_type": "heading",
     "level": 1,
     "metadata": {},
     "source": [
      "Images"
     ]
    },
    {
     "cell_type": "code",
     "collapsed": false,
     "input": [
      "img = np.random.normal(0,0.1, 256*256).reshape(256,256)"
     ],
     "language": "python",
     "metadata": {},
     "outputs": []
    },
    {
     "cell_type": "code",
     "collapsed": false,
     "input": [
      "plt.close('all')\n",
      "fig1, ax = plt.subplots()\n",
      "imgplot = ax.imshow(img, origin='lower', interpolation='None') # to have 0,0 in the lower left corner and no interpolation\n",
      "ax.grid()                                # to add a grid to any axis"
     ],
     "language": "python",
     "metadata": {},
     "outputs": []
    },
    {
     "cell_type": "code",
     "collapsed": false,
     "input": [
      "imgplot.set_cmap('hot')                # changing the colormap\n",
      "plt.show()"
     ],
     "language": "python",
     "metadata": {},
     "outputs": []
    },
    {
     "cell_type": "code",
     "collapsed": false,
     "input": [
      "imgplot.set_cmap('spectral')            # changing the colormap\n",
      "colorb = fig1.colorbar(imgplot)         # adding a color bar\n",
      "plt.show()"
     ],
     "language": "python",
     "metadata": {},
     "outputs": []
    },
    {
     "cell_type": "code",
     "collapsed": false,
     "input": [
      "imgplot.set_clim(-0.5, 0.5)            # changing the dynamical range\n",
      "plt.show()"
     ],
     "language": "python",
     "metadata": {},
     "outputs": []
    }
   ],
   "metadata": {}
  }
 ]
}