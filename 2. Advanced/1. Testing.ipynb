{
 "metadata": {
  "name": "",
  "signature": "sha256:79e6da56fa88c031285621af2e84e0d758a86a31a115130939e4099fafafa0d0"
 },
 "nbformat": 3,
 "nbformat_minor": 0,
 "worksheets": [
  {
   "cells": [
    {
     "cell_type": "markdown",
     "metadata": {},
     "source": [
      "Testing your code\n",
      "=================\n",
      "\n",
      "Testing your code is the most important tasks you will have to do.\n",
      "\n",
      "This task is simplified by using small, well defined function, which can be tested easily.\n",
      "\n",
      "They are different way/flavor of doing tests with Python, here are the main ones. The one that you could/should pick will mainly be determined by the size/complexity of project and the continuous integration tools that it may use.\n",
      "\n",
      "- [Testing](#Testing)\n",
      " - [doctest](#doctest)\n",
      " - [inittest](#inittest)\n",
      " - [PyTest](#PyTest)\n",
      "- [Regression](#Regression)"
     ]
    },
    {
     "cell_type": "heading",
     "level": 1,
     "metadata": {},
     "source": [
      "Testing"
     ]
    },
    {
     "cell_type": "markdown",
     "metadata": {},
     "source": [
      "Lets define a simple function which only return the input plus one :"
     ]
    },
    {
     "cell_type": "code",
     "collapsed": false,
     "input": [
      "%%file func.py\n",
      "def func(x):\n",
      "    return x + 1"
     ],
     "language": "python",
     "metadata": {},
     "outputs": []
    },
    {
     "cell_type": "code",
     "collapsed": false,
     "input": [
      "from func import func\n",
      "assert func(3) == 4 # assert can check that the function is working properly\n",
      "func(3)"
     ],
     "language": "python",
     "metadata": {},
     "outputs": []
    },
    {
     "cell_type": "code",
     "collapsed": false,
     "input": [
      "assert func(3.) == 4.0 # the function also works with float\n",
      "func(3.)"
     ],
     "language": "python",
     "metadata": {},
     "outputs": []
    },
    {
     "cell_type": "heading",
     "level": 2,
     "metadata": {},
     "source": [
      "doctest"
     ]
    },
    {
     "cell_type": "markdown",
     "metadata": {},
     "source": [
      "\n",
      "[https://docs.python.org/library/doctest.html]\n",
      "\n",
      "Doctest is a simple way of testing the output of your function. One just add some examples to the docstring of the function. It is basically the calling sequence and the expected result as if run from the python prompt.\n",
      "\n",
      "A doctest launch sequence is also added when the file is run directly."
     ]
    },
    {
     "cell_type": "code",
     "collapsed": false,
     "input": [
      "%%file func.py \n",
      "def func(x):\n",
      "    \"\"\"\n",
      "    This function add one to the input.\n",
      "    \n",
      "    >>> func(3)\n",
      "    4\n",
      "    >>> func(3.)\n",
      "    4.0\n",
      "    \"\"\"\n",
      "    return x+1\n",
      "\n",
      "# Let's add this, so that if we run the file, python will launch the doctests\n",
      "if __name__ in (\"__main__\", \"__console__\"):\n",
      "    import doctest\n",
      "    doctest.testmod(verbose=True)"
     ],
     "language": "python",
     "metadata": {},
     "outputs": []
    },
    {
     "cell_type": "code",
     "collapsed": false,
     "input": [
      "%run func"
     ],
     "language": "python",
     "metadata": {},
     "outputs": []
    },
    {
     "cell_type": "heading",
     "level": 2,
     "metadata": {},
     "source": [
      "inittest"
     ]
    },
    {
     "cell_type": "markdown",
     "metadata": {},
     "source": [
      "\n",
      "[https://docs.python.org/2/library/unittest.html]\n",
      "\n",
      "As doctest, inittest is part of the python distribution. Here we will define a new class derived from unittest.TestCase to test our function."
     ]
    },
    {
     "cell_type": "code",
     "collapsed": false,
     "input": [
      "%%file test_func_unittest.py\n",
      "from func import func\n",
      "import unittest\n",
      "\n",
      "class TestFunc(unittest.TestCase):\n",
      "\n",
      "\n",
      "    def test_int(self):\n",
      "        self.assertEqual(func(3), 4)\n",
      "\n",
      "    def test_float(self):\n",
      "        self.assertEqual(func(3.), 4)\n",
      "\n",
      "    # To return a failure...\n",
      "    def test_bad(self):\n",
      "        self.assertEqual(func(3), 5)\n",
      "        \n",
      "if __name__ == '__main__':\n",
      "    unittest.main()\n"
     ],
     "language": "python",
     "metadata": {},
     "outputs": []
    },
    {
     "cell_type": "code",
     "collapsed": false,
     "input": [
      "%run test_func_unittest"
     ],
     "language": "python",
     "metadata": {},
     "outputs": []
    },
    {
     "cell_type": "heading",
     "level": 2,
     "metadata": {},
     "source": [
      "PyTest"
     ]
    },
    {
     "cell_type": "markdown",
     "metadata": {},
     "source": [
      "\n",
      "Pytest is based on a simpler syntax. We just to write a serie of small functions to test all possible use case of func(x).\n",
      "\n",
      "Let's put all this in a file, by convention just prefixed with `test_`. Here we also add a postfix to separate inittest and pytest, however this will disable pytest automatic test search capabilities."
     ]
    },
    {
     "cell_type": "code",
     "collapsed": false,
     "input": [
      "%%file test_func_pytest.py\n",
      "from func import func\n",
      "\n",
      "def test_int():\n",
      "    assert func(3) == 4\n",
      "\n",
      "# Here we test that the function also work with float AND return the proper type\n",
      "def test_float():\n",
      "    value = func(3.)\n",
      "    assert value == 4.\n",
      "    assert type(value) == float\n",
      "    \n",
      "# To return a failure...\n",
      "def test_bad():\n",
      "    assert func(3) == 5 "
     ],
     "language": "python",
     "metadata": {},
     "outputs": []
    },
    {
     "cell_type": "markdown",
     "metadata": {},
     "source": [
      "We can use pytest to automaticaly test for our function, and report the failed tests"
     ]
    },
    {
     "cell_type": "code",
     "collapsed": false,
     "input": [
      "! py.test test_func_pytest.py"
     ],
     "language": "python",
     "metadata": {},
     "outputs": []
    },
    {
     "cell_type": "heading",
     "level": 1,
     "metadata": {},
     "source": [
      "Regression "
     ]
    },
    {
     "cell_type": "markdown",
     "metadata": {},
     "source": [
      "\n",
      "Let's imagine that the test_func cover all planned usage of func().\n",
      "\n",
      "Now, for some reason, we decide to change func, to return only an integer"
     ]
    },
    {
     "cell_type": "code",
     "collapsed": false,
     "input": [
      "%%file func.py\n",
      "\n",
      "def func(x):\n",
      "    \"\"\"\n",
      "    This function add one to the input.\n",
      "    \n",
      "    >>> func(3)\n",
      "    4\n",
      "    >>> func(3.)\n",
      "    4.0\n",
      "    \"\"\"\n",
      "\n",
      "    return int(x + 1)\n",
      "\n",
      "\n",
      "# Let's add this, so that if we run the file, python will launch the doctests\n",
      "if __name__ in (\"__main__\", \"__console__\"):\n",
      "    import doctest\n",
      "    doctest.testmod(verbose=True)"
     ],
     "language": "python",
     "metadata": {},
     "outputs": []
    },
    {
     "cell_type": "markdown",
     "metadata": {},
     "source": [
      "This is a clear regression of the code, which could impact functions elsewhere, and here all tests will pick it up"
     ]
    },
    {
     "cell_type": "code",
     "collapsed": false,
     "input": [
      "%run func"
     ],
     "language": "python",
     "metadata": {},
     "outputs": []
    },
    {
     "cell_type": "code",
     "collapsed": false,
     "input": [
      "%run test_func_unittest"
     ],
     "language": "python",
     "metadata": {},
     "outputs": []
    },
    {
     "cell_type": "markdown",
     "metadata": {},
     "source": [
      "PyTest can also run test from unittest files, so one can directly run it in the directory"
     ]
    },
    {
     "cell_type": "code",
     "collapsed": false,
     "input": [
      "! py.test "
     ],
     "language": "python",
     "metadata": {},
     "outputs": []
    },
    {
     "cell_type": "code",
     "collapsed": false,
     "input": [],
     "language": "python",
     "metadata": {},
     "outputs": []
    }
   ],
   "metadata": {}
  }
 ]
}