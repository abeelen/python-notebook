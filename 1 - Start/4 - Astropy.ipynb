{
 "metadata": {
  "name": "",
  "signature": "sha256:f204e2041e2be43bc0e65bef3b41c2cb1b79ec4b6b05139503e6e15193cecd0d"
 },
 "nbformat": 3,
 "nbformat_minor": 0,
 "worksheets": [
  {
   "cells": [
    {
     "cell_type": "markdown",
     "metadata": {},
     "source": [
      "Using the library Astropy to read fits/ascii tables and convert astronomical coordinates (http://www.astropy.org/)"
     ]
    },
    {
     "cell_type": "heading",
     "level": 1,
     "metadata": {},
     "source": [
      "Fits Files"
     ]
    },
    {
     "cell_type": "heading",
     "level": 2,
     "metadata": {},
     "source": [
      "Reading a fits file (pyfits)"
     ]
    },
    {
     "cell_type": "code",
     "collapsed": false,
     "input": [
      "from astropy.io import fits as pyfits\n",
      "\n",
      "filename = \"data.fits\"\n",
      "pyfits.info(filename) # will display the content of the fits file (several extensions here)"
     ],
     "language": "python",
     "metadata": {},
     "outputs": [
      {
       "output_type": "stream",
       "stream": "stdout",
       "text": [
        "Filename: data.fits\n",
        "No.    Name         Type      Cards   Dimensions   Format\n",
        "0    PRIMARY     PrimaryHDU     151   ()              \n",
        "1    image       ImageHDU        52   (273, 296)   float64   \n",
        "2    error       ImageHDU        20   (273, 296)   float64   \n",
        "3    coverage    ImageHDU        20   (273, 296)   float64   \n",
        "4    History     ImageHDU        23   ()              \n",
        "5    HistoryScript  BinTableHDU     39   105R x 1C    [300A]   \n",
        "6    HistoryTasks  BinTableHDU     46   77R x 4C     [1K, 27A, 1K, 9A]   \n",
        "7    HistoryParameters  BinTableHDU     74   614R x 10C   [1K, 20A, 7A, 46A, 1L, 1K, 1L, 74A, 11A, 41A]   \n"
       ]
      }
     ],
     "prompt_number": 1
    },
    {
     "cell_type": "code",
     "collapsed": false,
     "input": [
      "image, header = pyfits.getdata(filename,'image',header=True) # let's read the extension image only"
     ],
     "language": "python",
     "metadata": {},
     "outputs": [],
     "prompt_number": 2
    },
    {
     "cell_type": "code",
     "collapsed": false,
     "input": [
      "print image[100:103,100:103] # image contains the actual data"
     ],
     "language": "python",
     "metadata": {},
     "outputs": [
      {
       "output_type": "stream",
       "stream": "stdout",
       "text": [
        "[[ -4.11007153e-03  -7.81326587e-03  -9.84336429e-03]\n",
        " [  7.26953717e-03  -1.03521749e-02  -1.29196560e-02]\n",
        " [  1.93565889e-04  -7.28653757e-03  -7.75454198e-05]]\n"
       ]
      }
     ],
     "prompt_number": 3
    },
    {
     "cell_type": "code",
     "collapsed": false,
     "input": [
      "header # header describe all the image in term of astrometry/unit/size"
     ],
     "language": "python",
     "metadata": {},
     "outputs": [
      {
       "metadata": {},
       "output_type": "pyout",
       "prompt_number": 4,
       "text": [
        "XTENSION= 'IMAGE   '           / Java FITS: Wed Aug 14 11:37:21 CEST 2013       \n",
        "BITPIX  =                  -64                                                  \n",
        "NAXIS   =                    2 / Dimensionality                                 \n",
        "NAXIS1  =                  273                                                  \n",
        "NAXIS2  =                  296                                                  \n",
        "PCOUNT  =                    0 / No extra parameters                            \n",
        "GCOUNT  =                    1 / One group                                      \n",
        "LONGSTRN= 'OGIP 1.0'           / The OGIP long string convention may be used.   \n",
        "COMMENT This FITS file may contain long string keyword values that are          \n",
        "COMMENT continued over multiple keywords.  This convention uses the  '&'        \n",
        "COMMENT character at the end of a string which is then continued                \n",
        "COMMENT on subsequent keywords whose name = 'CONTINUE'.                         \n",
        "          -------------- Herschel Structure Data--------------------            \n",
        "          Following fields are private to the structure of the                  \n",
        "          Java object this HDU is representing.                                 \n",
        "EXTNAME = 'image   '           / name of this HDU                               \n",
        "CLASS___= 'herschel.ia.dataset.ArrayDataset' / java representation              \n",
        "INFO____= 'Image   '                                                            \n",
        "DATA____= 'herschel.ia.numeric.Double2d' / java Data                            \n",
        "QTTY____= 'Jy/beam '           / Unit of the data                               \n",
        "          -------------- Herschel Parameter Data--------------------            \n",
        "          All actual parameter names are converted to FITS compliant            \n",
        "          conventions. Note that the HIERARCH comments contain the              \n",
        "          appropriate key mapping                                               \n",
        "META_0  =                    2 / [] WCS: Number of Axes                         \n",
        "META_1  =                  273 / [] naxis1                                      \n",
        "META_2  =                  296 / [] naxis2                                      \n",
        "CRPIX1  =                134.0 / [] WCS: Reference pixel position axis 1, uni&  \n",
        "COMMENT t=Scalar                                                                \n",
        "CRPIX2  =                153.0 / [] WCS: Reference pixel position axis 2, uni&  \n",
        "COMMENT t=Scalar                                                                \n",
        "CRVAL1  =    30.07379502155236 / [] WCS: First coordinate of reference pixel    \n",
        "CRVAL2  =  -24.903630299920962 / [] WCS: Second coordinate of reference pixel   \n",
        "CDELT1  =   -0.001666666666667 / [] WCS: Pixel scale axis 1, unit=Angle         \n",
        "CDELT2  =    0.001666666666667 / [] WCS: Pixel scale axis 2, unit=Angle         \n",
        "CTYPE1  = 'RA---TAN'           / WCS: Projection type axis 1, default=\"LINEAR\"  \n",
        "CTYPE2  = 'DEC--TAN'           / WCS: Projection type axis 2, default=\"LINEAR\"  \n",
        "EQUINOX =               2000.0 / [] WCS: Equinox, unit=Duration                 \n",
        "CROTA2  =                  0.0 / [] The Rotation angle                          \n",
        "HIERARCH  key.META_0='naxis'                                                    \n",
        "HIERARCH  key.META_1='naxis1'                                                   \n",
        "HIERARCH  key.META_2='naxis2'                                                   \n",
        "HIERARCH  key.CRPIX1='crpix1'                                                   \n",
        "HIERARCH  key.CRPIX2='crpix2'                                                   \n",
        "HIERARCH  key.CRVAL1='crval1'                                                   \n",
        "HIERARCH  key.CRVAL2='crval2'                                                   \n",
        "HIERARCH  key.CDELT1='cdelt1'                                                   \n",
        "HIERARCH  key.CDELT2='cdelt2'                                                   \n",
        "HIERARCH  key.CTYPE1='ctype1'                                                   \n",
        "HIERARCH  key.CTYPE2='ctype2'                                                   \n",
        "HIERARCH  key.EQUINOX='equinox'                                                 \n",
        "HIERARCH  key.CROTA2='crota2'                                                   "
       ]
      }
     ],
     "prompt_number": 4
    },
    {
     "cell_type": "code",
     "collapsed": false,
     "input": [
      "print header['naxis1'], header['naxis2'] # this correpond to the size of the image\n",
      "print image.shape"
     ],
     "language": "python",
     "metadata": {},
     "outputs": [
      {
       "output_type": "stream",
       "stream": "stdout",
       "text": [
        "273 296\n",
        "(296, 273)\n"
       ]
      }
     ],
     "prompt_number": 5
    },
    {
     "cell_type": "heading",
     "level": 2,
     "metadata": {},
     "source": [
      "Sky Coordinates Manipulation (pyWCS)"
     ]
    },
    {
     "cell_type": "code",
     "collapsed": false,
     "input": [
      "from astropy import wcs as pywcs\n",
      "wcs = pywcs.WCS(header) # You can use the header to create a wcs (World Coordinate System) object."
     ],
     "language": "python",
     "metadata": {},
     "outputs": [],
     "prompt_number": 6
    },
    {
     "cell_type": "code",
     "collapsed": false,
     "input": [
      "(ra, dec) = wcs.wcs_pix2world(0.,0.,0) # sky coordinate of the center of the first pixel (0,0)\n",
      "print ra, dec\n",
      "(x, y)   = wcs.wcs_world2pix(ra,dec,0) # back to pixel coordinate\n",
      "print x, y"
     ],
     "language": "python",
     "metadata": {},
     "outputs": [
      {
       "output_type": "stream",
       "stream": "stdout",
       "text": [
        "30.318687003 -25.1567606072\n",
        "-2.27373675443e-12 -1.84741111298e-12\n"
       ]
      }
     ],
     "prompt_number": 8
    },
    {
     "cell_type": "heading",
     "level": 2,
     "metadata": {},
     "source": [
      "Plotting using matplotlib and pywcsgrid2"
     ]
    },
    {
     "cell_type": "markdown",
     "metadata": {},
     "source": [
      "Raw plot of the image (pixel indexed, origin in the lower left corner)"
     ]
    },
    {
     "cell_type": "code",
     "collapsed": false,
     "input": [
      "import matplotlib.pyplot as plt\n",
      "import pywcsgrid2\n",
      "\n",
      "plt.ion()\n",
      "\n",
      "ax = plt.subplot(211)\n",
      "ax.imshow(image, origin=\"lower\", interpolation=\"None\", vmin=-2e-2, vmax=5e-2)"
     ],
     "language": "python",
     "metadata": {},
     "outputs": [
      {
       "ename": "ImportError",
       "evalue": "No module named pywcsgrid2",
       "output_type": "pyerr",
       "traceback": [
        "\u001b[0;31m---------------------------------------------------------------------------\u001b[0m\n\u001b[0;31mImportError\u001b[0m                               Traceback (most recent call last)",
        "\u001b[0;32m<ipython-input-9-983c96ff3dcb>\u001b[0m in \u001b[0;36m<module>\u001b[0;34m()\u001b[0m\n\u001b[1;32m      1\u001b[0m \u001b[0;32mimport\u001b[0m \u001b[0mmatplotlib\u001b[0m\u001b[0;34m.\u001b[0m\u001b[0mpyplot\u001b[0m \u001b[0;32mas\u001b[0m \u001b[0mplt\u001b[0m\u001b[0;34m\u001b[0m\u001b[0m\n\u001b[0;32m----> 2\u001b[0;31m \u001b[0;32mimport\u001b[0m \u001b[0mpywcsgrid2\u001b[0m\u001b[0;34m\u001b[0m\u001b[0m\n\u001b[0m\u001b[1;32m      3\u001b[0m \u001b[0;34m\u001b[0m\u001b[0m\n\u001b[1;32m      4\u001b[0m \u001b[0mplt\u001b[0m\u001b[0;34m.\u001b[0m\u001b[0mion\u001b[0m\u001b[0;34m(\u001b[0m\u001b[0;34m)\u001b[0m\u001b[0;34m\u001b[0m\u001b[0m\n\u001b[1;32m      5\u001b[0m \u001b[0;34m\u001b[0m\u001b[0m\n",
        "\u001b[0;31mImportError\u001b[0m: No module named pywcsgrid2"
       ]
      }
     ],
     "prompt_number": 9
    },
    {
     "cell_type": "markdown",
     "metadata": {},
     "source": [
      "Plot of the image using the astronomical axes (using http://leejjoon.github.io/pywcsgrid2/ but you may considerate APLpy http://aplpy.github.io/ )"
     ]
    },
    {
     "cell_type": "code",
     "collapsed": false,
     "input": [
      "ax_wcs = pywcsgrid2.subplot(212,header=wcs)\n",
      "ax_wcs.imshow(image, origin=\"lower\", interpolation=\"None\", vmin=-2e-2, vmax=5e-2)\n",
      "ax_wcs.grid()"
     ],
     "language": "python",
     "metadata": {},
     "outputs": []
    },
    {
     "cell_type": "code",
     "collapsed": false,
     "input": [
      "ax_wcs.set_display_coord_system(\"gal\") # change the system of coordinates for the axes\n",
      "plt.show()"
     ],
     "language": "python",
     "metadata": {},
     "outputs": []
    },
    {
     "cell_type": "heading",
     "level": 1,
     "metadata": {},
     "source": [
      "Reading ASCII files"
     ]
    },
    {
     "cell_type": "markdown",
     "metadata": {},
     "source": [
      "This package can read and write in most of the ascii format that are used in astronomy http://cxc.harvard.edu/contrib/asciitable/"
     ]
    },
    {
     "cell_type": "code",
     "collapsed": false,
     "input": [
      "from astropy.io import ascii as asciitable \n",
      "\n",
      "catalog = asciitable.read('sources.txt') # ASCII w/wo header - CSV - IPAC - CdS - Daophot - LaTex\n",
      "print catalog"
     ],
     "language": "python",
     "metadata": {},
     "outputs": [
      {
       "output_type": "stream",
       "stream": "stdout",
       "text": [
        "      ra           dec             x       ...    bgMinusErr       quality   \n",
        "------------- -------------- ------------- ... ---------------- -------------\n",
        "30.0736543481 -24.8389847181 133.076596062 ... 0.00280563968109 24.0841967062\n",
        "30.0997563127  -25.030193106 118.886083699 ... 0.00310958937187 16.5084425251\n",
        "29.9942788599 -25.1096034937 176.201319623 ... 0.00325032853805 9.89491008533\n",
        "  29.91794919  -24.846186405 217.852553446 ... 0.00283227511184  9.3797188144\n",
        "29.8763509609 -24.7518860739 240.583543382 ... 0.00466051306854 9.08251222505\n",
        "29.8668948822 -24.8539846811 245.642862323 ... 0.00330155226713 8.43689223988\n",
        "30.1256090651 -24.9699609047 104.817408355 ... 0.00278613735733 8.19832920568\n",
        "30.1341184911 -24.9186418851 100.175324745 ... 0.00256138723823 7.81807474971\n",
        "30.1539556185 -24.9026093657 89.3753876155 ... 0.00251952074747 7.81133676519\n",
        "29.9797930641 -25.0463249901 184.097726865 ... 0.00291029625116 6.89071877371\n",
        "30.2413477808 -24.9594862656 41.8571244941 ... 0.00240191091556 6.87760584127\n",
        "          ...            ...           ... ...              ...           ...\n",
        "29.9437150386 -25.0891235145  203.68456732 ... 0.00323050023835 3.06231613302\n",
        "30.0765000512 -24.7204172645  131.52570931 ... 0.00552624990645 3.05127456023\n",
        "29.8942760139 -24.8914759582 230.705967541 ... 0.00286763131097 3.05075631055\n",
        "29.8574213683 -24.9163905473 250.741028402 ... 0.00466062301602 3.04991647049\n",
        "30.1053859415 -24.8563238995  115.80130144 ... 0.00254098273417 3.03798292185\n",
        "29.9881427438 -24.9848732372 179.582200492 ... 0.00303660999476 3.03198730771\n",
        "30.2074102216 -24.9875099453 60.3345437289 ...  0.0034682396621 3.02788601287\n",
        "30.0942407579 -24.9200296541  121.87469585 ... 0.00291509463361 3.02631796095\n",
        "29.8676508613 -24.8203443354 245.261861564 ...  0.0036199668733 3.02166735965\n",
        "29.9484885884  -24.983109915  201.14922658 ... 0.00389509543609 3.00670662837\n",
        "30.1709025373 -24.8137020942 80.1145342323 ... 0.00310707086365 3.00002846541\n"
       ]
      }
     ],
     "prompt_number": 10
    },
    {
     "cell_type": "code",
     "collapsed": false,
     "input": [
      "(x,y) = wcs.wcs_world2pix(catalog['ra'], catalog['dec'],0)"
     ],
     "language": "python",
     "metadata": {},
     "outputs": [
      {
       "ename": "AttributeError",
       "evalue": "'WCS' object has no attribute 'wcs_sky2pix'",
       "output_type": "pyerr",
       "traceback": [
        "\u001b[0;31m---------------------------------------------------------------------------\u001b[0m\n\u001b[0;31mAttributeError\u001b[0m                            Traceback (most recent call last)",
        "\u001b[0;32m<ipython-input-11-0521cf0ebd25>\u001b[0m in \u001b[0;36m<module>\u001b[0;34m()\u001b[0m\n\u001b[0;32m----> 1\u001b[0;31m \u001b[0;34m(\u001b[0m\u001b[0mx\u001b[0m\u001b[0;34m,\u001b[0m\u001b[0my\u001b[0m\u001b[0;34m)\u001b[0m \u001b[0;34m=\u001b[0m \u001b[0mwcs\u001b[0m\u001b[0;34m.\u001b[0m\u001b[0mwcs_sky2pix\u001b[0m\u001b[0;34m(\u001b[0m\u001b[0mcatalog\u001b[0m\u001b[0;34m[\u001b[0m\u001b[0;34m'ra'\u001b[0m\u001b[0;34m]\u001b[0m\u001b[0;34m,\u001b[0m \u001b[0mcatalog\u001b[0m\u001b[0;34m[\u001b[0m\u001b[0;34m'dec'\u001b[0m\u001b[0;34m]\u001b[0m\u001b[0;34m,\u001b[0m\u001b[0;36m0\u001b[0m\u001b[0;34m)\u001b[0m\u001b[0;34m\u001b[0m\u001b[0m\n\u001b[0m",
        "\u001b[0;31mAttributeError\u001b[0m: 'WCS' object has no attribute 'wcs_sky2pix'"
       ]
      }
     ],
     "prompt_number": 11
    },
    {
     "cell_type": "code",
     "collapsed": false,
     "input": [
      "plt.imshow(image, origin=\"lower\", interpolation=\"None\", vmin=-2e-2, vmax=5e-2)\n",
      "plt.scatter(x,y, color='r')"
     ],
     "language": "python",
     "metadata": {},
     "outputs": []
    },
    {
     "cell_type": "code",
     "collapsed": false,
     "input": [
      "asciitable.write(catalog,'sources.tex',Writer=asciitable.Latex) # save it as LaTeX table"
     ],
     "language": "python",
     "metadata": {},
     "outputs": []
    },
    {
     "cell_type": "code",
     "collapsed": false,
     "input": [
      "import astropy.io.votable  as vo_table\n",
      "\n",
      "vo_table.votable = from_table(catalog)\n",
      "vo_table.writeto(votable, 'sources.xml')\n"
     ],
     "language": "python",
     "metadata": {},
     "outputs": []
    }
   ],
   "metadata": {}
  }
 ]
}