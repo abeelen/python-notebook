{
 "metadata": {
  "name": "",
  "signature": "sha256:fc0b98d49ed74ca9f42cfa84d19332373a1a6b7ac76aa6c7db73cb75b4fae68c"
 },
 "nbformat": 3,
 "nbformat_minor": 0,
 "worksheets": [
  {
   "cells": [
    {
     "cell_type": "markdown",
     "metadata": {},
     "source": [
      "# Creating a class\n",
      "\n",
      "A class is an object that possess:\n",
      " 1. an initialization method `__init__`, which initializes the `self` (the class itself) **[mandatory]**\n",
      " 2. public attributes: variables callable internally or externally, which can usually be modified\n",
      " 3. private variables: variables that *are be callable and can be set only internally \n",
      " 4. public methods: methods that will be called either internally or externally\n",
      " 5. private methods: methods that *can be called internally\n",
      " \n",
      "_* privacy in the C/C++ sense does not exist in Python because you will always be able to access these externally, even if it is a bit more complicated. The privacy is rather here a coding convention._\n",
      "\n",
      "The difference between a normal method and the class method is that the class method will generally act on or take as input attributes of the class. They do not have to be specified in the arguments since the method will take the `self` as first argument.\n",
      "\n",
      "This lecture will teach you \n",
      " - how to create a class (`__init__`, `self`),\n",
      " - how to use public and private attributes, \n",
      " - the concept of class inheritance."
     ]
    },
    {
     "cell_type": "markdown",
     "metadata": {},
     "source": [
      "## Simple class\n",
      "\n",
      "In this example, we have a sentence that has to be printed several times. We create an object to store the sentence and print it on demand."
     ]
    },
    {
     "cell_type": "code",
     "collapsed": false,
     "input": [
      "from __future__ import print_function, division\n",
      "\n",
      "# By convention a class name is Capitalized\n",
      "class MySentence(object):\n",
      "    \"\"\"\n",
      "    This is an example class with one attribute and one method.\n",
      "    \n",
      "    The class takes a sentence as input and can print the sentence.\n",
      "        \n",
      "    Attributes\n",
      "    ----------\n",
      "    sentence: str\n",
      "        The sentence to be printed\n",
      "    \n",
      "    Methods\n",
      "    -------\n",
      "    print_sentence()\n",
      "        Print the sentence\n",
      "\n",
      "    \"\"\"\n",
      "    def __init__(self, sentence):\n",
      "        \"\"\"The initialization method takes a single string as input\"\"\"\n",
      "        self.sentence = sentence\n",
      "           \n",
      "    def print_sentence(self):\n",
      "        \"\"\"Print the sentence\"\"\"\n",
      "        print(self.sentence)"
     ],
     "language": "python",
     "metadata": {},
     "outputs": []
    },
    {
     "cell_type": "code",
     "collapsed": false,
     "input": [
      "# Get the docstring of a class\n",
      "MySentence?  # = print(MySentence.__doc__)"
     ],
     "language": "python",
     "metadata": {},
     "outputs": []
    },
    {
     "cell_type": "code",
     "collapsed": false,
     "input": [
      "# Initialize the class\n",
      "test = MySentence(\"Il fait beau aujourd'hui\")"
     ],
     "language": "python",
     "metadata": {},
     "outputs": []
    },
    {
     "cell_type": "code",
     "collapsed": false,
     "input": [
      "# Use the class method\n",
      "test.print_sentence()"
     ],
     "language": "python",
     "metadata": {},
     "outputs": []
    },
    {
     "cell_type": "code",
     "collapsed": false,
     "input": [
      "# The sentence can be accessed externally\n",
      "phrase = test.sentence\n",
      "print(phrase)"
     ],
     "language": "python",
     "metadata": {},
     "outputs": []
    },
    {
     "cell_type": "markdown",
     "metadata": {},
     "source": [
      "## Simple class (extended version)\n",
      "\n",
      "In this very similar example, we have a sentence that has to be printed several times, and we want to record the number of times is has been printed. There are two attributes, the sentence and the counter. While the sentence could be accessed and/or modified, the counter should not be accessible, we thus set it private by adding an underscore `_` in front of it.\n",
      "After the `__init__` method that take a sentence as input and will set the counter to 0, we need a method to print the sentence and a method to print the status of the counter. Both of them have to be public. While we could increment the counter inside the `print_sentence` method, we create a separate private method that does the job, but that cannot be accessed externally."
     ]
    },
    {
     "cell_type": "code",
     "collapsed": false,
     "input": [
      "from __future__ import print_function, division\n",
      "\n",
      "# By convention a class name is Capitalized\n",
      "class MySentence2(object):\n",
      "    \"\"\"\n",
      "    This is an example class with two attributes and three methods.\n",
      "    \n",
      "    The class takes a sentence as input and can print the sentence\n",
      "    and the number of times the sentence has been printed.\n",
      "    \n",
      "    Attributes\n",
      "    ----------\n",
      "    sentence: str\n",
      "        The sentence to be printed\n",
      "    _counter: int, private\n",
      "        The number of times the sentence has been printed out\n",
      "    \n",
      "    Methods\n",
      "    -------\n",
      "    print_sentence()\n",
      "        Print the sentence\n",
      "    print_counts()\n",
      "        Print the counter\n",
      "    _add_count(), private\n",
      "        Add one to the counter\n",
      "    \n",
      "    \"\"\"\n",
      "    def __init__(self, sentence):\n",
      "        \"\"\"The initialization method takes a single string as input\"\"\"\n",
      "        self.sentence = sentence\n",
      "        self._counter = 0\n",
      "           \n",
      "    def print_sentence(self):\n",
      "        \"\"\"Print the sentence and increment counter\"\"\"\n",
      "        print(self.sentence)\n",
      "        self._add_count()\n",
      "    \n",
      "    def print_counts(self):\n",
      "        \"\"\"Print the counter\"\"\"\n",
      "        if self._counter == 0:\n",
      "            print(\"The sentence has not been printed yet\")\n",
      "        elif self._counter == 1:\n",
      "            print(\"The sentence has been printed once\")\n",
      "        else:\n",
      "            print(\"The sentence has been printed {} times\".format(self._counter))\n",
      "        \n",
      "    def _add_count(self):\n",
      "        \"\"\"Add 1 to the counter\"\"\"\n",
      "        self._counter += 1"
     ],
     "language": "python",
     "metadata": {},
     "outputs": []
    },
    {
     "cell_type": "code",
     "collapsed": false,
     "input": [
      "# Initialize the class\n",
      "test2 = MySentence2(\"Il fait beau aujourd'hui\")\n",
      "# Retrive the public attribute of the class and print it\n",
      "print(test2.sentence)"
     ],
     "language": "python",
     "metadata": {},
     "outputs": []
    },
    {
     "cell_type": "code",
     "collapsed": false,
     "input": [
      "# Then print the counter\n",
      "test2.print_counts()\n",
      "# The value is still 0 since the sentence has been printed externally, not using the class method print_sentence"
     ],
     "language": "python",
     "metadata": {},
     "outputs": []
    },
    {
     "cell_type": "code",
     "collapsed": false,
     "input": [
      "# Print the sentence once\n",
      "test2.print_sentence()\n",
      "# See if the counts have been incremented\n",
      "test2.print_counts()"
     ],
     "language": "python",
     "metadata": {},
     "outputs": []
    },
    {
     "cell_type": "code",
     "collapsed": false,
     "input": [
      "# A few more prints\n",
      "test2.print_sentence()\n",
      "test2.print_counts()\n",
      "test2.print_sentence()\n",
      "test2.print_counts()"
     ],
     "language": "python",
     "metadata": {},
     "outputs": []
    },
    {
     "cell_type": "markdown",
     "metadata": {},
     "source": [
      "---\n",
      "## Class inheritance\n",
      "\n",
      "One of the key features of a class is the inheritance. A class can be defined as a default object or as a child (also called a _subclass_) of an existing class (called a _base class_). The subclass will inherit the methods defined in the base class (these methods can be overwritten or completed if necessary) while adding more features. It can be seen as branching out from generic object."
     ]
    },
    {
     "cell_type": "markdown",
     "metadata": {},
     "source": [
      "The second example above `MySentence2` can be seen as a subclass of the base class `MySentence`, with a counter added. The concept of inheritance will thus be exposed by rewritting the `MySentence2` class as a subclass of `MySentence`. \n",
      "\n",
      "The main steps of the subclass definition are:\n",
      " - to put the base class as argument of the new subclass,\n",
      " - calls the base class methods can be done with two different syntaxes (what's in between brackets is optional)\n",
      "   - base_class_name.base_class_method(self[, arguments])\n",
      "   - super(subclass_name, self).base_class_method([arguments])\n",
      " - a method can be overwritten (with exact same spelling) in the subclass."
     ]
    },
    {
     "cell_type": "code",
     "collapsed": false,
     "input": [
      "class MySentenceCounter(MySentence):\n",
      "    \"\"\"\n",
      "    This is an example of a subclass of the base class MySentence.\n",
      "    \n",
      "    The class takes a sentence as input and can print the sentence\n",
      "    and the number of times the sentence has been printed.\n",
      "    \n",
      "    Attributes\n",
      "    ----------\n",
      "    sentence: str\n",
      "        The sentence to be printed\n",
      "    _counter: int, private\n",
      "        The number of times the sentence has been printed out\n",
      "    \n",
      "    Methods\n",
      "    -------\n",
      "    print_sentence()\n",
      "        Print the sentence\n",
      "    print_counts()\n",
      "        Print the counter\n",
      "    _add_count(), private\n",
      "        Add one to the counter\n",
      "    \n",
      "    \"\"\"\n",
      "    # method overwritting\n",
      "    def __init__(self, sentence):\n",
      "        \"\"\"The initialization method takes a single string as input\"\"\"\n",
      "        # self.sentence is initialized in the base class\n",
      "        MySentence.__init__(self, sentence)  # or super(MySentenceCounter, self).__init__(sentence)\n",
      "        self._counter = 0\n",
      "        \n",
      "    # method overwritting\n",
      "    def print_sentence(self):\n",
      "        \"\"\"Print the sentence and increment counter\"\"\"\n",
      "        # call to the base class method with self as argument\n",
      "        MySentence.print_sentence(self)  # or super(MySentenceCounter, self).print_sentence()\n",
      "        self._add_count()\n",
      "    \n",
      "    # new method\n",
      "    def print_counts(self):\n",
      "        \"\"\"Print the counter\"\"\"\n",
      "        if self._counter == 0:\n",
      "            print(\"The sentence has not been printed yet\")\n",
      "        elif self._counter == 1:\n",
      "            print(\"The sentence has been printed once\")\n",
      "        else:\n",
      "            print(\"The sentence has been printed {} times\".format(self._counter))\n",
      "        \n",
      "    # new method\n",
      "    def _add_count(self):\n",
      "        \"\"\"Add 1 to the counter\"\"\"\n",
      "        self._counter += 1"
     ],
     "language": "python",
     "metadata": {},
     "outputs": []
    }
   ],
   "metadata": {}
  }
 ]
}